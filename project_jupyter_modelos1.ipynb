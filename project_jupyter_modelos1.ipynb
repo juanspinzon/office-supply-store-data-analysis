{
 "cells": [
  {
   "cell_type": "markdown",
   "metadata": {},
   "source": [
    "# Capstone Project: Office Supply Store Data Analysis"
   ]
  },
  {
   "cell_type": "markdown",
   "metadata": {},
   "source": [
    "## Information about the Project"
   ]
  },
  {
   "cell_type": "markdown",
   "metadata": {},
   "source": [
    "An office supply store tests a telemarketing campaign to its existing business customers. The company targeted approximately 16,000 customers for the campaign."
   ]
  },
  {
   "cell_type": "markdown",
   "metadata": {},
   "source": [
    "## Capstone objectives\n",
    "- Profile customers that responded to the campaign\n",
    "- Develop models to identify most profitable customers\n",
    "\n",
    "    1. Develop a model to estimate the probability of responding to this campaign\n",
    "    2. Develop a model to estimate the size of the transaction"
   ]
  },
  {
   "cell_type": "code",
   "execution_count": 1,
   "metadata": {},
   "outputs": [],
   "source": [
    "import numpy as np\n",
    "import pandas as pd\n",
    "from datetime import datetime\n",
    "import matplotlib.pyplot as plt\n",
    "import seaborn as sn\n",
    "from sklearn.model_selection import train_test_split\n",
    "import warnings\n",
    "warnings.filterwarnings('ignore')"
   ]
  },
  {
   "cell_type": "code",
   "execution_count": 2,
   "metadata": {},
   "outputs": [],
   "source": [
    "pd.set_option('display.max_columns', 50)"
   ]
  },
  {
   "cell_type": "markdown",
   "metadata": {},
   "source": [
    "### Import data"
   ]
  },
  {
   "cell_type": "code",
   "execution_count": 3,
   "metadata": {},
   "outputs": [],
   "source": [
    "df = pd.read_excel('Office Supply Campaign ResultS 7-23-19.xlsx')"
   ]
  },
  {
   "cell_type": "markdown",
   "metadata": {},
   "source": [
    "### Initial exploration"
   ]
  },
  {
   "cell_type": "code",
   "execution_count": 4,
   "metadata": {},
   "outputs": [
    {
     "data": {
      "text/html": [
       "<div>\n",
       "<style scoped>\n",
       "    .dataframe tbody tr th:only-of-type {\n",
       "        vertical-align: middle;\n",
       "    }\n",
       "\n",
       "    .dataframe tbody tr th {\n",
       "        vertical-align: top;\n",
       "    }\n",
       "\n",
       "    .dataframe thead th {\n",
       "        text-align: right;\n",
       "    }\n",
       "</style>\n",
       "<table border=\"1\" class=\"dataframe\">\n",
       "  <thead>\n",
       "    <tr style=\"text-align: right;\">\n",
       "      <th></th>\n",
       "      <th>Customer Number</th>\n",
       "      <th>Campaign Period Sales</th>\n",
       "      <th>Historical Sales Volume</th>\n",
       "      <th>Date of First Purchase</th>\n",
       "      <th>Number of Prior Year Transactions</th>\n",
       "      <th>Do Not Direct Mail Solicit</th>\n",
       "      <th>Do Not Email</th>\n",
       "      <th>Do Not Telemarket</th>\n",
       "      <th>Repurchase Method</th>\n",
       "      <th>Last Transaction Channel</th>\n",
       "      <th>Desk</th>\n",
       "      <th>Executive Chair</th>\n",
       "      <th>Standard Chair</th>\n",
       "      <th>Monitor</th>\n",
       "      <th>Printer</th>\n",
       "      <th>Computer</th>\n",
       "      <th>Insurance</th>\n",
       "      <th>Toner</th>\n",
       "      <th>Office Supplies</th>\n",
       "      <th>Number of Employees</th>\n",
       "      <th>Language</th>\n",
       "    </tr>\n",
       "  </thead>\n",
       "  <tbody>\n",
       "    <tr>\n",
       "      <th>0</th>\n",
       "      <td>86734.0</td>\n",
       "      <td>238.704762</td>\n",
       "      <td>146803.428571</td>\n",
       "      <td>1968-10-01</td>\n",
       "      <td>15.0</td>\n",
       "      <td>0.0</td>\n",
       "      <td>0.0</td>\n",
       "      <td>0.0</td>\n",
       "      <td>AUTO RENEW</td>\n",
       "      <td>AUTO RENEW</td>\n",
       "      <td>N</td>\n",
       "      <td>N</td>\n",
       "      <td>N</td>\n",
       "      <td>N</td>\n",
       "      <td>N</td>\n",
       "      <td>N</td>\n",
       "      <td>Y</td>\n",
       "      <td>N</td>\n",
       "      <td>Y</td>\n",
       "      <td>6-10</td>\n",
       "      <td>English</td>\n",
       "    </tr>\n",
       "    <tr>\n",
       "      <th>1</th>\n",
       "      <td>97098.0</td>\n",
       "      <td>281.680000</td>\n",
       "      <td>439984.160000</td>\n",
       "      <td>1981-06-15</td>\n",
       "      <td>22.0</td>\n",
       "      <td>0.0</td>\n",
       "      <td>0.0</td>\n",
       "      <td>0.0</td>\n",
       "      <td>NOTICE</td>\n",
       "      <td>MAIL</td>\n",
       "      <td>N</td>\n",
       "      <td>N</td>\n",
       "      <td>N</td>\n",
       "      <td>N</td>\n",
       "      <td>N</td>\n",
       "      <td>N</td>\n",
       "      <td>N</td>\n",
       "      <td>N</td>\n",
       "      <td>Y</td>\n",
       "      <td>11-50</td>\n",
       "      <td>English</td>\n",
       "    </tr>\n",
       "    <tr>\n",
       "      <th>2</th>\n",
       "      <td>100836.0</td>\n",
       "      <td>432.857143</td>\n",
       "      <td>970465.714286</td>\n",
       "      <td>1962-11-01</td>\n",
       "      <td>19.0</td>\n",
       "      <td>0.0</td>\n",
       "      <td>0.0</td>\n",
       "      <td>0.0</td>\n",
       "      <td>NOTICE</td>\n",
       "      <td>MAIL</td>\n",
       "      <td>N</td>\n",
       "      <td>N</td>\n",
       "      <td>N</td>\n",
       "      <td>N</td>\n",
       "      <td>N</td>\n",
       "      <td>N</td>\n",
       "      <td>N</td>\n",
       "      <td>N</td>\n",
       "      <td>Y</td>\n",
       "      <td>6-10</td>\n",
       "      <td>English</td>\n",
       "    </tr>\n",
       "  </tbody>\n",
       "</table>\n",
       "</div>"
      ],
      "text/plain": [
       "   Customer Number  Campaign Period Sales  Historical Sales Volume  \\\n",
       "0          86734.0             238.704762            146803.428571   \n",
       "1          97098.0             281.680000            439984.160000   \n",
       "2         100836.0             432.857143            970465.714286   \n",
       "\n",
       "  Date of First Purchase  Number of Prior Year Transactions  \\\n",
       "0             1968-10-01                               15.0   \n",
       "1             1981-06-15                               22.0   \n",
       "2             1962-11-01                               19.0   \n",
       "\n",
       "   Do Not Direct Mail Solicit  Do Not Email  Do Not Telemarket  \\\n",
       "0                         0.0           0.0                0.0   \n",
       "1                         0.0           0.0                0.0   \n",
       "2                         0.0           0.0                0.0   \n",
       "\n",
       "  Repurchase Method Last Transaction Channel Desk Executive Chair  \\\n",
       "0        AUTO RENEW               AUTO RENEW    N               N   \n",
       "1            NOTICE                     MAIL    N               N   \n",
       "2            NOTICE                     MAIL    N               N   \n",
       "\n",
       "  Standard Chair Monitor Printer Computer Insurance Toner Office Supplies  \\\n",
       "0              N       N       N        N         Y     N               Y   \n",
       "1              N       N       N        N         N     N               Y   \n",
       "2              N       N       N        N         N     N               Y   \n",
       "\n",
       "  Number of Employees Language  \n",
       "0                6-10  English  \n",
       "1               11-50  English  \n",
       "2                6-10  English  "
      ]
     },
     "execution_count": 4,
     "metadata": {},
     "output_type": "execute_result"
    }
   ],
   "source": [
    "df.head(3)"
   ]
  },
  {
   "cell_type": "code",
   "execution_count": 5,
   "metadata": {},
   "outputs": [
    {
     "data": {
      "text/plain": [
       "0"
      ]
     },
     "execution_count": 5,
     "metadata": {},
     "output_type": "execute_result"
    }
   ],
   "source": [
    "df['Customer Number'].duplicated().sum()"
   ]
  },
  {
   "cell_type": "code",
   "execution_count": 6,
   "metadata": {},
   "outputs": [],
   "source": [
    "df.columns = [col.replace(' ', '_').lower() for col in df.columns]"
   ]
  },
  {
   "cell_type": "code",
   "execution_count": 7,
   "metadata": {},
   "outputs": [
    {
     "data": {
      "text/plain": [
       "Index(['customer_number', 'campaign_period_sales', 'historical_sales_volume',\n",
       "       'date_of_first_purchase', 'number_of_prior_year_transactions',\n",
       "       'do_not_direct_mail_solicit', 'do_not_email', 'do_not_telemarket',\n",
       "       'repurchase_method', 'last_transaction_channel', 'desk',\n",
       "       'executive_chair', 'standard_chair', 'monitor', 'printer', 'computer',\n",
       "       'insurance', 'toner', 'office_supplies', 'number_of_employees',\n",
       "       'language'],\n",
       "      dtype='object')"
      ]
     },
     "execution_count": 7,
     "metadata": {},
     "output_type": "execute_result"
    }
   ],
   "source": [
    "df.columns"
   ]
  },
  {
   "cell_type": "code",
   "execution_count": 8,
   "metadata": {},
   "outputs": [
    {
     "data": {
      "text/plain": [
       "(16173, 21)"
      ]
     },
     "execution_count": 8,
     "metadata": {},
     "output_type": "execute_result"
    }
   ],
   "source": [
    "df.shape"
   ]
  },
  {
   "cell_type": "code",
   "execution_count": 9,
   "metadata": {},
   "outputs": [
    {
     "data": {
      "text/plain": [
       "customer_number                             float64\n",
       "campaign_period_sales                       float64\n",
       "historical_sales_volume                     float64\n",
       "date_of_first_purchase               datetime64[ns]\n",
       "number_of_prior_year_transactions           float64\n",
       "do_not_direct_mail_solicit                  float64\n",
       "do_not_email                                float64\n",
       "do_not_telemarket                           float64\n",
       "repurchase_method                            object\n",
       "last_transaction_channel                     object\n",
       "desk                                         object\n",
       "executive_chair                              object\n",
       "standard_chair                               object\n",
       "monitor                                      object\n",
       "printer                                      object\n",
       "computer                                     object\n",
       "insurance                                    object\n",
       "toner                                        object\n",
       "office_supplies                              object\n",
       "number_of_employees                          object\n",
       "language                                     object\n",
       "dtype: object"
      ]
     },
     "execution_count": 9,
     "metadata": {},
     "output_type": "execute_result"
    }
   ],
   "source": [
    "df.dtypes"
   ]
  },
  {
   "cell_type": "code",
   "execution_count": 10,
   "metadata": {},
   "outputs": [
    {
     "data": {
      "text/plain": [
       "customer_number                         1\n",
       "campaign_period_sales                   1\n",
       "historical_sales_volume                 1\n",
       "date_of_first_purchase                  1\n",
       "number_of_prior_year_transactions       1\n",
       "do_not_direct_mail_solicit              1\n",
       "do_not_email                            1\n",
       "do_not_telemarket                       1\n",
       "repurchase_method                       1\n",
       "last_transaction_channel              443\n",
       "desk                                    0\n",
       "executive_chair                         2\n",
       "standard_chair                          2\n",
       "monitor                                 2\n",
       "printer                                 2\n",
       "computer                                1\n",
       "insurance                               3\n",
       "toner                                   3\n",
       "office_supplies                         1\n",
       "number_of_employees                     3\n",
       "language                             4472\n",
       "dtype: int64"
      ]
     },
     "execution_count": 10,
     "metadata": {},
     "output_type": "execute_result"
    }
   ],
   "source": [
    "df.isnull().sum()"
   ]
  },
  {
   "cell_type": "code",
   "execution_count": 11,
   "metadata": {},
   "outputs": [
    {
     "data": {
      "text/html": [
       "<div>\n",
       "<style scoped>\n",
       "    .dataframe tbody tr th:only-of-type {\n",
       "        vertical-align: middle;\n",
       "    }\n",
       "\n",
       "    .dataframe tbody tr th {\n",
       "        vertical-align: top;\n",
       "    }\n",
       "\n",
       "    .dataframe thead th {\n",
       "        text-align: right;\n",
       "    }\n",
       "</style>\n",
       "<table border=\"1\" class=\"dataframe\">\n",
       "  <thead>\n",
       "    <tr style=\"text-align: right;\">\n",
       "      <th></th>\n",
       "      <th>customer_number</th>\n",
       "      <th>campaign_period_sales</th>\n",
       "      <th>historical_sales_volume</th>\n",
       "      <th>date_of_first_purchase</th>\n",
       "      <th>number_of_prior_year_transactions</th>\n",
       "      <th>do_not_direct_mail_solicit</th>\n",
       "      <th>do_not_email</th>\n",
       "      <th>do_not_telemarket</th>\n",
       "      <th>repurchase_method</th>\n",
       "      <th>last_transaction_channel</th>\n",
       "      <th>desk</th>\n",
       "      <th>executive_chair</th>\n",
       "      <th>standard_chair</th>\n",
       "      <th>monitor</th>\n",
       "      <th>printer</th>\n",
       "      <th>computer</th>\n",
       "      <th>insurance</th>\n",
       "      <th>toner</th>\n",
       "      <th>office_supplies</th>\n",
       "      <th>number_of_employees</th>\n",
       "      <th>language</th>\n",
       "    </tr>\n",
       "  </thead>\n",
       "  <tbody>\n",
       "    <tr>\n",
       "      <th>16172</th>\n",
       "      <td>NaN</td>\n",
       "      <td>NaN</td>\n",
       "      <td>NaN</td>\n",
       "      <td>NaT</td>\n",
       "      <td>NaN</td>\n",
       "      <td>NaN</td>\n",
       "      <td>NaN</td>\n",
       "      <td>NaN</td>\n",
       "      <td>NaN</td>\n",
       "      <td>NaN</td>\n",
       "      <td>911</td>\n",
       "      <td>NaN</td>\n",
       "      <td>NaN</td>\n",
       "      <td>NaN</td>\n",
       "      <td>NaN</td>\n",
       "      <td>NaN</td>\n",
       "      <td>NaN</td>\n",
       "      <td>NaN</td>\n",
       "      <td>NaN</td>\n",
       "      <td>NaN</td>\n",
       "      <td>NaN</td>\n",
       "    </tr>\n",
       "  </tbody>\n",
       "</table>\n",
       "</div>"
      ],
      "text/plain": [
       "       customer_number  campaign_period_sales  historical_sales_volume  \\\n",
       "16172              NaN                    NaN                      NaN   \n",
       "\n",
       "      date_of_first_purchase  number_of_prior_year_transactions  \\\n",
       "16172                    NaT                                NaN   \n",
       "\n",
       "       do_not_direct_mail_solicit  do_not_email  do_not_telemarket  \\\n",
       "16172                         NaN           NaN                NaN   \n",
       "\n",
       "      repurchase_method last_transaction_channel desk executive_chair  \\\n",
       "16172               NaN                      NaN  911             NaN   \n",
       "\n",
       "      standard_chair monitor printer computer insurance toner office_supplies  \\\n",
       "16172            NaN     NaN     NaN      NaN       NaN   NaN             NaN   \n",
       "\n",
       "      number_of_employees language  \n",
       "16172                 NaN      NaN  "
      ]
     },
     "execution_count": 11,
     "metadata": {},
     "output_type": "execute_result"
    }
   ],
   "source": [
    "df[df.campaign_period_sales.isnull()]"
   ]
  },
  {
   "cell_type": "code",
   "execution_count": 12,
   "metadata": {},
   "outputs": [
    {
     "data": {
      "text/plain": [
       "0"
      ]
     },
     "metadata": {},
     "output_type": "display_data"
    },
    {
     "data": {
      "text/plain": [
       "(16172, 21)"
      ]
     },
     "execution_count": 12,
     "metadata": {},
     "output_type": "execute_result"
    }
   ],
   "source": [
    "# target variable has a null value, it will be dropped\n",
    "df = df[df['campaign_period_sales'].notnull()].reset_index(drop=True)\n",
    "display(df['campaign_period_sales'].isnull().sum())\n",
    "df.shape"
   ]
  },
  {
   "cell_type": "code",
   "execution_count": 13,
   "metadata": {},
   "outputs": [
    {
     "data": {
      "image/png": "[encoded data removed]",
      "text/plain": [
       "<Figure size 432x288 with 2 Axes>"
      ]
     },
     "metadata": {
      "needs_background": "light"
     },
     "output_type": "display_data"
    }
   ],
   "source": [
    "#check for correlations\n",
    "sn.heatmap(df.corr(), cmap='Blues', annot=True)\n",
    "plt.show()"
   ]
  },
  {
   "cell_type": "code",
   "execution_count": 14,
   "metadata": {
    "scrolled": true
   },
   "outputs": [
    {
     "data": {
      "text/plain": [
       "<matplotlib.axes._subplots.AxesSubplot at 0x29703fd9b08>"
      ]
     },
     "execution_count": 14,
     "metadata": {},
     "output_type": "execute_result"
    },
    {
     "data": {
      "image/png": "[encoded data removed]",
      "text/plain": [
       "<Figure size 432x288 with 1 Axes>"
      ]
     },
     "metadata": {
      "needs_background": "light"
     },
     "output_type": "display_data"
    }
   ],
   "source": [
    "# check target variable - Campaign Period Sales\n",
    "df['campaign_period_sales'].hist(bins=30)"
   ]
  },
  {
   "cell_type": "code",
   "execution_count": null,
   "metadata": {},
   "outputs": [],
   "source": [
    "fig, ax = plt.subplots(1,1, figsize=(8, 6))\n",
    "ax.h(x=y_test, y=model2_gbr_preds_test, alpha=0.4);\n",
    "ax.plot([0, 10000],[0, 10000])\n",
    "ax.set_title(\"Actual vs Predicted - Regression\", fontsize=16)\n",
    "# ax.set_xlabel(\"Actual\")\n",
    "# ax.set_ylabel(\"Predicted\");\n",
    "\n",
    "ax.set(title=\"Actual vs Predicted - Regression\", xlabel='Actual', ylabel='Predicted');"
   ]
  },
  {
   "cell_type": "code",
   "execution_count": 15,
   "metadata": {},
   "outputs": [
    {
     "data": {
      "text/plain": [
       "count    16172.000000\n",
       "mean       245.896967\n",
       "std        720.317450\n",
       "min       -566.500000\n",
       "25%          0.000000\n",
       "50%          0.000000\n",
       "75%        145.669048\n",
       "max       8936.850000\n",
       "Name: campaign_period_sales, dtype: float64"
      ]
     },
     "execution_count": 15,
     "metadata": {},
     "output_type": "execute_result"
    }
   ],
   "source": [
    "# # check summary stats of target variable - Campaign Period Sales (it has some negative values)\n",
    "df['campaign_period_sales'].describe()"
   ]
  },
  {
   "cell_type": "code",
   "execution_count": 16,
   "metadata": {},
   "outputs": [
    {
     "data": {
      "text/html": [
       "<div>\n",
       "<style scoped>\n",
       "    .dataframe tbody tr th:only-of-type {\n",
       "        vertical-align: middle;\n",
       "    }\n",
       "\n",
       "    .dataframe tbody tr th {\n",
       "        vertical-align: top;\n",
       "    }\n",
       "\n",
       "    .dataframe thead th {\n",
       "        text-align: right;\n",
       "    }\n",
       "</style>\n",
       "<table border=\"1\" class=\"dataframe\">\n",
       "  <thead>\n",
       "    <tr style=\"text-align: right;\">\n",
       "      <th></th>\n",
       "      <th>customer_number</th>\n",
       "      <th>campaign_period_sales</th>\n",
       "      <th>historical_sales_volume</th>\n",
       "      <th>date_of_first_purchase</th>\n",
       "      <th>number_of_prior_year_transactions</th>\n",
       "      <th>do_not_direct_mail_solicit</th>\n",
       "      <th>do_not_email</th>\n",
       "      <th>do_not_telemarket</th>\n",
       "      <th>repurchase_method</th>\n",
       "      <th>last_transaction_channel</th>\n",
       "      <th>desk</th>\n",
       "      <th>executive_chair</th>\n",
       "      <th>standard_chair</th>\n",
       "      <th>monitor</th>\n",
       "      <th>printer</th>\n",
       "      <th>computer</th>\n",
       "      <th>insurance</th>\n",
       "      <th>toner</th>\n",
       "      <th>office_supplies</th>\n",
       "      <th>number_of_employees</th>\n",
       "      <th>language</th>\n",
       "    </tr>\n",
       "  </thead>\n",
       "  <tbody>\n",
       "    <tr>\n",
       "      <th>5783</th>\n",
       "      <td>12970830.0</td>\n",
       "      <td>-119.333333</td>\n",
       "      <td>69223.560000</td>\n",
       "      <td>1972-04-15</td>\n",
       "      <td>5.0</td>\n",
       "      <td>1.0</td>\n",
       "      <td>1.0</td>\n",
       "      <td>1.0</td>\n",
       "      <td>NOTICE</td>\n",
       "      <td>WEB</td>\n",
       "      <td>N</td>\n",
       "      <td>N</td>\n",
       "      <td>N</td>\n",
       "      <td>N</td>\n",
       "      <td>N</td>\n",
       "      <td>N</td>\n",
       "      <td>N</td>\n",
       "      <td>N</td>\n",
       "      <td>N</td>\n",
       "      <td></td>\n",
       "      <td>NaN</td>\n",
       "    </tr>\n",
       "    <tr>\n",
       "      <th>5919</th>\n",
       "      <td>13276523.0</td>\n",
       "      <td>-140.960000</td>\n",
       "      <td>500408.000000</td>\n",
       "      <td>1976-10-15</td>\n",
       "      <td>25.0</td>\n",
       "      <td>0.0</td>\n",
       "      <td>1.0</td>\n",
       "      <td>0.0</td>\n",
       "      <td>NOTICE</td>\n",
       "      <td>MAIL</td>\n",
       "      <td>N</td>\n",
       "      <td>N</td>\n",
       "      <td>N</td>\n",
       "      <td>N</td>\n",
       "      <td>N</td>\n",
       "      <td>N</td>\n",
       "      <td>N</td>\n",
       "      <td>N</td>\n",
       "      <td>Y</td>\n",
       "      <td>11-50</td>\n",
       "      <td>English</td>\n",
       "    </tr>\n",
       "    <tr>\n",
       "      <th>6135</th>\n",
       "      <td>13753769.0</td>\n",
       "      <td>-14.320000</td>\n",
       "      <td>24057.600000</td>\n",
       "      <td>1969-01-01</td>\n",
       "      <td>20.0</td>\n",
       "      <td>0.0</td>\n",
       "      <td>0.0</td>\n",
       "      <td>0.0</td>\n",
       "      <td>NOTICE</td>\n",
       "      <td>WEB</td>\n",
       "      <td>N</td>\n",
       "      <td>N</td>\n",
       "      <td>N</td>\n",
       "      <td>N</td>\n",
       "      <td>N</td>\n",
       "      <td>N</td>\n",
       "      <td>N</td>\n",
       "      <td>N</td>\n",
       "      <td>Y</td>\n",
       "      <td>1-5</td>\n",
       "      <td>English</td>\n",
       "    </tr>\n",
       "    <tr>\n",
       "      <th>10689</th>\n",
       "      <td>23849132.0</td>\n",
       "      <td>-421.833333</td>\n",
       "      <td>13543.210000</td>\n",
       "      <td>2006-05-15</td>\n",
       "      <td>3.0</td>\n",
       "      <td>1.0</td>\n",
       "      <td>1.0</td>\n",
       "      <td>1.0</td>\n",
       "      <td>NOTICE</td>\n",
       "      <td>MAIL</td>\n",
       "      <td>N</td>\n",
       "      <td>N</td>\n",
       "      <td>N</td>\n",
       "      <td>N</td>\n",
       "      <td>N</td>\n",
       "      <td>N</td>\n",
       "      <td>N</td>\n",
       "      <td>N</td>\n",
       "      <td>N</td>\n",
       "      <td></td>\n",
       "      <td>NaN</td>\n",
       "    </tr>\n",
       "    <tr>\n",
       "      <th>11934</th>\n",
       "      <td>26677728.0</td>\n",
       "      <td>-161.166667</td>\n",
       "      <td>27398.333333</td>\n",
       "      <td>1993-01-15</td>\n",
       "      <td>10.0</td>\n",
       "      <td>0.0</td>\n",
       "      <td>1.0</td>\n",
       "      <td>0.0</td>\n",
       "      <td>NOTICE</td>\n",
       "      <td>MAIL</td>\n",
       "      <td>N</td>\n",
       "      <td>N</td>\n",
       "      <td>N</td>\n",
       "      <td>N</td>\n",
       "      <td>N</td>\n",
       "      <td>N</td>\n",
       "      <td>N</td>\n",
       "      <td>N</td>\n",
       "      <td>N</td>\n",
       "      <td></td>\n",
       "      <td>NaN</td>\n",
       "    </tr>\n",
       "    <tr>\n",
       "      <th>15840</th>\n",
       "      <td>56184607.0</td>\n",
       "      <td>-566.500000</td>\n",
       "      <td>48152.670000</td>\n",
       "      <td>2014-10-31</td>\n",
       "      <td>1.0</td>\n",
       "      <td>1.0</td>\n",
       "      <td>1.0</td>\n",
       "      <td>1.0</td>\n",
       "      <td>NOTICE</td>\n",
       "      <td>WEB</td>\n",
       "      <td>N</td>\n",
       "      <td>N</td>\n",
       "      <td>N</td>\n",
       "      <td>N</td>\n",
       "      <td>N</td>\n",
       "      <td>N</td>\n",
       "      <td>N</td>\n",
       "      <td>N</td>\n",
       "      <td>N</td>\n",
       "      <td></td>\n",
       "      <td>NaN</td>\n",
       "    </tr>\n",
       "  </tbody>\n",
       "</table>\n",
       "</div>"
      ],
      "text/plain": [
       "       customer_number  campaign_period_sales  historical_sales_volume  \\\n",
       "5783        12970830.0            -119.333333             69223.560000   \n",
       "5919        13276523.0            -140.960000            500408.000000   \n",
       "6135        13753769.0             -14.320000             24057.600000   \n",
       "10689       23849132.0            -421.833333             13543.210000   \n",
       "11934       26677728.0            -161.166667             27398.333333   \n",
       "15840       56184607.0            -566.500000             48152.670000   \n",
       "\n",
       "      date_of_first_purchase  number_of_prior_year_transactions  \\\n",
       "5783              1972-04-15                                5.0   \n",
       "5919              1976-10-15                               25.0   \n",
       "6135              1969-01-01                               20.0   \n",
       "10689             2006-05-15                                3.0   \n",
       "11934             1993-01-15                               10.0   \n",
       "15840             2014-10-31                                1.0   \n",
       "\n",
       "       do_not_direct_mail_solicit  do_not_email  do_not_telemarket  \\\n",
       "5783                          1.0           1.0                1.0   \n",
       "5919                          0.0           1.0                0.0   \n",
       "6135                          0.0           0.0                0.0   \n",
       "10689                         1.0           1.0                1.0   \n",
       "11934                         0.0           1.0                0.0   \n",
       "15840                         1.0           1.0                1.0   \n",
       "\n",
       "      repurchase_method last_transaction_channel desk executive_chair  \\\n",
       "5783             NOTICE                      WEB    N               N   \n",
       "5919             NOTICE                     MAIL    N               N   \n",
       "6135             NOTICE                      WEB    N               N   \n",
       "10689            NOTICE                     MAIL    N               N   \n",
       "11934            NOTICE                     MAIL    N               N   \n",
       "15840            NOTICE                      WEB    N               N   \n",
       "\n",
       "      standard_chair monitor printer computer insurance toner office_supplies  \\\n",
       "5783               N       N       N        N         N     N               N   \n",
       "5919               N       N       N        N         N     N               Y   \n",
       "6135               N       N       N        N         N     N               Y   \n",
       "10689              N       N       N        N         N     N               N   \n",
       "11934              N       N       N        N         N     N               N   \n",
       "15840              N       N       N        N         N     N               N   \n",
       "\n",
       "      number_of_employees language  \n",
       "5783                           NaN  \n",
       "5919                11-50  English  \n",
       "6135                  1-5  English  \n",
       "10689                          NaN  \n",
       "11934                          NaN  \n",
       "15840                          NaN  "
      ]
     },
     "execution_count": 16,
     "metadata": {},
     "output_type": "execute_result"
    }
   ],
   "source": [
    "df.loc[(df['campaign_period_sales'] < 0), :]"
   ]
  },
  {
   "cell_type": "code",
   "execution_count": 17,
   "metadata": {},
   "outputs": [
    {
     "data": {
      "text/plain": [
       "<matplotlib.axes._subplots.AxesSubplot at 0x2970351f348>"
      ]
     },
     "execution_count": 17,
     "metadata": {},
     "output_type": "execute_result"
    },
    {
     "data": {
      "image/png": "[encoded data removed]",
      "text/plain": [
       "<Figure size 432x288 with 1 Axes>"
      ]
     },
     "metadata": {
      "needs_background": "light"
     },
     "output_type": "display_data"
    }
   ],
   "source": [
    "# checking Historical Sales Volume variable\n",
    "df['historical_sales_volume'].hist(bins=30)"
   ]
  },
  {
   "cell_type": "code",
   "execution_count": 18,
   "metadata": {},
   "outputs": [
    {
     "data": {
      "text/plain": [
       "count    1.617200e+04\n",
       "mean     6.716763e+05\n",
       "std      9.566271e+05\n",
       "min     -1.643031e+05\n",
       "25%      1.900188e+05\n",
       "50%      3.965039e+05\n",
       "75%      7.876159e+05\n",
       "max      3.441213e+07\n",
       "Name: historical_sales_volume, dtype: float64"
      ]
     },
     "execution_count": 18,
     "metadata": {},
     "output_type": "execute_result"
    }
   ],
   "source": [
    "df['historical_sales_volume'].describe()"
   ]
  },
  {
   "cell_type": "code",
   "execution_count": 19,
   "metadata": {},
   "outputs": [
    {
     "data": {
      "text/html": [
       "<div>\n",
       "<style scoped>\n",
       "    .dataframe tbody tr th:only-of-type {\n",
       "        vertical-align: middle;\n",
       "    }\n",
       "\n",
       "    .dataframe tbody tr th {\n",
       "        vertical-align: top;\n",
       "    }\n",
       "\n",
       "    .dataframe thead th {\n",
       "        text-align: right;\n",
       "    }\n",
       "</style>\n",
       "<table border=\"1\" class=\"dataframe\">\n",
       "  <thead>\n",
       "    <tr style=\"text-align: right;\">\n",
       "      <th></th>\n",
       "      <th>customer_number</th>\n",
       "      <th>campaign_period_sales</th>\n",
       "      <th>historical_sales_volume</th>\n",
       "      <th>date_of_first_purchase</th>\n",
       "      <th>number_of_prior_year_transactions</th>\n",
       "      <th>do_not_direct_mail_solicit</th>\n",
       "      <th>do_not_email</th>\n",
       "      <th>do_not_telemarket</th>\n",
       "      <th>repurchase_method</th>\n",
       "      <th>last_transaction_channel</th>\n",
       "      <th>desk</th>\n",
       "      <th>executive_chair</th>\n",
       "      <th>standard_chair</th>\n",
       "      <th>monitor</th>\n",
       "      <th>printer</th>\n",
       "      <th>computer</th>\n",
       "      <th>insurance</th>\n",
       "      <th>toner</th>\n",
       "      <th>office_supplies</th>\n",
       "      <th>number_of_employees</th>\n",
       "      <th>language</th>\n",
       "    </tr>\n",
       "  </thead>\n",
       "  <tbody>\n",
       "    <tr>\n",
       "      <th>2216</th>\n",
       "      <td>5125266.0</td>\n",
       "      <td>0.0</td>\n",
       "      <td>-126638.40</td>\n",
       "      <td>1995-10-01</td>\n",
       "      <td>18.0</td>\n",
       "      <td>0.0</td>\n",
       "      <td>0.0</td>\n",
       "      <td>0.0</td>\n",
       "      <td>NOTICE</td>\n",
       "      <td>MAIL</td>\n",
       "      <td>N</td>\n",
       "      <td>N</td>\n",
       "      <td>N</td>\n",
       "      <td>N</td>\n",
       "      <td>N</td>\n",
       "      <td>N</td>\n",
       "      <td>N</td>\n",
       "      <td>N</td>\n",
       "      <td>Y</td>\n",
       "      <td>1-5</td>\n",
       "      <td>English</td>\n",
       "    </tr>\n",
       "    <tr>\n",
       "      <th>6139</th>\n",
       "      <td>13758714.0</td>\n",
       "      <td>0.0</td>\n",
       "      <td>-20021.76</td>\n",
       "      <td>2015-07-22</td>\n",
       "      <td>16.0</td>\n",
       "      <td>1.0</td>\n",
       "      <td>0.0</td>\n",
       "      <td>1.0</td>\n",
       "      <td>NOTICE</td>\n",
       "      <td>WEB</td>\n",
       "      <td>N</td>\n",
       "      <td>N</td>\n",
       "      <td>N</td>\n",
       "      <td>N</td>\n",
       "      <td>N</td>\n",
       "      <td>N</td>\n",
       "      <td>N</td>\n",
       "      <td>N</td>\n",
       "      <td>Y</td>\n",
       "      <td>1-5</td>\n",
       "      <td>English</td>\n",
       "    </tr>\n",
       "    <tr>\n",
       "      <th>9300</th>\n",
       "      <td>20726836.0</td>\n",
       "      <td>0.0</td>\n",
       "      <td>-9184.00</td>\n",
       "      <td>2011-01-05</td>\n",
       "      <td>16.0</td>\n",
       "      <td>0.0</td>\n",
       "      <td>0.0</td>\n",
       "      <td>0.0</td>\n",
       "      <td>NOTICE</td>\n",
       "      <td>MAIL</td>\n",
       "      <td>N</td>\n",
       "      <td>N</td>\n",
       "      <td>N</td>\n",
       "      <td>N</td>\n",
       "      <td>N</td>\n",
       "      <td>N</td>\n",
       "      <td>N</td>\n",
       "      <td>N</td>\n",
       "      <td>Y</td>\n",
       "      <td>1-5</td>\n",
       "      <td>English</td>\n",
       "    </tr>\n",
       "    <tr>\n",
       "      <th>12548</th>\n",
       "      <td>28176445.0</td>\n",
       "      <td>0.0</td>\n",
       "      <td>-164303.10</td>\n",
       "      <td>2012-10-31</td>\n",
       "      <td>18.0</td>\n",
       "      <td>1.0</td>\n",
       "      <td>1.0</td>\n",
       "      <td>1.0</td>\n",
       "      <td>AUTO RENEW</td>\n",
       "      <td>PHONE</td>\n",
       "      <td>N</td>\n",
       "      <td>N</td>\n",
       "      <td>N</td>\n",
       "      <td>N</td>\n",
       "      <td>N</td>\n",
       "      <td>N</td>\n",
       "      <td>N</td>\n",
       "      <td>N</td>\n",
       "      <td>N</td>\n",
       "      <td>11-50</td>\n",
       "      <td>English</td>\n",
       "    </tr>\n",
       "  </tbody>\n",
       "</table>\n",
       "</div>"
      ],
      "text/plain": [
       "       customer_number  campaign_period_sales  historical_sales_volume  \\\n",
       "2216         5125266.0                    0.0               -126638.40   \n",
       "6139        13758714.0                    0.0                -20021.76   \n",
       "9300        20726836.0                    0.0                 -9184.00   \n",
       "12548       28176445.0                    0.0               -164303.10   \n",
       "\n",
       "      date_of_first_purchase  number_of_prior_year_transactions  \\\n",
       "2216              1995-10-01                               18.0   \n",
       "6139              2015-07-22                               16.0   \n",
       "9300              2011-01-05                               16.0   \n",
       "12548             2012-10-31                               18.0   \n",
       "\n",
       "       do_not_direct_mail_solicit  do_not_email  do_not_telemarket  \\\n",
       "2216                          0.0           0.0                0.0   \n",
       "6139                          1.0           0.0                1.0   \n",
       "9300                          0.0           0.0                0.0   \n",
       "12548                         1.0           1.0                1.0   \n",
       "\n",
       "      repurchase_method last_transaction_channel desk executive_chair  \\\n",
       "2216             NOTICE                     MAIL    N               N   \n",
       "6139             NOTICE                      WEB    N               N   \n",
       "9300             NOTICE                     MAIL    N               N   \n",
       "12548        AUTO RENEW                    PHONE    N               N   \n",
       "\n",
       "      standard_chair monitor printer computer insurance toner office_supplies  \\\n",
       "2216               N       N       N        N         N     N               Y   \n",
       "6139               N       N       N        N         N     N               Y   \n",
       "9300               N       N       N        N         N     N               Y   \n",
       "12548              N       N       N        N         N     N               N   \n",
       "\n",
       "      number_of_employees language  \n",
       "2216                  1-5  English  \n",
       "6139                  1-5  English  \n",
       "9300                  1-5  English  \n",
       "12548               11-50  English  "
      ]
     },
     "execution_count": 19,
     "metadata": {},
     "output_type": "execute_result"
    }
   ],
   "source": [
    "df.loc[(df['historical_sales_volume'] < 0), :]"
   ]
  },
  {
   "cell_type": "markdown",
   "metadata": {},
   "source": [
    "## Clean data"
   ]
  },
  {
   "cell_type": "markdown",
   "metadata": {},
   "source": [
    "### Steps to clean data"
   ]
  },
  {
   "cell_type": "markdown",
   "metadata": {},
   "source": [
    "#### Partition data"
   ]
  },
  {
   "cell_type": "code",
   "execution_count": 20,
   "metadata": {},
   "outputs": [],
   "source": [
    "X = df.drop('campaign_period_sales', axis=1)\n",
    "y = df['campaign_period_sales']\n",
    "X_train, X_test, y_train, y_test = train_test_split(X, y, test_size=0.5, random_state=24)"
   ]
  },
  {
   "cell_type": "code",
   "execution_count": 21,
   "metadata": {},
   "outputs": [
    {
     "name": "stdout",
     "output_type": "stream",
     "text": [
      "(8086, 20) <class 'pandas.core.frame.DataFrame'>\n",
      "(8086,) <class 'pandas.core.series.Series'>\n"
     ]
    }
   ],
   "source": [
    "print(X_train.shape, type(X_train))\n",
    "print(y_train.shape, type(y_train))"
   ]
  },
  {
   "cell_type": "markdown",
   "metadata": {},
   "source": [
    "#### Prepare target variable"
   ]
  },
  {
   "cell_type": "code",
   "execution_count": 22,
   "metadata": {},
   "outputs": [
    {
     "data": {
      "text/plain": [
       "count    8086.000000\n",
       "mean      253.041749\n",
       "std       738.194214\n",
       "min      -161.166667\n",
       "25%         0.000000\n",
       "50%         0.000000\n",
       "75%       148.536667\n",
       "max      7693.400000\n",
       "Name: campaign_period_sales, dtype: float64"
      ]
     },
     "execution_count": 22,
     "metadata": {},
     "output_type": "execute_result"
    }
   ],
   "source": [
    "y_train.describe()"
   ]
  },
  {
   "cell_type": "code",
   "execution_count": 23,
   "metadata": {},
   "outputs": [
    {
     "name": "stdout",
     "output_type": "stream",
     "text": [
      "Number of negatives values:\t2\n"
     ]
    },
    {
     "data": {
      "text/plain": [
       "11934   -161.166667\n",
       "5783    -119.333333\n",
       "Name: campaign_period_sales, dtype: float64"
      ]
     },
     "execution_count": 23,
     "metadata": {},
     "output_type": "execute_result"
    }
   ],
   "source": [
    "print(f\"Number of negatives values:\\t{sum(y_train < 0)}\")\n",
    "y_train.loc[y_train < 0]"
   ]
  },
  {
   "cell_type": "code",
   "execution_count": 24,
   "metadata": {},
   "outputs": [
    {
     "name": "stdout",
     "output_type": "stream",
     "text": [
      "Number of negatives values:\t4\n"
     ]
    },
    {
     "data": {
      "text/plain": [
       "6135     -14.320000\n",
       "5919    -140.960000\n",
       "10689   -421.833333\n",
       "15840   -566.500000\n",
       "Name: campaign_period_sales, dtype: float64"
      ]
     },
     "execution_count": 24,
     "metadata": {},
     "output_type": "execute_result"
    }
   ],
   "source": [
    "print(f\"Number of negatives values:\\t{sum(y_test < 0)}\")\n",
    "y_test.loc[y_test < 0]"
   ]
  },
  {
   "cell_type": "code",
   "execution_count": 25,
   "metadata": {},
   "outputs": [],
   "source": [
    "def negatives_to_zero(series):\n",
    "    converted = series.copy()\n",
    "    converted[converted < 0] = 0\n",
    "    return converted"
   ]
  },
  {
   "cell_type": "code",
   "execution_count": 26,
   "metadata": {},
   "outputs": [],
   "source": [
    "y_train = negatives_to_zero(y_train)\n",
    "y_test = negatives_to_zero(y_test)"
   ]
  },
  {
   "cell_type": "code",
   "execution_count": 27,
   "metadata": {},
   "outputs": [
    {
     "data": {
      "text/plain": [
       "0"
      ]
     },
     "metadata": {},
     "output_type": "display_data"
    },
    {
     "data": {
      "text/plain": [
       "0"
      ]
     },
     "execution_count": 27,
     "metadata": {},
     "output_type": "execute_result"
    }
   ],
   "source": [
    "display((y_test < 0).sum())\n",
    "(y_train < 0).sum()"
   ]
  },
  {
   "cell_type": "code",
   "execution_count": 28,
   "metadata": {},
   "outputs": [],
   "source": [
    "def binarize_to_class(series):         \n",
    "    y_class = series > 0\n",
    "    return y_class.astype(int)"
   ]
  },
  {
   "cell_type": "code",
   "execution_count": 29,
   "metadata": {},
   "outputs": [
    {
     "data": {
      "text/plain": [
       "2632    0\n",
       "1571    0\n",
       "2102    1\n",
       "9273    0\n",
       "1542    1\n",
       "Name: campaign_period_sales, dtype: int32"
      ]
     },
     "execution_count": 29,
     "metadata": {},
     "output_type": "execute_result"
    }
   ],
   "source": [
    "y_train_class = binarize_to_class(y_train)\n",
    "y_train_class.head()"
   ]
  },
  {
   "cell_type": "code",
   "execution_count": 30,
   "metadata": {},
   "outputs": [
    {
     "data": {
      "text/plain": [
       "4387     1\n",
       "15942    0\n",
       "1281     0\n",
       "780      0\n",
       "1334     0\n",
       "Name: campaign_period_sales, dtype: int32"
      ]
     },
     "execution_count": 30,
     "metadata": {},
     "output_type": "execute_result"
    }
   ],
   "source": [
    "y_test_class = binarize_to_class(y_test)\n",
    "y_test_class.tail()"
   ]
  },
  {
   "cell_type": "code",
   "execution_count": 31,
   "metadata": {},
   "outputs": [
    {
     "data": {
      "text/plain": [
       "0    0.729533\n",
       "1    0.270467\n",
       "Name: campaign_period_sales, dtype: float64"
      ]
     },
     "metadata": {},
     "output_type": "display_data"
    },
    {
     "data": {
      "text/plain": [
       "0    0.728914\n",
       "1    0.271086\n",
       "Name: campaign_period_sales, dtype: float64"
      ]
     },
     "execution_count": 31,
     "metadata": {},
     "output_type": "execute_result"
    }
   ],
   "source": [
    "display(y_train_class.value_counts(normalize=True))\n",
    "y_test_class.value_counts(normalize=True)"
   ]
  },
  {
   "cell_type": "markdown",
   "metadata": {},
   "source": [
    "#### Clean training data"
   ]
  },
  {
   "cell_type": "code",
   "execution_count": 32,
   "metadata": {},
   "outputs": [
    {
     "data": {
      "text/html": [
       "<div>\n",
       "<style scoped>\n",
       "    .dataframe tbody tr th:only-of-type {\n",
       "        vertical-align: middle;\n",
       "    }\n",
       "\n",
       "    .dataframe tbody tr th {\n",
       "        vertical-align: top;\n",
       "    }\n",
       "\n",
       "    .dataframe thead th {\n",
       "        text-align: right;\n",
       "    }\n",
       "</style>\n",
       "<table border=\"1\" class=\"dataframe\">\n",
       "  <thead>\n",
       "    <tr style=\"text-align: right;\">\n",
       "      <th></th>\n",
       "      <th>repurchase_method</th>\n",
       "      <th>last_transaction_channel</th>\n",
       "      <th>desk</th>\n",
       "      <th>executive_chair</th>\n",
       "      <th>standard_chair</th>\n",
       "      <th>monitor</th>\n",
       "      <th>printer</th>\n",
       "      <th>computer</th>\n",
       "      <th>insurance</th>\n",
       "      <th>toner</th>\n",
       "      <th>office_supplies</th>\n",
       "      <th>number_of_employees</th>\n",
       "      <th>language</th>\n",
       "    </tr>\n",
       "  </thead>\n",
       "  <tbody>\n",
       "    <tr>\n",
       "      <th>0</th>\n",
       "      <td>AUTO RENEW</td>\n",
       "      <td>AUTO RENEW</td>\n",
       "      <td>N</td>\n",
       "      <td>N</td>\n",
       "      <td>N</td>\n",
       "      <td>N</td>\n",
       "      <td>N</td>\n",
       "      <td>N</td>\n",
       "      <td>Y</td>\n",
       "      <td>N</td>\n",
       "      <td>Y</td>\n",
       "      <td>6-10</td>\n",
       "      <td>English</td>\n",
       "    </tr>\n",
       "    <tr>\n",
       "      <th>1</th>\n",
       "      <td>NOTICE</td>\n",
       "      <td>MAIL</td>\n",
       "      <td>N</td>\n",
       "      <td>N</td>\n",
       "      <td>N</td>\n",
       "      <td>N</td>\n",
       "      <td>N</td>\n",
       "      <td>N</td>\n",
       "      <td>N</td>\n",
       "      <td>N</td>\n",
       "      <td>Y</td>\n",
       "      <td>11-50</td>\n",
       "      <td>English</td>\n",
       "    </tr>\n",
       "    <tr>\n",
       "      <th>2</th>\n",
       "      <td>NOTICE</td>\n",
       "      <td>MAIL</td>\n",
       "      <td>N</td>\n",
       "      <td>N</td>\n",
       "      <td>N</td>\n",
       "      <td>N</td>\n",
       "      <td>N</td>\n",
       "      <td>N</td>\n",
       "      <td>N</td>\n",
       "      <td>N</td>\n",
       "      <td>Y</td>\n",
       "      <td>6-10</td>\n",
       "      <td>English</td>\n",
       "    </tr>\n",
       "  </tbody>\n",
       "</table>\n",
       "</div>"
      ],
      "text/plain": [
       "  repurchase_method last_transaction_channel desk executive_chair  \\\n",
       "0        AUTO RENEW               AUTO RENEW    N               N   \n",
       "1            NOTICE                     MAIL    N               N   \n",
       "2            NOTICE                     MAIL    N               N   \n",
       "\n",
       "  standard_chair monitor printer computer insurance toner office_supplies  \\\n",
       "0              N       N       N        N         Y     N               Y   \n",
       "1              N       N       N        N         N     N               Y   \n",
       "2              N       N       N        N         N     N               Y   \n",
       "\n",
       "  number_of_employees language  \n",
       "0                6-10  English  \n",
       "1               11-50  English  \n",
       "2                6-10  English  "
      ]
     },
     "execution_count": 32,
     "metadata": {},
     "output_type": "execute_result"
    }
   ],
   "source": [
    "cat_var = X.select_dtypes('object')\n",
    "cat_var.head(3)"
   ]
  },
  {
   "cell_type": "code",
   "execution_count": 33,
   "metadata": {},
   "outputs": [
    {
     "name": "stdout",
     "output_type": "stream",
     "text": [
      "repurchase_method\n",
      "NOTICE          11903\n",
      "AUTO RENEW       4268\n",
      "PAYMENT PLAN        1\n",
      "Name: repurchase_method, dtype: int64\n",
      "\n",
      "last_transaction_channel\n",
      "MAIL              7769\n",
      "AUTO RENEW        3141\n",
      "WEB               2648\n",
      "PHONE             1096\n",
      "BRANCH (POS)       633\n",
      "BRANCH (PHONE)     411\n",
      "BILLING             18\n",
      "IT                  14\n",
      "Name: last_transaction_channel, dtype: int64\n",
      "\n",
      "desk\n",
      "N     15260\n",
      "Y       911\n",
      "YY        1\n",
      "Name: desk, dtype: int64\n",
      "\n",
      "executive_chair\n",
      "N    15014\n",
      "Y     1157\n",
      "Name: executive_chair, dtype: int64\n",
      "\n",
      "standard_chair\n",
      "N    15890\n",
      "Y      281\n",
      "Name: standard_chair, dtype: int64\n",
      "\n",
      "monitor\n",
      "N    15873\n",
      "Y      298\n",
      "Name: monitor, dtype: int64\n",
      "\n",
      "printer\n",
      "N    15745\n",
      "Y      426\n",
      "Name: printer, dtype: int64\n",
      "\n",
      "computer\n",
      "N     15941\n",
      "Y       230\n",
      "YY        1\n",
      "Name: computer, dtype: int64\n",
      "\n",
      "insurance\n",
      "N     14238\n",
      "Y      1931\n",
      "YY        1\n",
      "Name: insurance, dtype: int64\n",
      "\n",
      "toner\n",
      "N     15111\n",
      "Y      1058\n",
      "YY        1\n",
      "Name: toner, dtype: int64\n",
      "\n",
      "office_supplies\n",
      "Y    11803\n",
      "N     4369\n",
      "Name: office_supplies, dtype: int64\n",
      "\n",
      "number_of_employees\n",
      "6-10       5230\n",
      "           3746\n",
      "1-5        2700\n",
      "11-50      2236\n",
      "51-100     1381\n",
      "101-500     653\n",
      "500+        224\n",
      "Name: number_of_employees, dtype: int64\n",
      "\n",
      "language\n",
      "English       11317\n",
      "Spanish          88\n",
      "Italian          46\n",
      "Portuguese       41\n",
      "Hindi            40\n",
      "Chinese          34\n",
      "Russian          24\n",
      "Hebrew           20\n",
      "Arabic           18\n",
      "German           15\n",
      "Greek            15\n",
      "Japanese         11\n",
      "Polish           10\n",
      "Vietnamese        9\n",
      "French            6\n",
      "Korean            4\n",
      "Thai              2\n",
      "Pashto            1\n",
      "Name: language, dtype: int64\n",
      "\n"
     ]
    }
   ],
   "source": [
    "for col in cat_var.columns:\n",
    "    print(col)\n",
    "    print(cat_var[col].value_counts())\n",
    "    print()"
   ]
  },
  {
   "cell_type": "code",
   "execution_count": 34,
   "metadata": {},
   "outputs": [
    {
     "data": {
      "text/plain": [
       "6-10       2645\n",
       "           1835\n",
       "1-5        1345\n",
       "11-50      1132\n",
       "51-100      677\n",
       "101-500     327\n",
       "500+        125\n",
       "Name: number_of_employees, dtype: int64"
      ]
     },
     "execution_count": 34,
     "metadata": {},
     "output_type": "execute_result"
    }
   ],
   "source": [
    "X_train['number_of_employees'].value_counts()"
   ]
  },
  {
   "cell_type": "code",
   "execution_count": 35,
   "metadata": {},
   "outputs": [
    {
     "data": {
      "text/plain": [
       "6-10       2645\n",
       "1-5        1345\n",
       "11-50      1132\n",
       "51-100      677\n",
       "101-500     327\n",
       "500+        125\n",
       "Name: number_of_employees, dtype: int64"
      ]
     },
     "execution_count": 35,
     "metadata": {},
     "output_type": "execute_result"
    }
   ],
   "source": [
    "X_train['number_of_employees'] = X_train['number_of_employees'].replace(' ', np.nan)\n",
    "X_train['number_of_employees'].value_counts()"
   ]
  },
  {
   "cell_type": "code",
   "execution_count": 36,
   "metadata": {},
   "outputs": [],
   "source": [
    "def replace_nan(series):\n",
    "    serie = series.copy()\n",
    "    serie = serie.replace(' ', np.nan)\n",
    "    return serie "
   ]
  },
  {
   "cell_type": "code",
   "execution_count": 37,
   "metadata": {},
   "outputs": [],
   "source": [
    "def replace_YY(series):\n",
    "    new = series.copy()\n",
    "    new = new.replace('YY', 'Y')\n",
    "    return new"
   ]
  },
  {
   "cell_type": "code",
   "execution_count": 38,
   "metadata": {},
   "outputs": [
    {
     "data": {
      "text/plain": [
       "N     7970\n",
       "Y      115\n",
       "YY       1\n",
       "Name: computer, dtype: int64"
      ]
     },
     "metadata": {},
     "output_type": "display_data"
    },
    {
     "data": {
      "text/plain": [
       "N    7970\n",
       "Y     116\n",
       "Name: computer, dtype: int64"
      ]
     },
     "execution_count": 38,
     "metadata": {},
     "output_type": "execute_result"
    }
   ],
   "source": [
    "display(X_train.computer.value_counts())\n",
    "X_train['computer'] = replace_YY(X_train.computer)\n",
    "X_train.computer.value_counts()"
   ]
  },
  {
   "cell_type": "code",
   "execution_count": 39,
   "metadata": {},
   "outputs": [],
   "source": [
    "X_train['insurance'] = replace_YY(X_train.insurance)\n",
    "X_train['toner'] = replace_YY(X_train.toner)"
   ]
  },
  {
   "cell_type": "markdown",
   "metadata": {},
   "source": [
    "#### Create a column for number of days since day of purchase"
   ]
  },
  {
   "cell_type": "code",
   "execution_count": 40,
   "metadata": {},
   "outputs": [
    {
     "data": {
      "text/plain": [
       "2632    10515\n",
       "1571    12115\n",
       "2102    18018\n",
       "Name: date_of_first_purchase, dtype: int64"
      ]
     },
     "execution_count": 40,
     "metadata": {},
     "output_type": "execute_result"
    }
   ],
   "source": [
    "(datetime.now() - X_train['date_of_first_purchase']).dt.days.head(3)"
   ]
  },
  {
   "cell_type": "code",
   "execution_count": 41,
   "metadata": {},
   "outputs": [
    {
     "data": {
      "text/plain": [
       "count     8086.000000\n",
       "mean      9934.315113\n",
       "std       3977.438509\n",
       "min        752.000000\n",
       "25%       8385.000000\n",
       "50%       9740.000000\n",
       "75%      12024.000000\n",
       "max      26846.000000\n",
       "Name: days_since_first_purchase, dtype: float64"
      ]
     },
     "execution_count": 41,
     "metadata": {},
     "output_type": "execute_result"
    }
   ],
   "source": [
    "X_train['days_since_first_purchase'] = (datetime.now() - X_train['date_of_first_purchase']).dt.days\n",
    "X_train.days_since_first_purchase.describe()"
   ]
  },
  {
   "cell_type": "code",
   "execution_count": 42,
   "metadata": {},
   "outputs": [],
   "source": [
    "def create_number_days(series):\n",
    "    new = series.copy()\n",
    "    output = (datetime.now() - new).dt.days\n",
    "    return output"
   ]
  },
  {
   "cell_type": "code",
   "execution_count": 43,
   "metadata": {},
   "outputs": [
    {
     "data": {
      "text/html": [
       "<div>\n",
       "<style scoped>\n",
       "    .dataframe tbody tr th:only-of-type {\n",
       "        vertical-align: middle;\n",
       "    }\n",
       "\n",
       "    .dataframe tbody tr th {\n",
       "        vertical-align: top;\n",
       "    }\n",
       "\n",
       "    .dataframe thead th {\n",
       "        text-align: right;\n",
       "    }\n",
       "</style>\n",
       "<table border=\"1\" class=\"dataframe\">\n",
       "  <thead>\n",
       "    <tr style=\"text-align: right;\">\n",
       "      <th></th>\n",
       "      <th>customer_number</th>\n",
       "      <th>historical_sales_volume</th>\n",
       "      <th>number_of_prior_year_transactions</th>\n",
       "      <th>do_not_direct_mail_solicit</th>\n",
       "      <th>do_not_email</th>\n",
       "      <th>do_not_telemarket</th>\n",
       "      <th>repurchase_method</th>\n",
       "      <th>last_transaction_channel</th>\n",
       "      <th>desk</th>\n",
       "      <th>executive_chair</th>\n",
       "      <th>standard_chair</th>\n",
       "      <th>monitor</th>\n",
       "      <th>printer</th>\n",
       "      <th>computer</th>\n",
       "      <th>insurance</th>\n",
       "      <th>toner</th>\n",
       "      <th>office_supplies</th>\n",
       "      <th>number_of_employees</th>\n",
       "      <th>language</th>\n",
       "      <th>days_since_first_purchase</th>\n",
       "    </tr>\n",
       "  </thead>\n",
       "  <tbody>\n",
       "    <tr>\n",
       "      <th>2632</th>\n",
       "      <td>5959825.0</td>\n",
       "      <td>1.041878e+06</td>\n",
       "      <td>21.0</td>\n",
       "      <td>0.0</td>\n",
       "      <td>0.0</td>\n",
       "      <td>0.0</td>\n",
       "      <td>NOTICE</td>\n",
       "      <td>MAIL</td>\n",
       "      <td>N</td>\n",
       "      <td>N</td>\n",
       "      <td>N</td>\n",
       "      <td>N</td>\n",
       "      <td>N</td>\n",
       "      <td>N</td>\n",
       "      <td>N</td>\n",
       "      <td>N</td>\n",
       "      <td>Y</td>\n",
       "      <td>51-100</td>\n",
       "      <td>English</td>\n",
       "      <td>10515</td>\n",
       "    </tr>\n",
       "    <tr>\n",
       "      <th>1571</th>\n",
       "      <td>3747897.0</td>\n",
       "      <td>3.106884e+05</td>\n",
       "      <td>15.0</td>\n",
       "      <td>0.0</td>\n",
       "      <td>0.0</td>\n",
       "      <td>0.0</td>\n",
       "      <td>NOTICE</td>\n",
       "      <td>MAIL</td>\n",
       "      <td>N</td>\n",
       "      <td>N</td>\n",
       "      <td>N</td>\n",
       "      <td>N</td>\n",
       "      <td>N</td>\n",
       "      <td>N</td>\n",
       "      <td>N</td>\n",
       "      <td>N</td>\n",
       "      <td>Y</td>\n",
       "      <td>1-5</td>\n",
       "      <td>English</td>\n",
       "      <td>12115</td>\n",
       "    </tr>\n",
       "    <tr>\n",
       "      <th>2102</th>\n",
       "      <td>4854869.0</td>\n",
       "      <td>1.253057e+05</td>\n",
       "      <td>11.0</td>\n",
       "      <td>0.0</td>\n",
       "      <td>0.0</td>\n",
       "      <td>0.0</td>\n",
       "      <td>NOTICE</td>\n",
       "      <td>MAIL</td>\n",
       "      <td>N</td>\n",
       "      <td>N</td>\n",
       "      <td>N</td>\n",
       "      <td>N</td>\n",
       "      <td>N</td>\n",
       "      <td>N</td>\n",
       "      <td>N</td>\n",
       "      <td>N</td>\n",
       "      <td>Y</td>\n",
       "      <td>6-10</td>\n",
       "      <td>English</td>\n",
       "      <td>18018</td>\n",
       "    </tr>\n",
       "  </tbody>\n",
       "</table>\n",
       "</div>"
      ],
      "text/plain": [
       "      customer_number  historical_sales_volume  \\\n",
       "2632        5959825.0             1.041878e+06   \n",
       "1571        3747897.0             3.106884e+05   \n",
       "2102        4854869.0             1.253057e+05   \n",
       "\n",
       "      number_of_prior_year_transactions  do_not_direct_mail_solicit  \\\n",
       "2632                               21.0                         0.0   \n",
       "1571                               15.0                         0.0   \n",
       "2102                               11.0                         0.0   \n",
       "\n",
       "      do_not_email  do_not_telemarket repurchase_method  \\\n",
       "2632           0.0                0.0            NOTICE   \n",
       "1571           0.0                0.0            NOTICE   \n",
       "2102           0.0                0.0            NOTICE   \n",
       "\n",
       "     last_transaction_channel desk executive_chair standard_chair monitor  \\\n",
       "2632                     MAIL    N               N              N       N   \n",
       "1571                     MAIL    N               N              N       N   \n",
       "2102                     MAIL    N               N              N       N   \n",
       "\n",
       "     printer computer insurance toner office_supplies number_of_employees  \\\n",
       "2632       N        N         N     N               Y              51-100   \n",
       "1571       N        N         N     N               Y                 1-5   \n",
       "2102       N        N         N     N               Y                6-10   \n",
       "\n",
       "     language  days_since_first_purchase  \n",
       "2632  English                      10515  \n",
       "1571  English                      12115  \n",
       "2102  English                      18018  "
      ]
     },
     "execution_count": 43,
     "metadata": {},
     "output_type": "execute_result"
    }
   ],
   "source": [
    "X_train['days_since_first_purchase'] = create_number_days(X_train.date_of_first_purchase)\n",
    "X_train = X_train.drop(['date_of_first_purchase'], axis=1)\n",
    "X_train.head(3)"
   ]
  },
  {
   "cell_type": "code",
   "execution_count": 44,
   "metadata": {},
   "outputs": [
    {
     "data": {
      "text/plain": [
       "<matplotlib.axes._subplots.AxesSubplot at 0x297032a5148>"
      ]
     },
     "execution_count": 44,
     "metadata": {},
     "output_type": "execute_result"
    },
    {
     "data": {
      "image/png": "[encoded data removed]",
      "text/plain": [
       "<Figure size 432x288 with 1 Axes>"
      ]
     },
     "metadata": {
      "needs_background": "light"
     },
     "output_type": "display_data"
    }
   ],
   "source": [
    "X_train.days_since_first_purchase.hist(bins=50)"
   ]
  },
  {
   "cell_type": "markdown",
   "metadata": {},
   "source": [
    "#### Convert negatives to zero in Historical Sales Volume variable"
   ]
  },
  {
   "cell_type": "code",
   "execution_count": 45,
   "metadata": {},
   "outputs": [
    {
     "data": {
      "text/plain": [
       "0.0"
      ]
     },
     "execution_count": 45,
     "metadata": {},
     "output_type": "execute_result"
    }
   ],
   "source": [
    "X_train['historical_sales_volume'] = negatives_to_zero(X_train['historical_sales_volume'])\n",
    "X_train['historical_sales_volume'].min()"
   ]
  },
  {
   "cell_type": "markdown",
   "metadata": {},
   "source": [
    "#### Convert Product columns to 0's and 1's"
   ]
  },
  {
   "cell_type": "code",
   "execution_count": 46,
   "metadata": {},
   "outputs": [
    {
     "data": {
      "text/html": [
       "<div>\n",
       "<style scoped>\n",
       "    .dataframe tbody tr th:only-of-type {\n",
       "        vertical-align: middle;\n",
       "    }\n",
       "\n",
       "    .dataframe tbody tr th {\n",
       "        vertical-align: top;\n",
       "    }\n",
       "\n",
       "    .dataframe thead th {\n",
       "        text-align: right;\n",
       "    }\n",
       "</style>\n",
       "<table border=\"1\" class=\"dataframe\">\n",
       "  <thead>\n",
       "    <tr style=\"text-align: right;\">\n",
       "      <th></th>\n",
       "      <th>desk</th>\n",
       "      <th>executive_chair</th>\n",
       "      <th>standard_chair</th>\n",
       "      <th>monitor</th>\n",
       "      <th>printer</th>\n",
       "      <th>computer</th>\n",
       "      <th>insurance</th>\n",
       "      <th>toner</th>\n",
       "      <th>office_supplies</th>\n",
       "    </tr>\n",
       "  </thead>\n",
       "  <tbody>\n",
       "    <tr>\n",
       "      <th>2632</th>\n",
       "      <td>N</td>\n",
       "      <td>N</td>\n",
       "      <td>N</td>\n",
       "      <td>N</td>\n",
       "      <td>N</td>\n",
       "      <td>N</td>\n",
       "      <td>N</td>\n",
       "      <td>N</td>\n",
       "      <td>Y</td>\n",
       "    </tr>\n",
       "    <tr>\n",
       "      <th>1571</th>\n",
       "      <td>N</td>\n",
       "      <td>N</td>\n",
       "      <td>N</td>\n",
       "      <td>N</td>\n",
       "      <td>N</td>\n",
       "      <td>N</td>\n",
       "      <td>N</td>\n",
       "      <td>N</td>\n",
       "      <td>Y</td>\n",
       "    </tr>\n",
       "    <tr>\n",
       "      <th>2102</th>\n",
       "      <td>N</td>\n",
       "      <td>N</td>\n",
       "      <td>N</td>\n",
       "      <td>N</td>\n",
       "      <td>N</td>\n",
       "      <td>N</td>\n",
       "      <td>N</td>\n",
       "      <td>N</td>\n",
       "      <td>Y</td>\n",
       "    </tr>\n",
       "  </tbody>\n",
       "</table>\n",
       "</div>"
      ],
      "text/plain": [
       "     desk executive_chair standard_chair monitor printer computer insurance  \\\n",
       "2632    N               N              N       N       N        N         N   \n",
       "1571    N               N              N       N       N        N         N   \n",
       "2102    N               N              N       N       N        N         N   \n",
       "\n",
       "     toner office_supplies  \n",
       "2632     N               Y  \n",
       "1571     N               Y  \n",
       "2102     N               Y  "
      ]
     },
     "execution_count": 46,
     "metadata": {},
     "output_type": "execute_result"
    }
   ],
   "source": [
    "bool_cols = ['desk', 'executive_chair', 'standard_chair', 'monitor', 'printer', 'computer', 'insurance', \n",
    "    'toner', 'office_supplies',]\n",
    "X_train[bool_cols].head(3)"
   ]
  },
  {
   "cell_type": "code",
   "execution_count": 47,
   "metadata": {},
   "outputs": [],
   "source": [
    "def convert_bools(df):\n",
    "    dict = {'Y': 1.0, 'N': 0.0}\n",
    "    return df.applymap(lambda x: dict.get(x, 0.0))"
   ]
  },
  {
   "cell_type": "code",
   "execution_count": 48,
   "metadata": {},
   "outputs": [
    {
     "data": {
      "text/html": [
       "<div>\n",
       "<style scoped>\n",
       "    .dataframe tbody tr th:only-of-type {\n",
       "        vertical-align: middle;\n",
       "    }\n",
       "\n",
       "    .dataframe tbody tr th {\n",
       "        vertical-align: top;\n",
       "    }\n",
       "\n",
       "    .dataframe thead th {\n",
       "        text-align: right;\n",
       "    }\n",
       "</style>\n",
       "<table border=\"1\" class=\"dataframe\">\n",
       "  <thead>\n",
       "    <tr style=\"text-align: right;\">\n",
       "      <th></th>\n",
       "      <th>desk</th>\n",
       "      <th>executive_chair</th>\n",
       "      <th>standard_chair</th>\n",
       "      <th>monitor</th>\n",
       "      <th>printer</th>\n",
       "      <th>computer</th>\n",
       "      <th>insurance</th>\n",
       "      <th>toner</th>\n",
       "      <th>office_supplies</th>\n",
       "    </tr>\n",
       "  </thead>\n",
       "  <tbody>\n",
       "    <tr>\n",
       "      <th>2632</th>\n",
       "      <td>0.0</td>\n",
       "      <td>0.0</td>\n",
       "      <td>0.0</td>\n",
       "      <td>0.0</td>\n",
       "      <td>0.0</td>\n",
       "      <td>0.0</td>\n",
       "      <td>0.0</td>\n",
       "      <td>0.0</td>\n",
       "      <td>1.0</td>\n",
       "    </tr>\n",
       "    <tr>\n",
       "      <th>1571</th>\n",
       "      <td>0.0</td>\n",
       "      <td>0.0</td>\n",
       "      <td>0.0</td>\n",
       "      <td>0.0</td>\n",
       "      <td>0.0</td>\n",
       "      <td>0.0</td>\n",
       "      <td>0.0</td>\n",
       "      <td>0.0</td>\n",
       "      <td>1.0</td>\n",
       "    </tr>\n",
       "    <tr>\n",
       "      <th>2102</th>\n",
       "      <td>0.0</td>\n",
       "      <td>0.0</td>\n",
       "      <td>0.0</td>\n",
       "      <td>0.0</td>\n",
       "      <td>0.0</td>\n",
       "      <td>0.0</td>\n",
       "      <td>0.0</td>\n",
       "      <td>0.0</td>\n",
       "      <td>1.0</td>\n",
       "    </tr>\n",
       "  </tbody>\n",
       "</table>\n",
       "</div>"
      ],
      "text/plain": [
       "      desk  executive_chair  standard_chair  monitor  printer  computer  \\\n",
       "2632   0.0              0.0             0.0      0.0      0.0       0.0   \n",
       "1571   0.0              0.0             0.0      0.0      0.0       0.0   \n",
       "2102   0.0              0.0             0.0      0.0      0.0       0.0   \n",
       "\n",
       "      insurance  toner  office_supplies  \n",
       "2632        0.0    0.0              1.0  \n",
       "1571        0.0    0.0              1.0  \n",
       "2102        0.0    0.0              1.0  "
      ]
     },
     "execution_count": 48,
     "metadata": {},
     "output_type": "execute_result"
    }
   ],
   "source": [
    "X_train.loc[:, bool_cols] = convert_bools(X_train[bool_cols])\n",
    "X_train[bool_cols].head(3)"
   ]
  },
  {
   "cell_type": "code",
   "execution_count": 49,
   "metadata": {},
   "outputs": [],
   "source": [
    "bool_cols_df = X_train[bool_cols].copy()"
   ]
  },
  {
   "cell_type": "markdown",
   "metadata": {},
   "source": [
    "#### Separate numeric and categorical columns"
   ]
  },
  {
   "cell_type": "code",
   "execution_count": 50,
   "metadata": {},
   "outputs": [
    {
     "data": {
      "text/plain": [
       "Index(['customer_number', 'historical_sales_volume',\n",
       "       'number_of_prior_year_transactions', 'do_not_direct_mail_solicit',\n",
       "       'do_not_email', 'do_not_telemarket', 'repurchase_method',\n",
       "       'last_transaction_channel', 'desk', 'executive_chair', 'standard_chair',\n",
       "       'monitor', 'printer', 'computer', 'insurance', 'toner',\n",
       "       'office_supplies', 'number_of_employees', 'language',\n",
       "       'days_since_first_purchase'],\n",
       "      dtype='object')"
      ]
     },
     "execution_count": 50,
     "metadata": {},
     "output_type": "execute_result"
    }
   ],
   "source": [
    "X_train.columns"
   ]
  },
  {
   "cell_type": "code",
   "execution_count": 51,
   "metadata": {},
   "outputs": [],
   "source": [
    "#create lists of column names\n",
    "#bool_cols already created\n",
    "\n",
    "num_cols = ['historical_sales_volume', \n",
    "            'number_of_prior_year_transactions', \n",
    "            'days_since_first_purchase']\n",
    "\n",
    "cat_cols = ['repurchase_method',\n",
    "            'last_transaction_channel',\n",
    "            'number_of_employees',\n",
    "            'language']"
   ]
  },
  {
   "cell_type": "code",
   "execution_count": 52,
   "metadata": {},
   "outputs": [],
   "source": [
    "#separate numeric and categorical data\n",
    "num_train = X_train.loc[:, num_cols]\n",
    "cat_train = X_train.loc[:, cat_cols]"
   ]
  },
  {
   "cell_type": "markdown",
   "metadata": {},
   "source": [
    "#### Preprocess numeric data"
   ]
  },
  {
   "cell_type": "code",
   "execution_count": 53,
   "metadata": {},
   "outputs": [],
   "source": [
    "from sklearn.impute import SimpleImputer\n",
    "from sklearn.preprocessing import StandardScaler"
   ]
  },
  {
   "cell_type": "code",
   "execution_count": 54,
   "metadata": {},
   "outputs": [
    {
     "data": {
      "text/plain": [
       "count    8086.000000\n",
       "mean       14.595597\n",
       "std         8.375522\n",
       "min         1.000000\n",
       "25%         8.000000\n",
       "50%        16.000000\n",
       "75%        20.000000\n",
       "max       313.000000\n",
       "Name: number_of_prior_year_transactions, dtype: float64"
      ]
     },
     "execution_count": 54,
     "metadata": {},
     "output_type": "execute_result"
    }
   ],
   "source": [
    "num_train['number_of_prior_year_transactions'].describe()"
   ]
  },
  {
   "cell_type": "code",
   "execution_count": 55,
   "metadata": {},
   "outputs": [
    {
     "data": {
      "text/plain": [
       "array([[1.04187790e+06, 2.10000000e+01, 1.05150000e+04],\n",
       "       [3.10688400e+05, 1.50000000e+01, 1.21150000e+04],\n",
       "       [1.25305714e+05, 1.10000000e+01, 1.80180000e+04],\n",
       "       ...,\n",
       "       [3.01318977e+05, 1.10000000e+01, 9.40500000e+03],\n",
       "       [1.24257120e+06, 3.00000000e+00, 1.54470000e+04],\n",
       "       [2.02737600e+06, 6.00000000e+00, 1.12760000e+04]])"
      ]
     },
     "execution_count": 55,
     "metadata": {},
     "output_type": "execute_result"
    }
   ],
   "source": [
    "si_num = SimpleImputer(strategy = 'median')\n",
    "num_train_med = si_num.fit_transform(num_train)\n",
    "num_train_med"
   ]
  },
  {
   "cell_type": "code",
   "execution_count": 56,
   "metadata": {
    "scrolled": true
   },
   "outputs": [
    {
     "name": "stdout",
     "output_type": "stream",
     "text": [
      "[6.67997256e+05 1.45955973e+01 9.93431511e+03] [9.19575824e+05 8.37500376e+00 3.97719256e+03]\n"
     ]
    },
    {
     "data": {
      "text/plain": [
       "array([[ 0.40657946,  0.76470445,  0.14600371],\n",
       "       [-0.38855834,  0.04828686,  0.54829754],\n",
       "       [-0.59015421, -0.42932486,  2.03251031],\n",
       "       ...,\n",
       "       [-0.39874719, -0.42932486, -0.13308763],\n",
       "       [ 0.62482498, -1.38454831,  1.38607443],\n",
       "       [ 1.47826716, -1.02633952,  0.33734471]])"
      ]
     },
     "execution_count": 56,
     "metadata": {},
     "output_type": "execute_result"
    }
   ],
   "source": [
    "ss = StandardScaler()\n",
    "num_train_std = ss.fit_transform(num_train_med)\n",
    "print(ss.mean_, ss.scale_)\n",
    "num_train_std"
   ]
  },
  {
   "cell_type": "code",
   "execution_count": 57,
   "metadata": {},
   "outputs": [
    {
     "data": {
      "text/html": [
       "<div>\n",
       "<style scoped>\n",
       "    .dataframe tbody tr th:only-of-type {\n",
       "        vertical-align: middle;\n",
       "    }\n",
       "\n",
       "    .dataframe tbody tr th {\n",
       "        vertical-align: top;\n",
       "    }\n",
       "\n",
       "    .dataframe thead th {\n",
       "        text-align: right;\n",
       "    }\n",
       "</style>\n",
       "<table border=\"1\" class=\"dataframe\">\n",
       "  <thead>\n",
       "    <tr style=\"text-align: right;\">\n",
       "      <th></th>\n",
       "      <th>historical_sales_volume</th>\n",
       "      <th>number_of_prior_year_transactions</th>\n",
       "      <th>days_since_first_purchase</th>\n",
       "    </tr>\n",
       "  </thead>\n",
       "  <tbody>\n",
       "    <tr>\n",
       "      <th>2632</th>\n",
       "      <td>0.406579</td>\n",
       "      <td>0.764704</td>\n",
       "      <td>0.146004</td>\n",
       "    </tr>\n",
       "    <tr>\n",
       "      <th>1571</th>\n",
       "      <td>-0.388558</td>\n",
       "      <td>0.048287</td>\n",
       "      <td>0.548298</td>\n",
       "    </tr>\n",
       "    <tr>\n",
       "      <th>2102</th>\n",
       "      <td>-0.590154</td>\n",
       "      <td>-0.429325</td>\n",
       "      <td>2.032510</td>\n",
       "    </tr>\n",
       "    <tr>\n",
       "      <th>9273</th>\n",
       "      <td>0.386802</td>\n",
       "      <td>0.764704</td>\n",
       "      <td>0.214897</td>\n",
       "    </tr>\n",
       "    <tr>\n",
       "      <th>1542</th>\n",
       "      <td>0.389402</td>\n",
       "      <td>0.167690</td>\n",
       "      <td>1.290781</td>\n",
       "    </tr>\n",
       "    <tr>\n",
       "      <th>...</th>\n",
       "      <td>...</td>\n",
       "      <td>...</td>\n",
       "      <td>...</td>\n",
       "    </tr>\n",
       "    <tr>\n",
       "      <th>3473</th>\n",
       "      <td>-0.614719</td>\n",
       "      <td>0.645302</td>\n",
       "      <td>-1.541116</td>\n",
       "    </tr>\n",
       "    <tr>\n",
       "      <th>8535</th>\n",
       "      <td>-0.409090</td>\n",
       "      <td>-0.190519</td>\n",
       "      <td>-1.475492</td>\n",
       "    </tr>\n",
       "    <tr>\n",
       "      <th>14528</th>\n",
       "      <td>-0.398747</td>\n",
       "      <td>-0.429325</td>\n",
       "      <td>-0.133088</td>\n",
       "    </tr>\n",
       "    <tr>\n",
       "      <th>899</th>\n",
       "      <td>0.624825</td>\n",
       "      <td>-1.384548</td>\n",
       "      <td>1.386074</td>\n",
       "    </tr>\n",
       "    <tr>\n",
       "      <th>12706</th>\n",
       "      <td>1.478267</td>\n",
       "      <td>-1.026340</td>\n",
       "      <td>0.337345</td>\n",
       "    </tr>\n",
       "  </tbody>\n",
       "</table>\n",
       "<p>8086 rows × 3 columns</p>\n",
       "</div>"
      ],
      "text/plain": [
       "       historical_sales_volume  number_of_prior_year_transactions  \\\n",
       "2632                  0.406579                           0.764704   \n",
       "1571                 -0.388558                           0.048287   \n",
       "2102                 -0.590154                          -0.429325   \n",
       "9273                  0.386802                           0.764704   \n",
       "1542                  0.389402                           0.167690   \n",
       "...                        ...                                ...   \n",
       "3473                 -0.614719                           0.645302   \n",
       "8535                 -0.409090                          -0.190519   \n",
       "14528                -0.398747                          -0.429325   \n",
       "899                   0.624825                          -1.384548   \n",
       "12706                 1.478267                          -1.026340   \n",
       "\n",
       "       days_since_first_purchase  \n",
       "2632                    0.146004  \n",
       "1571                    0.548298  \n",
       "2102                    2.032510  \n",
       "9273                    0.214897  \n",
       "1542                    1.290781  \n",
       "...                          ...  \n",
       "3473                   -1.541116  \n",
       "8535                   -1.475492  \n",
       "14528                  -0.133088  \n",
       "899                     1.386074  \n",
       "12706                   0.337345  \n",
       "\n",
       "[8086 rows x 3 columns]"
      ]
     },
     "execution_count": 57,
     "metadata": {},
     "output_type": "execute_result"
    }
   ],
   "source": [
    "pd.DataFrame(num_train_std, index=num_train.index, columns=num_train.columns)"
   ]
  },
  {
   "cell_type": "code",
   "execution_count": 58,
   "metadata": {},
   "outputs": [],
   "source": [
    "num_train_df = pd.DataFrame(num_train_std, index=num_train.index, columns=num_train.columns)"
   ]
  },
  {
   "cell_type": "markdown",
   "metadata": {},
   "source": [
    "#### Preprocess categorical data"
   ]
  },
  {
   "cell_type": "code",
   "execution_count": 59,
   "metadata": {},
   "outputs": [],
   "source": [
    "from sklearn.preprocessing import OneHotEncoder"
   ]
  },
  {
   "cell_type": "code",
   "execution_count": 60,
   "metadata": {},
   "outputs": [
    {
     "data": {
      "text/html": [
       "<div>\n",
       "<style scoped>\n",
       "    .dataframe tbody tr th:only-of-type {\n",
       "        vertical-align: middle;\n",
       "    }\n",
       "\n",
       "    .dataframe tbody tr th {\n",
       "        vertical-align: top;\n",
       "    }\n",
       "\n",
       "    .dataframe thead th {\n",
       "        text-align: right;\n",
       "    }\n",
       "</style>\n",
       "<table border=\"1\" class=\"dataframe\">\n",
       "  <thead>\n",
       "    <tr style=\"text-align: right;\">\n",
       "      <th></th>\n",
       "      <th>repurchase_method</th>\n",
       "      <th>last_transaction_channel</th>\n",
       "      <th>number_of_employees</th>\n",
       "      <th>language</th>\n",
       "    </tr>\n",
       "  </thead>\n",
       "  <tbody>\n",
       "    <tr>\n",
       "      <th>2632</th>\n",
       "      <td>NOTICE</td>\n",
       "      <td>MAIL</td>\n",
       "      <td>51-100</td>\n",
       "      <td>English</td>\n",
       "    </tr>\n",
       "    <tr>\n",
       "      <th>1571</th>\n",
       "      <td>NOTICE</td>\n",
       "      <td>MAIL</td>\n",
       "      <td>1-5</td>\n",
       "      <td>English</td>\n",
       "    </tr>\n",
       "    <tr>\n",
       "      <th>2102</th>\n",
       "      <td>NOTICE</td>\n",
       "      <td>MAIL</td>\n",
       "      <td>6-10</td>\n",
       "      <td>English</td>\n",
       "    </tr>\n",
       "    <tr>\n",
       "      <th>9273</th>\n",
       "      <td>AUTO RENEW</td>\n",
       "      <td>MAIL</td>\n",
       "      <td>6-10</td>\n",
       "      <td>English</td>\n",
       "    </tr>\n",
       "    <tr>\n",
       "      <th>1542</th>\n",
       "      <td>AUTO RENEW</td>\n",
       "      <td>AUTO RENEW</td>\n",
       "      <td>NaN</td>\n",
       "      <td>NaN</td>\n",
       "    </tr>\n",
       "    <tr>\n",
       "      <th>...</th>\n",
       "      <td>...</td>\n",
       "      <td>...</td>\n",
       "      <td>...</td>\n",
       "      <td>...</td>\n",
       "    </tr>\n",
       "    <tr>\n",
       "      <th>3473</th>\n",
       "      <td>NOTICE</td>\n",
       "      <td>MAIL</td>\n",
       "      <td>6-10</td>\n",
       "      <td>English</td>\n",
       "    </tr>\n",
       "    <tr>\n",
       "      <th>8535</th>\n",
       "      <td>NOTICE</td>\n",
       "      <td>MAIL</td>\n",
       "      <td>1-5</td>\n",
       "      <td>English</td>\n",
       "    </tr>\n",
       "    <tr>\n",
       "      <th>14528</th>\n",
       "      <td>AUTO RENEW</td>\n",
       "      <td>PHONE</td>\n",
       "      <td>6-10</td>\n",
       "      <td>English</td>\n",
       "    </tr>\n",
       "    <tr>\n",
       "      <th>899</th>\n",
       "      <td>AUTO RENEW</td>\n",
       "      <td>AUTO RENEW</td>\n",
       "      <td>NaN</td>\n",
       "      <td>NaN</td>\n",
       "    </tr>\n",
       "    <tr>\n",
       "      <th>12706</th>\n",
       "      <td>NOTICE</td>\n",
       "      <td>WEB</td>\n",
       "      <td>NaN</td>\n",
       "      <td>NaN</td>\n",
       "    </tr>\n",
       "  </tbody>\n",
       "</table>\n",
       "<p>8086 rows × 4 columns</p>\n",
       "</div>"
      ],
      "text/plain": [
       "      repurchase_method last_transaction_channel number_of_employees language\n",
       "2632             NOTICE                     MAIL              51-100  English\n",
       "1571             NOTICE                     MAIL                 1-5  English\n",
       "2102             NOTICE                     MAIL                6-10  English\n",
       "9273         AUTO RENEW                     MAIL                6-10  English\n",
       "1542         AUTO RENEW               AUTO RENEW                 NaN      NaN\n",
       "...                 ...                      ...                 ...      ...\n",
       "3473             NOTICE                     MAIL                6-10  English\n",
       "8535             NOTICE                     MAIL                 1-5  English\n",
       "14528        AUTO RENEW                    PHONE                6-10  English\n",
       "899          AUTO RENEW               AUTO RENEW                 NaN      NaN\n",
       "12706            NOTICE                      WEB                 NaN      NaN\n",
       "\n",
       "[8086 rows x 4 columns]"
      ]
     },
     "execution_count": 60,
     "metadata": {},
     "output_type": "execute_result"
    }
   ],
   "source": [
    "cat_train"
   ]
  },
  {
   "cell_type": "code",
   "execution_count": 61,
   "metadata": {},
   "outputs": [
    {
     "data": {
      "text/plain": [
       "array([['NOTICE', 'MAIL', '51-100', 'English'],\n",
       "       ['NOTICE', 'MAIL', '1-5', 'English'],\n",
       "       ['NOTICE', 'MAIL', '6-10', 'English'],\n",
       "       ...,\n",
       "       ['AUTO RENEW', 'PHONE', '6-10', 'English'],\n",
       "       ['AUTO RENEW', 'AUTO RENEW', '6-10', 'English'],\n",
       "       ['NOTICE', 'WEB', '6-10', 'English']], dtype=object)"
      ]
     },
     "execution_count": 61,
     "metadata": {},
     "output_type": "execute_result"
    }
   ],
   "source": [
    "si_cat = SimpleImputer(strategy='most_frequent')\n",
    "cat_train_mf = si_cat.fit_transform(cat_train)\n",
    "cat_train_mf"
   ]
  },
  {
   "cell_type": "markdown",
   "metadata": {},
   "source": [
    "##### Create dummy variables"
   ]
  },
  {
   "cell_type": "code",
   "execution_count": 62,
   "metadata": {},
   "outputs": [],
   "source": [
    "ohe = OneHotEncoder(sparse=False, handle_unknown='ignore')\n",
    "cat_train_dummies = ohe.fit_transform(cat_train_mf)"
   ]
  },
  {
   "cell_type": "code",
   "execution_count": 63,
   "metadata": {},
   "outputs": [
    {
     "data": {
      "text/plain": [
       "(8086, 34)"
      ]
     },
     "execution_count": 63,
     "metadata": {},
     "output_type": "execute_result"
    }
   ],
   "source": [
    "cat_train_dummies.shape"
   ]
  },
  {
   "cell_type": "code",
   "execution_count": 64,
   "metadata": {},
   "outputs": [
    {
     "data": {
      "text/plain": [
       "[array(['AUTO RENEW', 'NOTICE', 'PAYMENT PLAN'], dtype=object),\n",
       " array(['AUTO RENEW', 'BILLING', 'BRANCH (PHONE)', 'BRANCH (POS)', 'IT',\n",
       "        'MAIL', 'PHONE', 'WEB'], dtype=object),\n",
       " array(['1-5', '101-500', '11-50', '500+', '51-100', '6-10'], dtype=object),\n",
       " array(['Arabic', 'Chinese', 'English', 'French', 'German', 'Greek',\n",
       "        'Hebrew', 'Hindi', 'Italian', 'Japanese', 'Korean', 'Pashto',\n",
       "        'Polish', 'Portuguese', 'Russian', 'Spanish', 'Vietnamese'],\n",
       "       dtype=object)]"
      ]
     },
     "execution_count": 64,
     "metadata": {},
     "output_type": "execute_result"
    }
   ],
   "source": [
    "ohe.categories_"
   ]
  },
  {
   "cell_type": "code",
   "execution_count": 65,
   "metadata": {},
   "outputs": [
    {
     "data": {
      "text/plain": [
       "['repurchase_method',\n",
       " 'last_transaction_channel',\n",
       " 'number_of_employees',\n",
       " 'language']"
      ]
     },
     "execution_count": 65,
     "metadata": {},
     "output_type": "execute_result"
    }
   ],
   "source": [
    "cat_cols"
   ]
  },
  {
   "cell_type": "code",
   "execution_count": 66,
   "metadata": {},
   "outputs": [
    {
     "data": {
      "text/plain": [
       "34"
      ]
     },
     "execution_count": 66,
     "metadata": {},
     "output_type": "execute_result"
    }
   ],
   "source": [
    "#create dataframe from dummies arrays\n",
    "def create_dummy_cols(cat_cols, ohe_c):\n",
    "    dummy_cols = []\n",
    "    for col, cat_set in zip(cat_cols, ohe_c):\n",
    "        for cat in cat_set:\n",
    "            dummy_cols.append(col+'_'+str(cat))\n",
    "    return dummy_cols\n",
    "dummy_cols = create_dummy_cols(cat_cols, ohe.categories_)\n",
    "len(dummy_cols)"
   ]
  },
  {
   "cell_type": "code",
   "execution_count": 67,
   "metadata": {},
   "outputs": [
    {
     "data": {
      "text/html": [
       "<div>\n",
       "<style scoped>\n",
       "    .dataframe tbody tr th:only-of-type {\n",
       "        vertical-align: middle;\n",
       "    }\n",
       "\n",
       "    .dataframe tbody tr th {\n",
       "        vertical-align: top;\n",
       "    }\n",
       "\n",
       "    .dataframe thead th {\n",
       "        text-align: right;\n",
       "    }\n",
       "</style>\n",
       "<table border=\"1\" class=\"dataframe\">\n",
       "  <thead>\n",
       "    <tr style=\"text-align: right;\">\n",
       "      <th></th>\n",
       "      <th>repurchase_method_AUTO RENEW</th>\n",
       "      <th>repurchase_method_NOTICE</th>\n",
       "      <th>repurchase_method_PAYMENT PLAN</th>\n",
       "      <th>last_transaction_channel_AUTO RENEW</th>\n",
       "      <th>last_transaction_channel_BILLING</th>\n",
       "      <th>last_transaction_channel_BRANCH (PHONE)</th>\n",
       "      <th>last_transaction_channel_BRANCH (POS)</th>\n",
       "      <th>last_transaction_channel_IT</th>\n",
       "      <th>last_transaction_channel_MAIL</th>\n",
       "      <th>last_transaction_channel_PHONE</th>\n",
       "      <th>last_transaction_channel_WEB</th>\n",
       "      <th>number_of_employees_1-5</th>\n",
       "      <th>number_of_employees_101-500</th>\n",
       "      <th>number_of_employees_11-50</th>\n",
       "      <th>number_of_employees_500+</th>\n",
       "      <th>number_of_employees_51-100</th>\n",
       "      <th>number_of_employees_6-10</th>\n",
       "      <th>language_Arabic</th>\n",
       "      <th>language_Chinese</th>\n",
       "      <th>language_English</th>\n",
       "      <th>language_French</th>\n",
       "      <th>language_German</th>\n",
       "      <th>language_Greek</th>\n",
       "      <th>language_Hebrew</th>\n",
       "      <th>language_Hindi</th>\n",
       "      <th>language_Italian</th>\n",
       "      <th>language_Japanese</th>\n",
       "      <th>language_Korean</th>\n",
       "      <th>language_Pashto</th>\n",
       "      <th>language_Polish</th>\n",
       "      <th>language_Portuguese</th>\n",
       "      <th>language_Russian</th>\n",
       "      <th>language_Spanish</th>\n",
       "      <th>language_Vietnamese</th>\n",
       "    </tr>\n",
       "  </thead>\n",
       "  <tbody>\n",
       "    <tr>\n",
       "      <th>2632</th>\n",
       "      <td>0.0</td>\n",
       "      <td>1.0</td>\n",
       "      <td>0.0</td>\n",
       "      <td>0.0</td>\n",
       "      <td>0.0</td>\n",
       "      <td>0.0</td>\n",
       "      <td>0.0</td>\n",
       "      <td>0.0</td>\n",
       "      <td>1.0</td>\n",
       "      <td>0.0</td>\n",
       "      <td>0.0</td>\n",
       "      <td>0.0</td>\n",
       "      <td>0.0</td>\n",
       "      <td>0.0</td>\n",
       "      <td>0.0</td>\n",
       "      <td>1.0</td>\n",
       "      <td>0.0</td>\n",
       "      <td>0.0</td>\n",
       "      <td>0.0</td>\n",
       "      <td>1.0</td>\n",
       "      <td>0.0</td>\n",
       "      <td>0.0</td>\n",
       "      <td>0.0</td>\n",
       "      <td>0.0</td>\n",
       "      <td>0.0</td>\n",
       "      <td>0.0</td>\n",
       "      <td>0.0</td>\n",
       "      <td>0.0</td>\n",
       "      <td>0.0</td>\n",
       "      <td>0.0</td>\n",
       "      <td>0.0</td>\n",
       "      <td>0.0</td>\n",
       "      <td>0.0</td>\n",
       "      <td>0.0</td>\n",
       "    </tr>\n",
       "    <tr>\n",
       "      <th>1571</th>\n",
       "      <td>0.0</td>\n",
       "      <td>1.0</td>\n",
       "      <td>0.0</td>\n",
       "      <td>0.0</td>\n",
       "      <td>0.0</td>\n",
       "      <td>0.0</td>\n",
       "      <td>0.0</td>\n",
       "      <td>0.0</td>\n",
       "      <td>1.0</td>\n",
       "      <td>0.0</td>\n",
       "      <td>0.0</td>\n",
       "      <td>1.0</td>\n",
       "      <td>0.0</td>\n",
       "      <td>0.0</td>\n",
       "      <td>0.0</td>\n",
       "      <td>0.0</td>\n",
       "      <td>0.0</td>\n",
       "      <td>0.0</td>\n",
       "      <td>0.0</td>\n",
       "      <td>1.0</td>\n",
       "      <td>0.0</td>\n",
       "      <td>0.0</td>\n",
       "      <td>0.0</td>\n",
       "      <td>0.0</td>\n",
       "      <td>0.0</td>\n",
       "      <td>0.0</td>\n",
       "      <td>0.0</td>\n",
       "      <td>0.0</td>\n",
       "      <td>0.0</td>\n",
       "      <td>0.0</td>\n",
       "      <td>0.0</td>\n",
       "      <td>0.0</td>\n",
       "      <td>0.0</td>\n",
       "      <td>0.0</td>\n",
       "    </tr>\n",
       "    <tr>\n",
       "      <th>2102</th>\n",
       "      <td>0.0</td>\n",
       "      <td>1.0</td>\n",
       "      <td>0.0</td>\n",
       "      <td>0.0</td>\n",
       "      <td>0.0</td>\n",
       "      <td>0.0</td>\n",
       "      <td>0.0</td>\n",
       "      <td>0.0</td>\n",
       "      <td>1.0</td>\n",
       "      <td>0.0</td>\n",
       "      <td>0.0</td>\n",
       "      <td>0.0</td>\n",
       "      <td>0.0</td>\n",
       "      <td>0.0</td>\n",
       "      <td>0.0</td>\n",
       "      <td>0.0</td>\n",
       "      <td>1.0</td>\n",
       "      <td>0.0</td>\n",
       "      <td>0.0</td>\n",
       "      <td>1.0</td>\n",
       "      <td>0.0</td>\n",
       "      <td>0.0</td>\n",
       "      <td>0.0</td>\n",
       "      <td>0.0</td>\n",
       "      <td>0.0</td>\n",
       "      <td>0.0</td>\n",
       "      <td>0.0</td>\n",
       "      <td>0.0</td>\n",
       "      <td>0.0</td>\n",
       "      <td>0.0</td>\n",
       "      <td>0.0</td>\n",
       "      <td>0.0</td>\n",
       "      <td>0.0</td>\n",
       "      <td>0.0</td>\n",
       "    </tr>\n",
       "    <tr>\n",
       "      <th>9273</th>\n",
       "      <td>1.0</td>\n",
       "      <td>0.0</td>\n",
       "      <td>0.0</td>\n",
       "      <td>0.0</td>\n",
       "      <td>0.0</td>\n",
       "      <td>0.0</td>\n",
       "      <td>0.0</td>\n",
       "      <td>0.0</td>\n",
       "      <td>1.0</td>\n",
       "      <td>0.0</td>\n",
       "      <td>0.0</td>\n",
       "      <td>0.0</td>\n",
       "      <td>0.0</td>\n",
       "      <td>0.0</td>\n",
       "      <td>0.0</td>\n",
       "      <td>0.0</td>\n",
       "      <td>1.0</td>\n",
       "      <td>0.0</td>\n",
       "      <td>0.0</td>\n",
       "      <td>1.0</td>\n",
       "      <td>0.0</td>\n",
       "      <td>0.0</td>\n",
       "      <td>0.0</td>\n",
       "      <td>0.0</td>\n",
       "      <td>0.0</td>\n",
       "      <td>0.0</td>\n",
       "      <td>0.0</td>\n",
       "      <td>0.0</td>\n",
       "      <td>0.0</td>\n",
       "      <td>0.0</td>\n",
       "      <td>0.0</td>\n",
       "      <td>0.0</td>\n",
       "      <td>0.0</td>\n",
       "      <td>0.0</td>\n",
       "    </tr>\n",
       "    <tr>\n",
       "      <th>1542</th>\n",
       "      <td>1.0</td>\n",
       "      <td>0.0</td>\n",
       "      <td>0.0</td>\n",
       "      <td>1.0</td>\n",
       "      <td>0.0</td>\n",
       "      <td>0.0</td>\n",
       "      <td>0.0</td>\n",
       "      <td>0.0</td>\n",
       "      <td>0.0</td>\n",
       "      <td>0.0</td>\n",
       "      <td>0.0</td>\n",
       "      <td>0.0</td>\n",
       "      <td>0.0</td>\n",
       "      <td>0.0</td>\n",
       "      <td>0.0</td>\n",
       "      <td>0.0</td>\n",
       "      <td>1.0</td>\n",
       "      <td>0.0</td>\n",
       "      <td>0.0</td>\n",
       "      <td>1.0</td>\n",
       "      <td>0.0</td>\n",
       "      <td>0.0</td>\n",
       "      <td>0.0</td>\n",
       "      <td>0.0</td>\n",
       "      <td>0.0</td>\n",
       "      <td>0.0</td>\n",
       "      <td>0.0</td>\n",
       "      <td>0.0</td>\n",
       "      <td>0.0</td>\n",
       "      <td>0.0</td>\n",
       "      <td>0.0</td>\n",
       "      <td>0.0</td>\n",
       "      <td>0.0</td>\n",
       "      <td>0.0</td>\n",
       "    </tr>\n",
       "    <tr>\n",
       "      <th>...</th>\n",
       "      <td>...</td>\n",
       "      <td>...</td>\n",
       "      <td>...</td>\n",
       "      <td>...</td>\n",
       "      <td>...</td>\n",
       "      <td>...</td>\n",
       "      <td>...</td>\n",
       "      <td>...</td>\n",
       "      <td>...</td>\n",
       "      <td>...</td>\n",
       "      <td>...</td>\n",
       "      <td>...</td>\n",
       "      <td>...</td>\n",
       "      <td>...</td>\n",
       "      <td>...</td>\n",
       "      <td>...</td>\n",
       "      <td>...</td>\n",
       "      <td>...</td>\n",
       "      <td>...</td>\n",
       "      <td>...</td>\n",
       "      <td>...</td>\n",
       "      <td>...</td>\n",
       "      <td>...</td>\n",
       "      <td>...</td>\n",
       "      <td>...</td>\n",
       "      <td>...</td>\n",
       "      <td>...</td>\n",
       "      <td>...</td>\n",
       "      <td>...</td>\n",
       "      <td>...</td>\n",
       "      <td>...</td>\n",
       "      <td>...</td>\n",
       "      <td>...</td>\n",
       "      <td>...</td>\n",
       "    </tr>\n",
       "    <tr>\n",
       "      <th>3473</th>\n",
       "      <td>0.0</td>\n",
       "      <td>1.0</td>\n",
       "      <td>0.0</td>\n",
       "      <td>0.0</td>\n",
       "      <td>0.0</td>\n",
       "      <td>0.0</td>\n",
       "      <td>0.0</td>\n",
       "      <td>0.0</td>\n",
       "      <td>1.0</td>\n",
       "      <td>0.0</td>\n",
       "      <td>0.0</td>\n",
       "      <td>0.0</td>\n",
       "      <td>0.0</td>\n",
       "      <td>0.0</td>\n",
       "      <td>0.0</td>\n",
       "      <td>0.0</td>\n",
       "      <td>1.0</td>\n",
       "      <td>0.0</td>\n",
       "      <td>0.0</td>\n",
       "      <td>1.0</td>\n",
       "      <td>0.0</td>\n",
       "      <td>0.0</td>\n",
       "      <td>0.0</td>\n",
       "      <td>0.0</td>\n",
       "      <td>0.0</td>\n",
       "      <td>0.0</td>\n",
       "      <td>0.0</td>\n",
       "      <td>0.0</td>\n",
       "      <td>0.0</td>\n",
       "      <td>0.0</td>\n",
       "      <td>0.0</td>\n",
       "      <td>0.0</td>\n",
       "      <td>0.0</td>\n",
       "      <td>0.0</td>\n",
       "    </tr>\n",
       "    <tr>\n",
       "      <th>8535</th>\n",
       "      <td>0.0</td>\n",
       "      <td>1.0</td>\n",
       "      <td>0.0</td>\n",
       "      <td>0.0</td>\n",
       "      <td>0.0</td>\n",
       "      <td>0.0</td>\n",
       "      <td>0.0</td>\n",
       "      <td>0.0</td>\n",
       "      <td>1.0</td>\n",
       "      <td>0.0</td>\n",
       "      <td>0.0</td>\n",
       "      <td>1.0</td>\n",
       "      <td>0.0</td>\n",
       "      <td>0.0</td>\n",
       "      <td>0.0</td>\n",
       "      <td>0.0</td>\n",
       "      <td>0.0</td>\n",
       "      <td>0.0</td>\n",
       "      <td>0.0</td>\n",
       "      <td>1.0</td>\n",
       "      <td>0.0</td>\n",
       "      <td>0.0</td>\n",
       "      <td>0.0</td>\n",
       "      <td>0.0</td>\n",
       "      <td>0.0</td>\n",
       "      <td>0.0</td>\n",
       "      <td>0.0</td>\n",
       "      <td>0.0</td>\n",
       "      <td>0.0</td>\n",
       "      <td>0.0</td>\n",
       "      <td>0.0</td>\n",
       "      <td>0.0</td>\n",
       "      <td>0.0</td>\n",
       "      <td>0.0</td>\n",
       "    </tr>\n",
       "    <tr>\n",
       "      <th>14528</th>\n",
       "      <td>1.0</td>\n",
       "      <td>0.0</td>\n",
       "      <td>0.0</td>\n",
       "      <td>0.0</td>\n",
       "      <td>0.0</td>\n",
       "      <td>0.0</td>\n",
       "      <td>0.0</td>\n",
       "      <td>0.0</td>\n",
       "      <td>0.0</td>\n",
       "      <td>1.0</td>\n",
       "      <td>0.0</td>\n",
       "      <td>0.0</td>\n",
       "      <td>0.0</td>\n",
       "      <td>0.0</td>\n",
       "      <td>0.0</td>\n",
       "      <td>0.0</td>\n",
       "      <td>1.0</td>\n",
       "      <td>0.0</td>\n",
       "      <td>0.0</td>\n",
       "      <td>1.0</td>\n",
       "      <td>0.0</td>\n",
       "      <td>0.0</td>\n",
       "      <td>0.0</td>\n",
       "      <td>0.0</td>\n",
       "      <td>0.0</td>\n",
       "      <td>0.0</td>\n",
       "      <td>0.0</td>\n",
       "      <td>0.0</td>\n",
       "      <td>0.0</td>\n",
       "      <td>0.0</td>\n",
       "      <td>0.0</td>\n",
       "      <td>0.0</td>\n",
       "      <td>0.0</td>\n",
       "      <td>0.0</td>\n",
       "    </tr>\n",
       "    <tr>\n",
       "      <th>899</th>\n",
       "      <td>1.0</td>\n",
       "      <td>0.0</td>\n",
       "      <td>0.0</td>\n",
       "      <td>1.0</td>\n",
       "      <td>0.0</td>\n",
       "      <td>0.0</td>\n",
       "      <td>0.0</td>\n",
       "      <td>0.0</td>\n",
       "      <td>0.0</td>\n",
       "      <td>0.0</td>\n",
       "      <td>0.0</td>\n",
       "      <td>0.0</td>\n",
       "      <td>0.0</td>\n",
       "      <td>0.0</td>\n",
       "      <td>0.0</td>\n",
       "      <td>0.0</td>\n",
       "      <td>1.0</td>\n",
       "      <td>0.0</td>\n",
       "      <td>0.0</td>\n",
       "      <td>1.0</td>\n",
       "      <td>0.0</td>\n",
       "      <td>0.0</td>\n",
       "      <td>0.0</td>\n",
       "      <td>0.0</td>\n",
       "      <td>0.0</td>\n",
       "      <td>0.0</td>\n",
       "      <td>0.0</td>\n",
       "      <td>0.0</td>\n",
       "      <td>0.0</td>\n",
       "      <td>0.0</td>\n",
       "      <td>0.0</td>\n",
       "      <td>0.0</td>\n",
       "      <td>0.0</td>\n",
       "      <td>0.0</td>\n",
       "    </tr>\n",
       "    <tr>\n",
       "      <th>12706</th>\n",
       "      <td>0.0</td>\n",
       "      <td>1.0</td>\n",
       "      <td>0.0</td>\n",
       "      <td>0.0</td>\n",
       "      <td>0.0</td>\n",
       "      <td>0.0</td>\n",
       "      <td>0.0</td>\n",
       "      <td>0.0</td>\n",
       "      <td>0.0</td>\n",
       "      <td>0.0</td>\n",
       "      <td>1.0</td>\n",
       "      <td>0.0</td>\n",
       "      <td>0.0</td>\n",
       "      <td>0.0</td>\n",
       "      <td>0.0</td>\n",
       "      <td>0.0</td>\n",
       "      <td>1.0</td>\n",
       "      <td>0.0</td>\n",
       "      <td>0.0</td>\n",
       "      <td>1.0</td>\n",
       "      <td>0.0</td>\n",
       "      <td>0.0</td>\n",
       "      <td>0.0</td>\n",
       "      <td>0.0</td>\n",
       "      <td>0.0</td>\n",
       "      <td>0.0</td>\n",
       "      <td>0.0</td>\n",
       "      <td>0.0</td>\n",
       "      <td>0.0</td>\n",
       "      <td>0.0</td>\n",
       "      <td>0.0</td>\n",
       "      <td>0.0</td>\n",
       "      <td>0.0</td>\n",
       "      <td>0.0</td>\n",
       "    </tr>\n",
       "  </tbody>\n",
       "</table>\n",
       "<p>8086 rows × 34 columns</p>\n",
       "</div>"
      ],
      "text/plain": [
       "       repurchase_method_AUTO RENEW  repurchase_method_NOTICE  \\\n",
       "2632                            0.0                       1.0   \n",
       "1571                            0.0                       1.0   \n",
       "2102                            0.0                       1.0   \n",
       "9273                            1.0                       0.0   \n",
       "1542                            1.0                       0.0   \n",
       "...                             ...                       ...   \n",
       "3473                            0.0                       1.0   \n",
       "8535                            0.0                       1.0   \n",
       "14528                           1.0                       0.0   \n",
       "899                             1.0                       0.0   \n",
       "12706                           0.0                       1.0   \n",
       "\n",
       "       repurchase_method_PAYMENT PLAN  last_transaction_channel_AUTO RENEW  \\\n",
       "2632                              0.0                                  0.0   \n",
       "1571                              0.0                                  0.0   \n",
       "2102                              0.0                                  0.0   \n",
       "9273                              0.0                                  0.0   \n",
       "1542                              0.0                                  1.0   \n",
       "...                               ...                                  ...   \n",
       "3473                              0.0                                  0.0   \n",
       "8535                              0.0                                  0.0   \n",
       "14528                             0.0                                  0.0   \n",
       "899                               0.0                                  1.0   \n",
       "12706                             0.0                                  0.0   \n",
       "\n",
       "       last_transaction_channel_BILLING  \\\n",
       "2632                                0.0   \n",
       "1571                                0.0   \n",
       "2102                                0.0   \n",
       "9273                                0.0   \n",
       "1542                                0.0   \n",
       "...                                 ...   \n",
       "3473                                0.0   \n",
       "8535                                0.0   \n",
       "14528                               0.0   \n",
       "899                                 0.0   \n",
       "12706                               0.0   \n",
       "\n",
       "       last_transaction_channel_BRANCH (PHONE)  \\\n",
       "2632                                       0.0   \n",
       "1571                                       0.0   \n",
       "2102                                       0.0   \n",
       "9273                                       0.0   \n",
       "1542                                       0.0   \n",
       "...                                        ...   \n",
       "3473                                       0.0   \n",
       "8535                                       0.0   \n",
       "14528                                      0.0   \n",
       "899                                        0.0   \n",
       "12706                                      0.0   \n",
       "\n",
       "       last_transaction_channel_BRANCH (POS)  last_transaction_channel_IT  \\\n",
       "2632                                     0.0                          0.0   \n",
       "1571                                     0.0                          0.0   \n",
       "2102                                     0.0                          0.0   \n",
       "9273                                     0.0                          0.0   \n",
       "1542                                     0.0                          0.0   \n",
       "...                                      ...                          ...   \n",
       "3473                                     0.0                          0.0   \n",
       "8535                                     0.0                          0.0   \n",
       "14528                                    0.0                          0.0   \n",
       "899                                      0.0                          0.0   \n",
       "12706                                    0.0                          0.0   \n",
       "\n",
       "       last_transaction_channel_MAIL  last_transaction_channel_PHONE  \\\n",
       "2632                             1.0                             0.0   \n",
       "1571                             1.0                             0.0   \n",
       "2102                             1.0                             0.0   \n",
       "9273                             1.0                             0.0   \n",
       "1542                             0.0                             0.0   \n",
       "...                              ...                             ...   \n",
       "3473                             1.0                             0.0   \n",
       "8535                             1.0                             0.0   \n",
       "14528                            0.0                             1.0   \n",
       "899                              0.0                             0.0   \n",
       "12706                            0.0                             0.0   \n",
       "\n",
       "       last_transaction_channel_WEB  number_of_employees_1-5  \\\n",
       "2632                            0.0                      0.0   \n",
       "1571                            0.0                      1.0   \n",
       "2102                            0.0                      0.0   \n",
       "9273                            0.0                      0.0   \n",
       "1542                            0.0                      0.0   \n",
       "...                             ...                      ...   \n",
       "3473                            0.0                      0.0   \n",
       "8535                            0.0                      1.0   \n",
       "14528                           0.0                      0.0   \n",
       "899                             0.0                      0.0   \n",
       "12706                           1.0                      0.0   \n",
       "\n",
       "       number_of_employees_101-500  number_of_employees_11-50  \\\n",
       "2632                           0.0                        0.0   \n",
       "1571                           0.0                        0.0   \n",
       "2102                           0.0                        0.0   \n",
       "9273                           0.0                        0.0   \n",
       "1542                           0.0                        0.0   \n",
       "...                            ...                        ...   \n",
       "3473                           0.0                        0.0   \n",
       "8535                           0.0                        0.0   \n",
       "14528                          0.0                        0.0   \n",
       "899                            0.0                        0.0   \n",
       "12706                          0.0                        0.0   \n",
       "\n",
       "       number_of_employees_500+  number_of_employees_51-100  \\\n",
       "2632                        0.0                         1.0   \n",
       "1571                        0.0                         0.0   \n",
       "2102                        0.0                         0.0   \n",
       "9273                        0.0                         0.0   \n",
       "1542                        0.0                         0.0   \n",
       "...                         ...                         ...   \n",
       "3473                        0.0                         0.0   \n",
       "8535                        0.0                         0.0   \n",
       "14528                       0.0                         0.0   \n",
       "899                         0.0                         0.0   \n",
       "12706                       0.0                         0.0   \n",
       "\n",
       "       number_of_employees_6-10  language_Arabic  language_Chinese  \\\n",
       "2632                        0.0              0.0               0.0   \n",
       "1571                        0.0              0.0               0.0   \n",
       "2102                        1.0              0.0               0.0   \n",
       "9273                        1.0              0.0               0.0   \n",
       "1542                        1.0              0.0               0.0   \n",
       "...                         ...              ...               ...   \n",
       "3473                        1.0              0.0               0.0   \n",
       "8535                        0.0              0.0               0.0   \n",
       "14528                       1.0              0.0               0.0   \n",
       "899                         1.0              0.0               0.0   \n",
       "12706                       1.0              0.0               0.0   \n",
       "\n",
       "       language_English  language_French  language_German  language_Greek  \\\n",
       "2632                1.0              0.0              0.0             0.0   \n",
       "1571                1.0              0.0              0.0             0.0   \n",
       "2102                1.0              0.0              0.0             0.0   \n",
       "9273                1.0              0.0              0.0             0.0   \n",
       "1542                1.0              0.0              0.0             0.0   \n",
       "...                 ...              ...              ...             ...   \n",
       "3473                1.0              0.0              0.0             0.0   \n",
       "8535                1.0              0.0              0.0             0.0   \n",
       "14528               1.0              0.0              0.0             0.0   \n",
       "899                 1.0              0.0              0.0             0.0   \n",
       "12706               1.0              0.0              0.0             0.0   \n",
       "\n",
       "       language_Hebrew  language_Hindi  language_Italian  language_Japanese  \\\n",
       "2632               0.0             0.0               0.0                0.0   \n",
       "1571               0.0             0.0               0.0                0.0   \n",
       "2102               0.0             0.0               0.0                0.0   \n",
       "9273               0.0             0.0               0.0                0.0   \n",
       "1542               0.0             0.0               0.0                0.0   \n",
       "...                ...             ...               ...                ...   \n",
       "3473               0.0             0.0               0.0                0.0   \n",
       "8535               0.0             0.0               0.0                0.0   \n",
       "14528              0.0             0.0               0.0                0.0   \n",
       "899                0.0             0.0               0.0                0.0   \n",
       "12706              0.0             0.0               0.0                0.0   \n",
       "\n",
       "       language_Korean  language_Pashto  language_Polish  language_Portuguese  \\\n",
       "2632               0.0              0.0              0.0                  0.0   \n",
       "1571               0.0              0.0              0.0                  0.0   \n",
       "2102               0.0              0.0              0.0                  0.0   \n",
       "9273               0.0              0.0              0.0                  0.0   \n",
       "1542               0.0              0.0              0.0                  0.0   \n",
       "...                ...              ...              ...                  ...   \n",
       "3473               0.0              0.0              0.0                  0.0   \n",
       "8535               0.0              0.0              0.0                  0.0   \n",
       "14528              0.0              0.0              0.0                  0.0   \n",
       "899                0.0              0.0              0.0                  0.0   \n",
       "12706              0.0              0.0              0.0                  0.0   \n",
       "\n",
       "       language_Russian  language_Spanish  language_Vietnamese  \n",
       "2632                0.0               0.0                  0.0  \n",
       "1571                0.0               0.0                  0.0  \n",
       "2102                0.0               0.0                  0.0  \n",
       "9273                0.0               0.0                  0.0  \n",
       "1542                0.0               0.0                  0.0  \n",
       "...                 ...               ...                  ...  \n",
       "3473                0.0               0.0                  0.0  \n",
       "8535                0.0               0.0                  0.0  \n",
       "14528               0.0               0.0                  0.0  \n",
       "899                 0.0               0.0                  0.0  \n",
       "12706               0.0               0.0                  0.0  \n",
       "\n",
       "[8086 rows x 34 columns]"
      ]
     },
     "execution_count": 67,
     "metadata": {},
     "output_type": "execute_result"
    }
   ],
   "source": [
    "pd.DataFrame(cat_train_dummies, index=cat_train.index, columns=dummy_cols)"
   ]
  },
  {
   "cell_type": "code",
   "execution_count": 68,
   "metadata": {},
   "outputs": [
    {
     "data": {
      "text/plain": [
       "repurchase_method            NOTICE\n",
       "last_transaction_channel       MAIL\n",
       "number_of_employees            6-10\n",
       "language                    English\n",
       "Name: 13418, dtype: object"
      ]
     },
     "execution_count": 68,
     "metadata": {},
     "output_type": "execute_result"
    }
   ],
   "source": [
    "#confirmation\n",
    "cat_train.loc[13418]"
   ]
  },
  {
   "cell_type": "code",
   "execution_count": 69,
   "metadata": {},
   "outputs": [],
   "source": [
    "cat_train_df = pd.DataFrame(cat_train_dummies, index=cat_train.index, columns=dummy_cols)"
   ]
  },
  {
   "cell_type": "markdown",
   "metadata": {},
   "source": [
    "#### Combine numeric, boolean and categorical data"
   ]
  },
  {
   "cell_type": "code",
   "execution_count": 70,
   "metadata": {},
   "outputs": [
    {
     "data": {
      "text/html": [
       "<div>\n",
       "<style scoped>\n",
       "    .dataframe tbody tr th:only-of-type {\n",
       "        vertical-align: middle;\n",
       "    }\n",
       "\n",
       "    .dataframe tbody tr th {\n",
       "        vertical-align: top;\n",
       "    }\n",
       "\n",
       "    .dataframe thead th {\n",
       "        text-align: right;\n",
       "    }\n",
       "</style>\n",
       "<table border=\"1\" class=\"dataframe\">\n",
       "  <thead>\n",
       "    <tr style=\"text-align: right;\">\n",
       "      <th></th>\n",
       "      <th>historical_sales_volume</th>\n",
       "      <th>number_of_prior_year_transactions</th>\n",
       "      <th>days_since_first_purchase</th>\n",
       "      <th>desk</th>\n",
       "      <th>executive_chair</th>\n",
       "      <th>standard_chair</th>\n",
       "      <th>monitor</th>\n",
       "      <th>printer</th>\n",
       "      <th>computer</th>\n",
       "      <th>insurance</th>\n",
       "      <th>toner</th>\n",
       "      <th>office_supplies</th>\n",
       "      <th>repurchase_method_AUTO RENEW</th>\n",
       "      <th>repurchase_method_NOTICE</th>\n",
       "      <th>repurchase_method_PAYMENT PLAN</th>\n",
       "      <th>last_transaction_channel_AUTO RENEW</th>\n",
       "      <th>last_transaction_channel_BILLING</th>\n",
       "      <th>last_transaction_channel_BRANCH (PHONE)</th>\n",
       "      <th>last_transaction_channel_BRANCH (POS)</th>\n",
       "      <th>last_transaction_channel_IT</th>\n",
       "      <th>last_transaction_channel_MAIL</th>\n",
       "      <th>last_transaction_channel_PHONE</th>\n",
       "      <th>last_transaction_channel_WEB</th>\n",
       "      <th>number_of_employees_1-5</th>\n",
       "      <th>number_of_employees_101-500</th>\n",
       "      <th>number_of_employees_11-50</th>\n",
       "      <th>number_of_employees_500+</th>\n",
       "      <th>number_of_employees_51-100</th>\n",
       "      <th>number_of_employees_6-10</th>\n",
       "      <th>language_Arabic</th>\n",
       "      <th>language_Chinese</th>\n",
       "      <th>language_English</th>\n",
       "      <th>language_French</th>\n",
       "      <th>language_German</th>\n",
       "      <th>language_Greek</th>\n",
       "      <th>language_Hebrew</th>\n",
       "      <th>language_Hindi</th>\n",
       "      <th>language_Italian</th>\n",
       "      <th>language_Japanese</th>\n",
       "      <th>language_Korean</th>\n",
       "      <th>language_Pashto</th>\n",
       "      <th>language_Polish</th>\n",
       "      <th>language_Portuguese</th>\n",
       "      <th>language_Russian</th>\n",
       "      <th>language_Spanish</th>\n",
       "      <th>language_Vietnamese</th>\n",
       "    </tr>\n",
       "  </thead>\n",
       "  <tbody>\n",
       "    <tr>\n",
       "      <th>2632</th>\n",
       "      <td>0.406579</td>\n",
       "      <td>0.764704</td>\n",
       "      <td>0.146004</td>\n",
       "      <td>0.0</td>\n",
       "      <td>0.0</td>\n",
       "      <td>0.0</td>\n",
       "      <td>0.0</td>\n",
       "      <td>0.0</td>\n",
       "      <td>0.0</td>\n",
       "      <td>0.0</td>\n",
       "      <td>0.0</td>\n",
       "      <td>1.0</td>\n",
       "      <td>0.0</td>\n",
       "      <td>1.0</td>\n",
       "      <td>0.0</td>\n",
       "      <td>0.0</td>\n",
       "      <td>0.0</td>\n",
       "      <td>0.0</td>\n",
       "      <td>0.0</td>\n",
       "      <td>0.0</td>\n",
       "      <td>1.0</td>\n",
       "      <td>0.0</td>\n",
       "      <td>0.0</td>\n",
       "      <td>0.0</td>\n",
       "      <td>0.0</td>\n",
       "      <td>0.0</td>\n",
       "      <td>0.0</td>\n",
       "      <td>1.0</td>\n",
       "      <td>0.0</td>\n",
       "      <td>0.0</td>\n",
       "      <td>0.0</td>\n",
       "      <td>1.0</td>\n",
       "      <td>0.0</td>\n",
       "      <td>0.0</td>\n",
       "      <td>0.0</td>\n",
       "      <td>0.0</td>\n",
       "      <td>0.0</td>\n",
       "      <td>0.0</td>\n",
       "      <td>0.0</td>\n",
       "      <td>0.0</td>\n",
       "      <td>0.0</td>\n",
       "      <td>0.0</td>\n",
       "      <td>0.0</td>\n",
       "      <td>0.0</td>\n",
       "      <td>0.0</td>\n",
       "      <td>0.0</td>\n",
       "    </tr>\n",
       "    <tr>\n",
       "      <th>1571</th>\n",
       "      <td>-0.388558</td>\n",
       "      <td>0.048287</td>\n",
       "      <td>0.548298</td>\n",
       "      <td>0.0</td>\n",
       "      <td>0.0</td>\n",
       "      <td>0.0</td>\n",
       "      <td>0.0</td>\n",
       "      <td>0.0</td>\n",
       "      <td>0.0</td>\n",
       "      <td>0.0</td>\n",
       "      <td>0.0</td>\n",
       "      <td>1.0</td>\n",
       "      <td>0.0</td>\n",
       "      <td>1.0</td>\n",
       "      <td>0.0</td>\n",
       "      <td>0.0</td>\n",
       "      <td>0.0</td>\n",
       "      <td>0.0</td>\n",
       "      <td>0.0</td>\n",
       "      <td>0.0</td>\n",
       "      <td>1.0</td>\n",
       "      <td>0.0</td>\n",
       "      <td>0.0</td>\n",
       "      <td>1.0</td>\n",
       "      <td>0.0</td>\n",
       "      <td>0.0</td>\n",
       "      <td>0.0</td>\n",
       "      <td>0.0</td>\n",
       "      <td>0.0</td>\n",
       "      <td>0.0</td>\n",
       "      <td>0.0</td>\n",
       "      <td>1.0</td>\n",
       "      <td>0.0</td>\n",
       "      <td>0.0</td>\n",
       "      <td>0.0</td>\n",
       "      <td>0.0</td>\n",
       "      <td>0.0</td>\n",
       "      <td>0.0</td>\n",
       "      <td>0.0</td>\n",
       "      <td>0.0</td>\n",
       "      <td>0.0</td>\n",
       "      <td>0.0</td>\n",
       "      <td>0.0</td>\n",
       "      <td>0.0</td>\n",
       "      <td>0.0</td>\n",
       "      <td>0.0</td>\n",
       "    </tr>\n",
       "    <tr>\n",
       "      <th>2102</th>\n",
       "      <td>-0.590154</td>\n",
       "      <td>-0.429325</td>\n",
       "      <td>2.032510</td>\n",
       "      <td>0.0</td>\n",
       "      <td>0.0</td>\n",
       "      <td>0.0</td>\n",
       "      <td>0.0</td>\n",
       "      <td>0.0</td>\n",
       "      <td>0.0</td>\n",
       "      <td>0.0</td>\n",
       "      <td>0.0</td>\n",
       "      <td>1.0</td>\n",
       "      <td>0.0</td>\n",
       "      <td>1.0</td>\n",
       "      <td>0.0</td>\n",
       "      <td>0.0</td>\n",
       "      <td>0.0</td>\n",
       "      <td>0.0</td>\n",
       "      <td>0.0</td>\n",
       "      <td>0.0</td>\n",
       "      <td>1.0</td>\n",
       "      <td>0.0</td>\n",
       "      <td>0.0</td>\n",
       "      <td>0.0</td>\n",
       "      <td>0.0</td>\n",
       "      <td>0.0</td>\n",
       "      <td>0.0</td>\n",
       "      <td>0.0</td>\n",
       "      <td>1.0</td>\n",
       "      <td>0.0</td>\n",
       "      <td>0.0</td>\n",
       "      <td>1.0</td>\n",
       "      <td>0.0</td>\n",
       "      <td>0.0</td>\n",
       "      <td>0.0</td>\n",
       "      <td>0.0</td>\n",
       "      <td>0.0</td>\n",
       "      <td>0.0</td>\n",
       "      <td>0.0</td>\n",
       "      <td>0.0</td>\n",
       "      <td>0.0</td>\n",
       "      <td>0.0</td>\n",
       "      <td>0.0</td>\n",
       "      <td>0.0</td>\n",
       "      <td>0.0</td>\n",
       "      <td>0.0</td>\n",
       "    </tr>\n",
       "    <tr>\n",
       "      <th>9273</th>\n",
       "      <td>0.386802</td>\n",
       "      <td>0.764704</td>\n",
       "      <td>0.214897</td>\n",
       "      <td>0.0</td>\n",
       "      <td>0.0</td>\n",
       "      <td>0.0</td>\n",
       "      <td>0.0</td>\n",
       "      <td>0.0</td>\n",
       "      <td>0.0</td>\n",
       "      <td>0.0</td>\n",
       "      <td>0.0</td>\n",
       "      <td>1.0</td>\n",
       "      <td>1.0</td>\n",
       "      <td>0.0</td>\n",
       "      <td>0.0</td>\n",
       "      <td>0.0</td>\n",
       "      <td>0.0</td>\n",
       "      <td>0.0</td>\n",
       "      <td>0.0</td>\n",
       "      <td>0.0</td>\n",
       "      <td>1.0</td>\n",
       "      <td>0.0</td>\n",
       "      <td>0.0</td>\n",
       "      <td>0.0</td>\n",
       "      <td>0.0</td>\n",
       "      <td>0.0</td>\n",
       "      <td>0.0</td>\n",
       "      <td>0.0</td>\n",
       "      <td>1.0</td>\n",
       "      <td>0.0</td>\n",
       "      <td>0.0</td>\n",
       "      <td>1.0</td>\n",
       "      <td>0.0</td>\n",
       "      <td>0.0</td>\n",
       "      <td>0.0</td>\n",
       "      <td>0.0</td>\n",
       "      <td>0.0</td>\n",
       "      <td>0.0</td>\n",
       "      <td>0.0</td>\n",
       "      <td>0.0</td>\n",
       "      <td>0.0</td>\n",
       "      <td>0.0</td>\n",
       "      <td>0.0</td>\n",
       "      <td>0.0</td>\n",
       "      <td>0.0</td>\n",
       "      <td>0.0</td>\n",
       "    </tr>\n",
       "    <tr>\n",
       "      <th>1542</th>\n",
       "      <td>0.389402</td>\n",
       "      <td>0.167690</td>\n",
       "      <td>1.290781</td>\n",
       "      <td>0.0</td>\n",
       "      <td>0.0</td>\n",
       "      <td>0.0</td>\n",
       "      <td>0.0</td>\n",
       "      <td>0.0</td>\n",
       "      <td>0.0</td>\n",
       "      <td>0.0</td>\n",
       "      <td>0.0</td>\n",
       "      <td>0.0</td>\n",
       "      <td>1.0</td>\n",
       "      <td>0.0</td>\n",
       "      <td>0.0</td>\n",
       "      <td>1.0</td>\n",
       "      <td>0.0</td>\n",
       "      <td>0.0</td>\n",
       "      <td>0.0</td>\n",
       "      <td>0.0</td>\n",
       "      <td>0.0</td>\n",
       "      <td>0.0</td>\n",
       "      <td>0.0</td>\n",
       "      <td>0.0</td>\n",
       "      <td>0.0</td>\n",
       "      <td>0.0</td>\n",
       "      <td>0.0</td>\n",
       "      <td>0.0</td>\n",
       "      <td>1.0</td>\n",
       "      <td>0.0</td>\n",
       "      <td>0.0</td>\n",
       "      <td>1.0</td>\n",
       "      <td>0.0</td>\n",
       "      <td>0.0</td>\n",
       "      <td>0.0</td>\n",
       "      <td>0.0</td>\n",
       "      <td>0.0</td>\n",
       "      <td>0.0</td>\n",
       "      <td>0.0</td>\n",
       "      <td>0.0</td>\n",
       "      <td>0.0</td>\n",
       "      <td>0.0</td>\n",
       "      <td>0.0</td>\n",
       "      <td>0.0</td>\n",
       "      <td>0.0</td>\n",
       "      <td>0.0</td>\n",
       "    </tr>\n",
       "    <tr>\n",
       "      <th>...</th>\n",
       "      <td>...</td>\n",
       "      <td>...</td>\n",
       "      <td>...</td>\n",
       "      <td>...</td>\n",
       "      <td>...</td>\n",
       "      <td>...</td>\n",
       "      <td>...</td>\n",
       "      <td>...</td>\n",
       "      <td>...</td>\n",
       "      <td>...</td>\n",
       "      <td>...</td>\n",
       "      <td>...</td>\n",
       "      <td>...</td>\n",
       "      <td>...</td>\n",
       "      <td>...</td>\n",
       "      <td>...</td>\n",
       "      <td>...</td>\n",
       "      <td>...</td>\n",
       "      <td>...</td>\n",
       "      <td>...</td>\n",
       "      <td>...</td>\n",
       "      <td>...</td>\n",
       "      <td>...</td>\n",
       "      <td>...</td>\n",
       "      <td>...</td>\n",
       "      <td>...</td>\n",
       "      <td>...</td>\n",
       "      <td>...</td>\n",
       "      <td>...</td>\n",
       "      <td>...</td>\n",
       "      <td>...</td>\n",
       "      <td>...</td>\n",
       "      <td>...</td>\n",
       "      <td>...</td>\n",
       "      <td>...</td>\n",
       "      <td>...</td>\n",
       "      <td>...</td>\n",
       "      <td>...</td>\n",
       "      <td>...</td>\n",
       "      <td>...</td>\n",
       "      <td>...</td>\n",
       "      <td>...</td>\n",
       "      <td>...</td>\n",
       "      <td>...</td>\n",
       "      <td>...</td>\n",
       "      <td>...</td>\n",
       "    </tr>\n",
       "    <tr>\n",
       "      <th>3473</th>\n",
       "      <td>-0.614719</td>\n",
       "      <td>0.645302</td>\n",
       "      <td>-1.541116</td>\n",
       "      <td>0.0</td>\n",
       "      <td>0.0</td>\n",
       "      <td>0.0</td>\n",
       "      <td>0.0</td>\n",
       "      <td>0.0</td>\n",
       "      <td>0.0</td>\n",
       "      <td>1.0</td>\n",
       "      <td>0.0</td>\n",
       "      <td>1.0</td>\n",
       "      <td>0.0</td>\n",
       "      <td>1.0</td>\n",
       "      <td>0.0</td>\n",
       "      <td>0.0</td>\n",
       "      <td>0.0</td>\n",
       "      <td>0.0</td>\n",
       "      <td>0.0</td>\n",
       "      <td>0.0</td>\n",
       "      <td>1.0</td>\n",
       "      <td>0.0</td>\n",
       "      <td>0.0</td>\n",
       "      <td>0.0</td>\n",
       "      <td>0.0</td>\n",
       "      <td>0.0</td>\n",
       "      <td>0.0</td>\n",
       "      <td>0.0</td>\n",
       "      <td>1.0</td>\n",
       "      <td>0.0</td>\n",
       "      <td>0.0</td>\n",
       "      <td>1.0</td>\n",
       "      <td>0.0</td>\n",
       "      <td>0.0</td>\n",
       "      <td>0.0</td>\n",
       "      <td>0.0</td>\n",
       "      <td>0.0</td>\n",
       "      <td>0.0</td>\n",
       "      <td>0.0</td>\n",
       "      <td>0.0</td>\n",
       "      <td>0.0</td>\n",
       "      <td>0.0</td>\n",
       "      <td>0.0</td>\n",
       "      <td>0.0</td>\n",
       "      <td>0.0</td>\n",
       "      <td>0.0</td>\n",
       "    </tr>\n",
       "    <tr>\n",
       "      <th>8535</th>\n",
       "      <td>-0.409090</td>\n",
       "      <td>-0.190519</td>\n",
       "      <td>-1.475492</td>\n",
       "      <td>0.0</td>\n",
       "      <td>0.0</td>\n",
       "      <td>0.0</td>\n",
       "      <td>0.0</td>\n",
       "      <td>0.0</td>\n",
       "      <td>0.0</td>\n",
       "      <td>0.0</td>\n",
       "      <td>0.0</td>\n",
       "      <td>1.0</td>\n",
       "      <td>0.0</td>\n",
       "      <td>1.0</td>\n",
       "      <td>0.0</td>\n",
       "      <td>0.0</td>\n",
       "      <td>0.0</td>\n",
       "      <td>0.0</td>\n",
       "      <td>0.0</td>\n",
       "      <td>0.0</td>\n",
       "      <td>1.0</td>\n",
       "      <td>0.0</td>\n",
       "      <td>0.0</td>\n",
       "      <td>1.0</td>\n",
       "      <td>0.0</td>\n",
       "      <td>0.0</td>\n",
       "      <td>0.0</td>\n",
       "      <td>0.0</td>\n",
       "      <td>0.0</td>\n",
       "      <td>0.0</td>\n",
       "      <td>0.0</td>\n",
       "      <td>1.0</td>\n",
       "      <td>0.0</td>\n",
       "      <td>0.0</td>\n",
       "      <td>0.0</td>\n",
       "      <td>0.0</td>\n",
       "      <td>0.0</td>\n",
       "      <td>0.0</td>\n",
       "      <td>0.0</td>\n",
       "      <td>0.0</td>\n",
       "      <td>0.0</td>\n",
       "      <td>0.0</td>\n",
       "      <td>0.0</td>\n",
       "      <td>0.0</td>\n",
       "      <td>0.0</td>\n",
       "      <td>0.0</td>\n",
       "    </tr>\n",
       "    <tr>\n",
       "      <th>14528</th>\n",
       "      <td>-0.398747</td>\n",
       "      <td>-0.429325</td>\n",
       "      <td>-0.133088</td>\n",
       "      <td>0.0</td>\n",
       "      <td>0.0</td>\n",
       "      <td>0.0</td>\n",
       "      <td>0.0</td>\n",
       "      <td>0.0</td>\n",
       "      <td>0.0</td>\n",
       "      <td>0.0</td>\n",
       "      <td>0.0</td>\n",
       "      <td>1.0</td>\n",
       "      <td>1.0</td>\n",
       "      <td>0.0</td>\n",
       "      <td>0.0</td>\n",
       "      <td>0.0</td>\n",
       "      <td>0.0</td>\n",
       "      <td>0.0</td>\n",
       "      <td>0.0</td>\n",
       "      <td>0.0</td>\n",
       "      <td>0.0</td>\n",
       "      <td>1.0</td>\n",
       "      <td>0.0</td>\n",
       "      <td>0.0</td>\n",
       "      <td>0.0</td>\n",
       "      <td>0.0</td>\n",
       "      <td>0.0</td>\n",
       "      <td>0.0</td>\n",
       "      <td>1.0</td>\n",
       "      <td>0.0</td>\n",
       "      <td>0.0</td>\n",
       "      <td>1.0</td>\n",
       "      <td>0.0</td>\n",
       "      <td>0.0</td>\n",
       "      <td>0.0</td>\n",
       "      <td>0.0</td>\n",
       "      <td>0.0</td>\n",
       "      <td>0.0</td>\n",
       "      <td>0.0</td>\n",
       "      <td>0.0</td>\n",
       "      <td>0.0</td>\n",
       "      <td>0.0</td>\n",
       "      <td>0.0</td>\n",
       "      <td>0.0</td>\n",
       "      <td>0.0</td>\n",
       "      <td>0.0</td>\n",
       "    </tr>\n",
       "    <tr>\n",
       "      <th>899</th>\n",
       "      <td>0.624825</td>\n",
       "      <td>-1.384548</td>\n",
       "      <td>1.386074</td>\n",
       "      <td>1.0</td>\n",
       "      <td>1.0</td>\n",
       "      <td>1.0</td>\n",
       "      <td>1.0</td>\n",
       "      <td>1.0</td>\n",
       "      <td>1.0</td>\n",
       "      <td>1.0</td>\n",
       "      <td>1.0</td>\n",
       "      <td>1.0</td>\n",
       "      <td>1.0</td>\n",
       "      <td>0.0</td>\n",
       "      <td>0.0</td>\n",
       "      <td>1.0</td>\n",
       "      <td>0.0</td>\n",
       "      <td>0.0</td>\n",
       "      <td>0.0</td>\n",
       "      <td>0.0</td>\n",
       "      <td>0.0</td>\n",
       "      <td>0.0</td>\n",
       "      <td>0.0</td>\n",
       "      <td>0.0</td>\n",
       "      <td>0.0</td>\n",
       "      <td>0.0</td>\n",
       "      <td>0.0</td>\n",
       "      <td>0.0</td>\n",
       "      <td>1.0</td>\n",
       "      <td>0.0</td>\n",
       "      <td>0.0</td>\n",
       "      <td>1.0</td>\n",
       "      <td>0.0</td>\n",
       "      <td>0.0</td>\n",
       "      <td>0.0</td>\n",
       "      <td>0.0</td>\n",
       "      <td>0.0</td>\n",
       "      <td>0.0</td>\n",
       "      <td>0.0</td>\n",
       "      <td>0.0</td>\n",
       "      <td>0.0</td>\n",
       "      <td>0.0</td>\n",
       "      <td>0.0</td>\n",
       "      <td>0.0</td>\n",
       "      <td>0.0</td>\n",
       "      <td>0.0</td>\n",
       "    </tr>\n",
       "    <tr>\n",
       "      <th>12706</th>\n",
       "      <td>1.478267</td>\n",
       "      <td>-1.026340</td>\n",
       "      <td>0.337345</td>\n",
       "      <td>0.0</td>\n",
       "      <td>0.0</td>\n",
       "      <td>0.0</td>\n",
       "      <td>0.0</td>\n",
       "      <td>0.0</td>\n",
       "      <td>0.0</td>\n",
       "      <td>0.0</td>\n",
       "      <td>0.0</td>\n",
       "      <td>0.0</td>\n",
       "      <td>0.0</td>\n",
       "      <td>1.0</td>\n",
       "      <td>0.0</td>\n",
       "      <td>0.0</td>\n",
       "      <td>0.0</td>\n",
       "      <td>0.0</td>\n",
       "      <td>0.0</td>\n",
       "      <td>0.0</td>\n",
       "      <td>0.0</td>\n",
       "      <td>0.0</td>\n",
       "      <td>1.0</td>\n",
       "      <td>0.0</td>\n",
       "      <td>0.0</td>\n",
       "      <td>0.0</td>\n",
       "      <td>0.0</td>\n",
       "      <td>0.0</td>\n",
       "      <td>1.0</td>\n",
       "      <td>0.0</td>\n",
       "      <td>0.0</td>\n",
       "      <td>1.0</td>\n",
       "      <td>0.0</td>\n",
       "      <td>0.0</td>\n",
       "      <td>0.0</td>\n",
       "      <td>0.0</td>\n",
       "      <td>0.0</td>\n",
       "      <td>0.0</td>\n",
       "      <td>0.0</td>\n",
       "      <td>0.0</td>\n",
       "      <td>0.0</td>\n",
       "      <td>0.0</td>\n",
       "      <td>0.0</td>\n",
       "      <td>0.0</td>\n",
       "      <td>0.0</td>\n",
       "      <td>0.0</td>\n",
       "    </tr>\n",
       "  </tbody>\n",
       "</table>\n",
       "<p>8086 rows × 46 columns</p>\n",
       "</div>"
      ],
      "text/plain": [
       "       historical_sales_volume  number_of_prior_year_transactions  \\\n",
       "2632                  0.406579                           0.764704   \n",
       "1571                 -0.388558                           0.048287   \n",
       "2102                 -0.590154                          -0.429325   \n",
       "9273                  0.386802                           0.764704   \n",
       "1542                  0.389402                           0.167690   \n",
       "...                        ...                                ...   \n",
       "3473                 -0.614719                           0.645302   \n",
       "8535                 -0.409090                          -0.190519   \n",
       "14528                -0.398747                          -0.429325   \n",
       "899                   0.624825                          -1.384548   \n",
       "12706                 1.478267                          -1.026340   \n",
       "\n",
       "       days_since_first_purchase  desk  executive_chair  standard_chair  \\\n",
       "2632                    0.146004   0.0              0.0             0.0   \n",
       "1571                    0.548298   0.0              0.0             0.0   \n",
       "2102                    2.032510   0.0              0.0             0.0   \n",
       "9273                    0.214897   0.0              0.0             0.0   \n",
       "1542                    1.290781   0.0              0.0             0.0   \n",
       "...                          ...   ...              ...             ...   \n",
       "3473                   -1.541116   0.0              0.0             0.0   \n",
       "8535                   -1.475492   0.0              0.0             0.0   \n",
       "14528                  -0.133088   0.0              0.0             0.0   \n",
       "899                     1.386074   1.0              1.0             1.0   \n",
       "12706                   0.337345   0.0              0.0             0.0   \n",
       "\n",
       "       monitor  printer  computer  insurance  toner  office_supplies  \\\n",
       "2632       0.0      0.0       0.0        0.0    0.0              1.0   \n",
       "1571       0.0      0.0       0.0        0.0    0.0              1.0   \n",
       "2102       0.0      0.0       0.0        0.0    0.0              1.0   \n",
       "9273       0.0      0.0       0.0        0.0    0.0              1.0   \n",
       "1542       0.0      0.0       0.0        0.0    0.0              0.0   \n",
       "...        ...      ...       ...        ...    ...              ...   \n",
       "3473       0.0      0.0       0.0        1.0    0.0              1.0   \n",
       "8535       0.0      0.0       0.0        0.0    0.0              1.0   \n",
       "14528      0.0      0.0       0.0        0.0    0.0              1.0   \n",
       "899        1.0      1.0       1.0        1.0    1.0              1.0   \n",
       "12706      0.0      0.0       0.0        0.0    0.0              0.0   \n",
       "\n",
       "       repurchase_method_AUTO RENEW  repurchase_method_NOTICE  \\\n",
       "2632                            0.0                       1.0   \n",
       "1571                            0.0                       1.0   \n",
       "2102                            0.0                       1.0   \n",
       "9273                            1.0                       0.0   \n",
       "1542                            1.0                       0.0   \n",
       "...                             ...                       ...   \n",
       "3473                            0.0                       1.0   \n",
       "8535                            0.0                       1.0   \n",
       "14528                           1.0                       0.0   \n",
       "899                             1.0                       0.0   \n",
       "12706                           0.0                       1.0   \n",
       "\n",
       "       repurchase_method_PAYMENT PLAN  last_transaction_channel_AUTO RENEW  \\\n",
       "2632                              0.0                                  0.0   \n",
       "1571                              0.0                                  0.0   \n",
       "2102                              0.0                                  0.0   \n",
       "9273                              0.0                                  0.0   \n",
       "1542                              0.0                                  1.0   \n",
       "...                               ...                                  ...   \n",
       "3473                              0.0                                  0.0   \n",
       "8535                              0.0                                  0.0   \n",
       "14528                             0.0                                  0.0   \n",
       "899                               0.0                                  1.0   \n",
       "12706                             0.0                                  0.0   \n",
       "\n",
       "       last_transaction_channel_BILLING  \\\n",
       "2632                                0.0   \n",
       "1571                                0.0   \n",
       "2102                                0.0   \n",
       "9273                                0.0   \n",
       "1542                                0.0   \n",
       "...                                 ...   \n",
       "3473                                0.0   \n",
       "8535                                0.0   \n",
       "14528                               0.0   \n",
       "899                                 0.0   \n",
       "12706                               0.0   \n",
       "\n",
       "       last_transaction_channel_BRANCH (PHONE)  \\\n",
       "2632                                       0.0   \n",
       "1571                                       0.0   \n",
       "2102                                       0.0   \n",
       "9273                                       0.0   \n",
       "1542                                       0.0   \n",
       "...                                        ...   \n",
       "3473                                       0.0   \n",
       "8535                                       0.0   \n",
       "14528                                      0.0   \n",
       "899                                        0.0   \n",
       "12706                                      0.0   \n",
       "\n",
       "       last_transaction_channel_BRANCH (POS)  last_transaction_channel_IT  \\\n",
       "2632                                     0.0                          0.0   \n",
       "1571                                     0.0                          0.0   \n",
       "2102                                     0.0                          0.0   \n",
       "9273                                     0.0                          0.0   \n",
       "1542                                     0.0                          0.0   \n",
       "...                                      ...                          ...   \n",
       "3473                                     0.0                          0.0   \n",
       "8535                                     0.0                          0.0   \n",
       "14528                                    0.0                          0.0   \n",
       "899                                      0.0                          0.0   \n",
       "12706                                    0.0                          0.0   \n",
       "\n",
       "       last_transaction_channel_MAIL  last_transaction_channel_PHONE  \\\n",
       "2632                             1.0                             0.0   \n",
       "1571                             1.0                             0.0   \n",
       "2102                             1.0                             0.0   \n",
       "9273                             1.0                             0.0   \n",
       "1542                             0.0                             0.0   \n",
       "...                              ...                             ...   \n",
       "3473                             1.0                             0.0   \n",
       "8535                             1.0                             0.0   \n",
       "14528                            0.0                             1.0   \n",
       "899                              0.0                             0.0   \n",
       "12706                            0.0                             0.0   \n",
       "\n",
       "       last_transaction_channel_WEB  number_of_employees_1-5  \\\n",
       "2632                            0.0                      0.0   \n",
       "1571                            0.0                      1.0   \n",
       "2102                            0.0                      0.0   \n",
       "9273                            0.0                      0.0   \n",
       "1542                            0.0                      0.0   \n",
       "...                             ...                      ...   \n",
       "3473                            0.0                      0.0   \n",
       "8535                            0.0                      1.0   \n",
       "14528                           0.0                      0.0   \n",
       "899                             0.0                      0.0   \n",
       "12706                           1.0                      0.0   \n",
       "\n",
       "       number_of_employees_101-500  number_of_employees_11-50  \\\n",
       "2632                           0.0                        0.0   \n",
       "1571                           0.0                        0.0   \n",
       "2102                           0.0                        0.0   \n",
       "9273                           0.0                        0.0   \n",
       "1542                           0.0                        0.0   \n",
       "...                            ...                        ...   \n",
       "3473                           0.0                        0.0   \n",
       "8535                           0.0                        0.0   \n",
       "14528                          0.0                        0.0   \n",
       "899                            0.0                        0.0   \n",
       "12706                          0.0                        0.0   \n",
       "\n",
       "       number_of_employees_500+  number_of_employees_51-100  \\\n",
       "2632                        0.0                         1.0   \n",
       "1571                        0.0                         0.0   \n",
       "2102                        0.0                         0.0   \n",
       "9273                        0.0                         0.0   \n",
       "1542                        0.0                         0.0   \n",
       "...                         ...                         ...   \n",
       "3473                        0.0                         0.0   \n",
       "8535                        0.0                         0.0   \n",
       "14528                       0.0                         0.0   \n",
       "899                         0.0                         0.0   \n",
       "12706                       0.0                         0.0   \n",
       "\n",
       "       number_of_employees_6-10  language_Arabic  language_Chinese  \\\n",
       "2632                        0.0              0.0               0.0   \n",
       "1571                        0.0              0.0               0.0   \n",
       "2102                        1.0              0.0               0.0   \n",
       "9273                        1.0              0.0               0.0   \n",
       "1542                        1.0              0.0               0.0   \n",
       "...                         ...              ...               ...   \n",
       "3473                        1.0              0.0               0.0   \n",
       "8535                        0.0              0.0               0.0   \n",
       "14528                       1.0              0.0               0.0   \n",
       "899                         1.0              0.0               0.0   \n",
       "12706                       1.0              0.0               0.0   \n",
       "\n",
       "       language_English  language_French  language_German  language_Greek  \\\n",
       "2632                1.0              0.0              0.0             0.0   \n",
       "1571                1.0              0.0              0.0             0.0   \n",
       "2102                1.0              0.0              0.0             0.0   \n",
       "9273                1.0              0.0              0.0             0.0   \n",
       "1542                1.0              0.0              0.0             0.0   \n",
       "...                 ...              ...              ...             ...   \n",
       "3473                1.0              0.0              0.0             0.0   \n",
       "8535                1.0              0.0              0.0             0.0   \n",
       "14528               1.0              0.0              0.0             0.0   \n",
       "899                 1.0              0.0              0.0             0.0   \n",
       "12706               1.0              0.0              0.0             0.0   \n",
       "\n",
       "       language_Hebrew  language_Hindi  language_Italian  language_Japanese  \\\n",
       "2632               0.0             0.0               0.0                0.0   \n",
       "1571               0.0             0.0               0.0                0.0   \n",
       "2102               0.0             0.0               0.0                0.0   \n",
       "9273               0.0             0.0               0.0                0.0   \n",
       "1542               0.0             0.0               0.0                0.0   \n",
       "...                ...             ...               ...                ...   \n",
       "3473               0.0             0.0               0.0                0.0   \n",
       "8535               0.0             0.0               0.0                0.0   \n",
       "14528              0.0             0.0               0.0                0.0   \n",
       "899                0.0             0.0               0.0                0.0   \n",
       "12706              0.0             0.0               0.0                0.0   \n",
       "\n",
       "       language_Korean  language_Pashto  language_Polish  language_Portuguese  \\\n",
       "2632               0.0              0.0              0.0                  0.0   \n",
       "1571               0.0              0.0              0.0                  0.0   \n",
       "2102               0.0              0.0              0.0                  0.0   \n",
       "9273               0.0              0.0              0.0                  0.0   \n",
       "1542               0.0              0.0              0.0                  0.0   \n",
       "...                ...              ...              ...                  ...   \n",
       "3473               0.0              0.0              0.0                  0.0   \n",
       "8535               0.0              0.0              0.0                  0.0   \n",
       "14528              0.0              0.0              0.0                  0.0   \n",
       "899                0.0              0.0              0.0                  0.0   \n",
       "12706              0.0              0.0              0.0                  0.0   \n",
       "\n",
       "       language_Russian  language_Spanish  language_Vietnamese  \n",
       "2632                0.0               0.0                  0.0  \n",
       "1571                0.0               0.0                  0.0  \n",
       "2102                0.0               0.0                  0.0  \n",
       "9273                0.0               0.0                  0.0  \n",
       "1542                0.0               0.0                  0.0  \n",
       "...                 ...               ...                  ...  \n",
       "3473                0.0               0.0                  0.0  \n",
       "8535                0.0               0.0                  0.0  \n",
       "14528               0.0               0.0                  0.0  \n",
       "899                 0.0               0.0                  0.0  \n",
       "12706               0.0               0.0                  0.0  \n",
       "\n",
       "[8086 rows x 46 columns]"
      ]
     },
     "execution_count": 70,
     "metadata": {},
     "output_type": "execute_result"
    }
   ],
   "source": [
    "X_train_prepared = pd.concat([num_train_df, bool_cols_df, cat_train_df], axis=1)\n",
    "X_train_prepared"
   ]
  },
  {
   "cell_type": "markdown",
   "metadata": {},
   "source": [
    "#### Cleaning testing data (X_test)"
   ]
  },
  {
   "cell_type": "code",
   "execution_count": 71,
   "metadata": {},
   "outputs": [
    {
     "data": {
      "text/html": [
       "<div>\n",
       "<style scoped>\n",
       "    .dataframe tbody tr th:only-of-type {\n",
       "        vertical-align: middle;\n",
       "    }\n",
       "\n",
       "    .dataframe tbody tr th {\n",
       "        vertical-align: top;\n",
       "    }\n",
       "\n",
       "    .dataframe thead th {\n",
       "        text-align: right;\n",
       "    }\n",
       "</style>\n",
       "<table border=\"1\" class=\"dataframe\">\n",
       "  <thead>\n",
       "    <tr style=\"text-align: right;\">\n",
       "      <th></th>\n",
       "      <th>customer_number</th>\n",
       "      <th>historical_sales_volume</th>\n",
       "      <th>date_of_first_purchase</th>\n",
       "      <th>number_of_prior_year_transactions</th>\n",
       "      <th>do_not_direct_mail_solicit</th>\n",
       "      <th>do_not_email</th>\n",
       "      <th>do_not_telemarket</th>\n",
       "      <th>repurchase_method</th>\n",
       "      <th>last_transaction_channel</th>\n",
       "      <th>desk</th>\n",
       "      <th>executive_chair</th>\n",
       "      <th>standard_chair</th>\n",
       "      <th>monitor</th>\n",
       "      <th>printer</th>\n",
       "      <th>computer</th>\n",
       "      <th>insurance</th>\n",
       "      <th>toner</th>\n",
       "      <th>office_supplies</th>\n",
       "      <th>number_of_employees</th>\n",
       "      <th>language</th>\n",
       "    </tr>\n",
       "  </thead>\n",
       "  <tbody>\n",
       "    <tr>\n",
       "      <th>5263</th>\n",
       "      <td>11846929.0</td>\n",
       "      <td>144336.152381</td>\n",
       "      <td>1997-07-01</td>\n",
       "      <td>17.0</td>\n",
       "      <td>0.0</td>\n",
       "      <td>0.0</td>\n",
       "      <td>0.0</td>\n",
       "      <td>AUTO RENEW</td>\n",
       "      <td>PHONE</td>\n",
       "      <td>N</td>\n",
       "      <td>N</td>\n",
       "      <td>N</td>\n",
       "      <td>N</td>\n",
       "      <td>N</td>\n",
       "      <td>N</td>\n",
       "      <td>N</td>\n",
       "      <td>N</td>\n",
       "      <td>Y</td>\n",
       "      <td>6-10</td>\n",
       "      <td>English</td>\n",
       "    </tr>\n",
       "    <tr>\n",
       "      <th>11766</th>\n",
       "      <td>26287782.0</td>\n",
       "      <td>209678.680000</td>\n",
       "      <td>1994-02-01</td>\n",
       "      <td>19.0</td>\n",
       "      <td>0.0</td>\n",
       "      <td>0.0</td>\n",
       "      <td>0.0</td>\n",
       "      <td>NOTICE</td>\n",
       "      <td>MAIL</td>\n",
       "      <td>N</td>\n",
       "      <td>N</td>\n",
       "      <td>N</td>\n",
       "      <td>N</td>\n",
       "      <td>N</td>\n",
       "      <td>N</td>\n",
       "      <td>N</td>\n",
       "      <td>N</td>\n",
       "      <td>Y</td>\n",
       "      <td>1-5</td>\n",
       "      <td>English</td>\n",
       "    </tr>\n",
       "    <tr>\n",
       "      <th>5319</th>\n",
       "      <td>11964105.0</td>\n",
       "      <td>607150.700000</td>\n",
       "      <td>2004-09-13</td>\n",
       "      <td>7.0</td>\n",
       "      <td>0.0</td>\n",
       "      <td>0.0</td>\n",
       "      <td>0.0</td>\n",
       "      <td>AUTO RENEW</td>\n",
       "      <td>PHONE</td>\n",
       "      <td>N</td>\n",
       "      <td>N</td>\n",
       "      <td>N</td>\n",
       "      <td>N</td>\n",
       "      <td>N</td>\n",
       "      <td>N</td>\n",
       "      <td>N</td>\n",
       "      <td>N</td>\n",
       "      <td>N</td>\n",
       "      <td>6-10</td>\n",
       "      <td>English</td>\n",
       "    </tr>\n",
       "  </tbody>\n",
       "</table>\n",
       "</div>"
      ],
      "text/plain": [
       "       customer_number  historical_sales_volume date_of_first_purchase  \\\n",
       "5263        11846929.0            144336.152381             1997-07-01   \n",
       "11766       26287782.0            209678.680000             1994-02-01   \n",
       "5319        11964105.0            607150.700000             2004-09-13   \n",
       "\n",
       "       number_of_prior_year_transactions  do_not_direct_mail_solicit  \\\n",
       "5263                                17.0                         0.0   \n",
       "11766                               19.0                         0.0   \n",
       "5319                                 7.0                         0.0   \n",
       "\n",
       "       do_not_email  do_not_telemarket repurchase_method  \\\n",
       "5263            0.0                0.0        AUTO RENEW   \n",
       "11766           0.0                0.0            NOTICE   \n",
       "5319            0.0                0.0        AUTO RENEW   \n",
       "\n",
       "      last_transaction_channel desk executive_chair standard_chair monitor  \\\n",
       "5263                     PHONE    N               N              N       N   \n",
       "11766                     MAIL    N               N              N       N   \n",
       "5319                     PHONE    N               N              N       N   \n",
       "\n",
       "      printer computer insurance toner office_supplies number_of_employees  \\\n",
       "5263        N        N         N     N               Y                6-10   \n",
       "11766       N        N         N     N               Y                 1-5   \n",
       "5319        N        N         N     N               N                6-10   \n",
       "\n",
       "      language  \n",
       "5263   English  \n",
       "11766  English  \n",
       "5319   English  "
      ]
     },
     "execution_count": 71,
     "metadata": {},
     "output_type": "execute_result"
    }
   ],
   "source": [
    "X_test.head(3)"
   ]
  },
  {
   "cell_type": "code",
   "execution_count": null,
   "metadata": {},
   "outputs": [],
   "source": []
  },
  {
   "cell_type": "code",
   "execution_count": 72,
   "metadata": {},
   "outputs": [],
   "source": [
    "# replace ' ' for Nan in 'number_of_employees'\n",
    "X_test['number_of_employees'] = replace_nan(X_test.number_of_employees)\n",
    "\n",
    "# fix product columns\n",
    "X_test['desk'] = replace_YY(X_test.desk)\n",
    "\n",
    "# create column for days since first purchase\n",
    "if X_test.columns[2] == 'date_of_first_purchase':\n",
    "    X_test['days_since_first_purchase'] = create_number_days(X_test.date_of_first_purchase)\n",
    "    X_test = X_test.drop(['date_of_first_purchase'], axis=1)\n",
    "\n",
    "# convert negatives to zero in Historical Sales Volume variable\n",
    "X_test['historical_sales_volume'] = negatives_to_zero(X_test.historical_sales_volume)\n",
    "\n",
    "# convert Product columns to 0's and 1's\n",
    "X_test.loc[:, bool_cols] = convert_bools(X_test[bool_cols])\n",
    "bool_cols_test_df = X_test[bool_cols].copy()\n",
    "\n",
    "# separate numeric and categorical data\n",
    "num_test = X_test.loc[:, num_cols]\n",
    "cat_test = X_test.loc[:, cat_cols]\n",
    "\n",
    "# preprocess numeric data\n",
    "num_test_med = si_num.transform(num_test)\n",
    "num_test_std = ss.transform(num_test_med)\n",
    "num_test_df = pd.DataFrame(num_test_std, index=num_test.index, columns=num_test.columns)\n",
    "\n",
    "# preprocess categorical data\n",
    "cat_test_mf = si_cat.transform(cat_test)\n",
    "cat_test_dummies = ohe.transform(cat_test_mf)\n",
    "dummy_cols_test = create_dummy_cols(cat_cols, ohe.categories_)\n",
    "cat_test_df = pd.DataFrame(cat_test_dummies, index=cat_test.index, columns=dummy_cols_test)\n",
    "\n",
    "# Combine numeric, boolean and categorical data\n",
    "X_test_prepared = pd.concat([num_test_df, bool_cols_test_df, cat_test_df], axis=1)"
   ]
  },
  {
   "cell_type": "code",
   "execution_count": 73,
   "metadata": {},
   "outputs": [
    {
     "data": {
      "text/html": [
       "<div>\n",
       "<style scoped>\n",
       "    .dataframe tbody tr th:only-of-type {\n",
       "        vertical-align: middle;\n",
       "    }\n",
       "\n",
       "    .dataframe tbody tr th {\n",
       "        vertical-align: top;\n",
       "    }\n",
       "\n",
       "    .dataframe thead th {\n",
       "        text-align: right;\n",
       "    }\n",
       "</style>\n",
       "<table border=\"1\" class=\"dataframe\">\n",
       "  <thead>\n",
       "    <tr style=\"text-align: right;\">\n",
       "      <th></th>\n",
       "      <th>historical_sales_volume</th>\n",
       "      <th>number_of_prior_year_transactions</th>\n",
       "      <th>days_since_first_purchase</th>\n",
       "      <th>desk</th>\n",
       "      <th>executive_chair</th>\n",
       "      <th>standard_chair</th>\n",
       "      <th>monitor</th>\n",
       "      <th>printer</th>\n",
       "      <th>computer</th>\n",
       "      <th>insurance</th>\n",
       "      <th>toner</th>\n",
       "      <th>office_supplies</th>\n",
       "      <th>repurchase_method_AUTO RENEW</th>\n",
       "      <th>repurchase_method_NOTICE</th>\n",
       "      <th>repurchase_method_PAYMENT PLAN</th>\n",
       "      <th>last_transaction_channel_AUTO RENEW</th>\n",
       "      <th>last_transaction_channel_BILLING</th>\n",
       "      <th>last_transaction_channel_BRANCH (PHONE)</th>\n",
       "      <th>last_transaction_channel_BRANCH (POS)</th>\n",
       "      <th>last_transaction_channel_IT</th>\n",
       "      <th>last_transaction_channel_MAIL</th>\n",
       "      <th>last_transaction_channel_PHONE</th>\n",
       "      <th>last_transaction_channel_WEB</th>\n",
       "      <th>number_of_employees_1-5</th>\n",
       "      <th>number_of_employees_101-500</th>\n",
       "      <th>number_of_employees_11-50</th>\n",
       "      <th>number_of_employees_500+</th>\n",
       "      <th>number_of_employees_51-100</th>\n",
       "      <th>number_of_employees_6-10</th>\n",
       "      <th>language_Arabic</th>\n",
       "      <th>language_Chinese</th>\n",
       "      <th>language_English</th>\n",
       "      <th>language_French</th>\n",
       "      <th>language_German</th>\n",
       "      <th>language_Greek</th>\n",
       "      <th>language_Hebrew</th>\n",
       "      <th>language_Hindi</th>\n",
       "      <th>language_Italian</th>\n",
       "      <th>language_Japanese</th>\n",
       "      <th>language_Korean</th>\n",
       "      <th>language_Pashto</th>\n",
       "      <th>language_Polish</th>\n",
       "      <th>language_Portuguese</th>\n",
       "      <th>language_Russian</th>\n",
       "      <th>language_Spanish</th>\n",
       "      <th>language_Vietnamese</th>\n",
       "    </tr>\n",
       "  </thead>\n",
       "  <tbody>\n",
       "    <tr>\n",
       "      <th>5263</th>\n",
       "      <td>-0.569459</td>\n",
       "      <td>0.287093</td>\n",
       "      <td>-0.389550</td>\n",
       "      <td>0.0</td>\n",
       "      <td>0.0</td>\n",
       "      <td>0.0</td>\n",
       "      <td>0.0</td>\n",
       "      <td>0.0</td>\n",
       "      <td>0.0</td>\n",
       "      <td>0.0</td>\n",
       "      <td>0.0</td>\n",
       "      <td>1.0</td>\n",
       "      <td>1.0</td>\n",
       "      <td>0.0</td>\n",
       "      <td>0.0</td>\n",
       "      <td>0.0</td>\n",
       "      <td>0.0</td>\n",
       "      <td>0.0</td>\n",
       "      <td>0.0</td>\n",
       "      <td>0.0</td>\n",
       "      <td>0.0</td>\n",
       "      <td>1.0</td>\n",
       "      <td>0.0</td>\n",
       "      <td>0.0</td>\n",
       "      <td>0.0</td>\n",
       "      <td>0.0</td>\n",
       "      <td>0.0</td>\n",
       "      <td>0.0</td>\n",
       "      <td>1.0</td>\n",
       "      <td>0.0</td>\n",
       "      <td>0.0</td>\n",
       "      <td>1.0</td>\n",
       "      <td>0.0</td>\n",
       "      <td>0.0</td>\n",
       "      <td>0.0</td>\n",
       "      <td>0.0</td>\n",
       "      <td>0.0</td>\n",
       "      <td>0.0</td>\n",
       "      <td>0.0</td>\n",
       "      <td>0.0</td>\n",
       "      <td>0.0</td>\n",
       "      <td>0.0</td>\n",
       "      <td>0.0</td>\n",
       "      <td>0.0</td>\n",
       "      <td>0.0</td>\n",
       "      <td>0.0</td>\n",
       "    </tr>\n",
       "    <tr>\n",
       "      <th>11766</th>\n",
       "      <td>-0.498402</td>\n",
       "      <td>0.525899</td>\n",
       "      <td>-0.076264</td>\n",
       "      <td>0.0</td>\n",
       "      <td>0.0</td>\n",
       "      <td>0.0</td>\n",
       "      <td>0.0</td>\n",
       "      <td>0.0</td>\n",
       "      <td>0.0</td>\n",
       "      <td>0.0</td>\n",
       "      <td>0.0</td>\n",
       "      <td>1.0</td>\n",
       "      <td>0.0</td>\n",
       "      <td>1.0</td>\n",
       "      <td>0.0</td>\n",
       "      <td>0.0</td>\n",
       "      <td>0.0</td>\n",
       "      <td>0.0</td>\n",
       "      <td>0.0</td>\n",
       "      <td>0.0</td>\n",
       "      <td>1.0</td>\n",
       "      <td>0.0</td>\n",
       "      <td>0.0</td>\n",
       "      <td>1.0</td>\n",
       "      <td>0.0</td>\n",
       "      <td>0.0</td>\n",
       "      <td>0.0</td>\n",
       "      <td>0.0</td>\n",
       "      <td>0.0</td>\n",
       "      <td>0.0</td>\n",
       "      <td>0.0</td>\n",
       "      <td>1.0</td>\n",
       "      <td>0.0</td>\n",
       "      <td>0.0</td>\n",
       "      <td>0.0</td>\n",
       "      <td>0.0</td>\n",
       "      <td>0.0</td>\n",
       "      <td>0.0</td>\n",
       "      <td>0.0</td>\n",
       "      <td>0.0</td>\n",
       "      <td>0.0</td>\n",
       "      <td>0.0</td>\n",
       "      <td>0.0</td>\n",
       "      <td>0.0</td>\n",
       "      <td>0.0</td>\n",
       "      <td>0.0</td>\n",
       "    </tr>\n",
       "    <tr>\n",
       "      <th>5319</th>\n",
       "      <td>-0.066168</td>\n",
       "      <td>-0.906937</td>\n",
       "      <td>-1.051072</td>\n",
       "      <td>0.0</td>\n",
       "      <td>0.0</td>\n",
       "      <td>0.0</td>\n",
       "      <td>0.0</td>\n",
       "      <td>0.0</td>\n",
       "      <td>0.0</td>\n",
       "      <td>0.0</td>\n",
       "      <td>0.0</td>\n",
       "      <td>0.0</td>\n",
       "      <td>1.0</td>\n",
       "      <td>0.0</td>\n",
       "      <td>0.0</td>\n",
       "      <td>0.0</td>\n",
       "      <td>0.0</td>\n",
       "      <td>0.0</td>\n",
       "      <td>0.0</td>\n",
       "      <td>0.0</td>\n",
       "      <td>0.0</td>\n",
       "      <td>1.0</td>\n",
       "      <td>0.0</td>\n",
       "      <td>0.0</td>\n",
       "      <td>0.0</td>\n",
       "      <td>0.0</td>\n",
       "      <td>0.0</td>\n",
       "      <td>0.0</td>\n",
       "      <td>1.0</td>\n",
       "      <td>0.0</td>\n",
       "      <td>0.0</td>\n",
       "      <td>1.0</td>\n",
       "      <td>0.0</td>\n",
       "      <td>0.0</td>\n",
       "      <td>0.0</td>\n",
       "      <td>0.0</td>\n",
       "      <td>0.0</td>\n",
       "      <td>0.0</td>\n",
       "      <td>0.0</td>\n",
       "      <td>0.0</td>\n",
       "      <td>0.0</td>\n",
       "      <td>0.0</td>\n",
       "      <td>0.0</td>\n",
       "      <td>0.0</td>\n",
       "      <td>0.0</td>\n",
       "      <td>0.0</td>\n",
       "    </tr>\n",
       "    <tr>\n",
       "      <th>4807</th>\n",
       "      <td>0.274909</td>\n",
       "      <td>-1.265145</td>\n",
       "      <td>-0.725717</td>\n",
       "      <td>0.0</td>\n",
       "      <td>1.0</td>\n",
       "      <td>0.0</td>\n",
       "      <td>0.0</td>\n",
       "      <td>0.0</td>\n",
       "      <td>0.0</td>\n",
       "      <td>0.0</td>\n",
       "      <td>0.0</td>\n",
       "      <td>0.0</td>\n",
       "      <td>0.0</td>\n",
       "      <td>1.0</td>\n",
       "      <td>0.0</td>\n",
       "      <td>0.0</td>\n",
       "      <td>0.0</td>\n",
       "      <td>0.0</td>\n",
       "      <td>0.0</td>\n",
       "      <td>0.0</td>\n",
       "      <td>0.0</td>\n",
       "      <td>1.0</td>\n",
       "      <td>0.0</td>\n",
       "      <td>0.0</td>\n",
       "      <td>0.0</td>\n",
       "      <td>0.0</td>\n",
       "      <td>0.0</td>\n",
       "      <td>0.0</td>\n",
       "      <td>1.0</td>\n",
       "      <td>0.0</td>\n",
       "      <td>0.0</td>\n",
       "      <td>1.0</td>\n",
       "      <td>0.0</td>\n",
       "      <td>0.0</td>\n",
       "      <td>0.0</td>\n",
       "      <td>0.0</td>\n",
       "      <td>0.0</td>\n",
       "      <td>0.0</td>\n",
       "      <td>0.0</td>\n",
       "      <td>0.0</td>\n",
       "      <td>0.0</td>\n",
       "      <td>0.0</td>\n",
       "      <td>0.0</td>\n",
       "      <td>0.0</td>\n",
       "      <td>0.0</td>\n",
       "      <td>0.0</td>\n",
       "    </tr>\n",
       "    <tr>\n",
       "      <th>7311</th>\n",
       "      <td>-0.093920</td>\n",
       "      <td>0.406496</td>\n",
       "      <td>1.875364</td>\n",
       "      <td>0.0</td>\n",
       "      <td>0.0</td>\n",
       "      <td>0.0</td>\n",
       "      <td>0.0</td>\n",
       "      <td>0.0</td>\n",
       "      <td>0.0</td>\n",
       "      <td>0.0</td>\n",
       "      <td>0.0</td>\n",
       "      <td>1.0</td>\n",
       "      <td>0.0</td>\n",
       "      <td>1.0</td>\n",
       "      <td>0.0</td>\n",
       "      <td>0.0</td>\n",
       "      <td>0.0</td>\n",
       "      <td>0.0</td>\n",
       "      <td>0.0</td>\n",
       "      <td>0.0</td>\n",
       "      <td>1.0</td>\n",
       "      <td>0.0</td>\n",
       "      <td>0.0</td>\n",
       "      <td>0.0</td>\n",
       "      <td>0.0</td>\n",
       "      <td>0.0</td>\n",
       "      <td>0.0</td>\n",
       "      <td>1.0</td>\n",
       "      <td>0.0</td>\n",
       "      <td>0.0</td>\n",
       "      <td>0.0</td>\n",
       "      <td>1.0</td>\n",
       "      <td>0.0</td>\n",
       "      <td>0.0</td>\n",
       "      <td>0.0</td>\n",
       "      <td>0.0</td>\n",
       "      <td>0.0</td>\n",
       "      <td>0.0</td>\n",
       "      <td>0.0</td>\n",
       "      <td>0.0</td>\n",
       "      <td>0.0</td>\n",
       "      <td>0.0</td>\n",
       "      <td>0.0</td>\n",
       "      <td>0.0</td>\n",
       "      <td>0.0</td>\n",
       "      <td>0.0</td>\n",
       "    </tr>\n",
       "    <tr>\n",
       "      <th>...</th>\n",
       "      <td>...</td>\n",
       "      <td>...</td>\n",
       "      <td>...</td>\n",
       "      <td>...</td>\n",
       "      <td>...</td>\n",
       "      <td>...</td>\n",
       "      <td>...</td>\n",
       "      <td>...</td>\n",
       "      <td>...</td>\n",
       "      <td>...</td>\n",
       "      <td>...</td>\n",
       "      <td>...</td>\n",
       "      <td>...</td>\n",
       "      <td>...</td>\n",
       "      <td>...</td>\n",
       "      <td>...</td>\n",
       "      <td>...</td>\n",
       "      <td>...</td>\n",
       "      <td>...</td>\n",
       "      <td>...</td>\n",
       "      <td>...</td>\n",
       "      <td>...</td>\n",
       "      <td>...</td>\n",
       "      <td>...</td>\n",
       "      <td>...</td>\n",
       "      <td>...</td>\n",
       "      <td>...</td>\n",
       "      <td>...</td>\n",
       "      <td>...</td>\n",
       "      <td>...</td>\n",
       "      <td>...</td>\n",
       "      <td>...</td>\n",
       "      <td>...</td>\n",
       "      <td>...</td>\n",
       "      <td>...</td>\n",
       "      <td>...</td>\n",
       "      <td>...</td>\n",
       "      <td>...</td>\n",
       "      <td>...</td>\n",
       "      <td>...</td>\n",
       "      <td>...</td>\n",
       "      <td>...</td>\n",
       "      <td>...</td>\n",
       "      <td>...</td>\n",
       "      <td>...</td>\n",
       "      <td>...</td>\n",
       "    </tr>\n",
       "    <tr>\n",
       "      <th>4387</th>\n",
       "      <td>-0.327943</td>\n",
       "      <td>0.525899</td>\n",
       "      <td>1.861787</td>\n",
       "      <td>0.0</td>\n",
       "      <td>0.0</td>\n",
       "      <td>0.0</td>\n",
       "      <td>0.0</td>\n",
       "      <td>0.0</td>\n",
       "      <td>0.0</td>\n",
       "      <td>0.0</td>\n",
       "      <td>0.0</td>\n",
       "      <td>1.0</td>\n",
       "      <td>0.0</td>\n",
       "      <td>1.0</td>\n",
       "      <td>0.0</td>\n",
       "      <td>0.0</td>\n",
       "      <td>0.0</td>\n",
       "      <td>0.0</td>\n",
       "      <td>0.0</td>\n",
       "      <td>0.0</td>\n",
       "      <td>1.0</td>\n",
       "      <td>0.0</td>\n",
       "      <td>0.0</td>\n",
       "      <td>0.0</td>\n",
       "      <td>0.0</td>\n",
       "      <td>0.0</td>\n",
       "      <td>0.0</td>\n",
       "      <td>0.0</td>\n",
       "      <td>1.0</td>\n",
       "      <td>0.0</td>\n",
       "      <td>0.0</td>\n",
       "      <td>1.0</td>\n",
       "      <td>0.0</td>\n",
       "      <td>0.0</td>\n",
       "      <td>0.0</td>\n",
       "      <td>0.0</td>\n",
       "      <td>0.0</td>\n",
       "      <td>0.0</td>\n",
       "      <td>0.0</td>\n",
       "      <td>0.0</td>\n",
       "      <td>0.0</td>\n",
       "      <td>0.0</td>\n",
       "      <td>0.0</td>\n",
       "      <td>0.0</td>\n",
       "      <td>0.0</td>\n",
       "      <td>0.0</td>\n",
       "    </tr>\n",
       "    <tr>\n",
       "      <th>15942</th>\n",
       "      <td>1.805663</td>\n",
       "      <td>-0.906937</td>\n",
       "      <td>-0.374212</td>\n",
       "      <td>0.0</td>\n",
       "      <td>0.0</td>\n",
       "      <td>0.0</td>\n",
       "      <td>0.0</td>\n",
       "      <td>0.0</td>\n",
       "      <td>0.0</td>\n",
       "      <td>0.0</td>\n",
       "      <td>0.0</td>\n",
       "      <td>0.0</td>\n",
       "      <td>1.0</td>\n",
       "      <td>0.0</td>\n",
       "      <td>0.0</td>\n",
       "      <td>1.0</td>\n",
       "      <td>0.0</td>\n",
       "      <td>0.0</td>\n",
       "      <td>0.0</td>\n",
       "      <td>0.0</td>\n",
       "      <td>0.0</td>\n",
       "      <td>0.0</td>\n",
       "      <td>0.0</td>\n",
       "      <td>0.0</td>\n",
       "      <td>0.0</td>\n",
       "      <td>0.0</td>\n",
       "      <td>0.0</td>\n",
       "      <td>0.0</td>\n",
       "      <td>1.0</td>\n",
       "      <td>0.0</td>\n",
       "      <td>0.0</td>\n",
       "      <td>1.0</td>\n",
       "      <td>0.0</td>\n",
       "      <td>0.0</td>\n",
       "      <td>0.0</td>\n",
       "      <td>0.0</td>\n",
       "      <td>0.0</td>\n",
       "      <td>0.0</td>\n",
       "      <td>0.0</td>\n",
       "      <td>0.0</td>\n",
       "      <td>0.0</td>\n",
       "      <td>0.0</td>\n",
       "      <td>0.0</td>\n",
       "      <td>0.0</td>\n",
       "      <td>0.0</td>\n",
       "      <td>0.0</td>\n",
       "    </tr>\n",
       "    <tr>\n",
       "      <th>1281</th>\n",
       "      <td>0.718982</td>\n",
       "      <td>0.406496</td>\n",
       "      <td>-0.366167</td>\n",
       "      <td>0.0</td>\n",
       "      <td>0.0</td>\n",
       "      <td>0.0</td>\n",
       "      <td>0.0</td>\n",
       "      <td>0.0</td>\n",
       "      <td>0.0</td>\n",
       "      <td>1.0</td>\n",
       "      <td>0.0</td>\n",
       "      <td>1.0</td>\n",
       "      <td>0.0</td>\n",
       "      <td>1.0</td>\n",
       "      <td>0.0</td>\n",
       "      <td>0.0</td>\n",
       "      <td>0.0</td>\n",
       "      <td>0.0</td>\n",
       "      <td>0.0</td>\n",
       "      <td>0.0</td>\n",
       "      <td>1.0</td>\n",
       "      <td>0.0</td>\n",
       "      <td>0.0</td>\n",
       "      <td>0.0</td>\n",
       "      <td>0.0</td>\n",
       "      <td>0.0</td>\n",
       "      <td>0.0</td>\n",
       "      <td>1.0</td>\n",
       "      <td>0.0</td>\n",
       "      <td>0.0</td>\n",
       "      <td>0.0</td>\n",
       "      <td>1.0</td>\n",
       "      <td>0.0</td>\n",
       "      <td>0.0</td>\n",
       "      <td>0.0</td>\n",
       "      <td>0.0</td>\n",
       "      <td>0.0</td>\n",
       "      <td>0.0</td>\n",
       "      <td>0.0</td>\n",
       "      <td>0.0</td>\n",
       "      <td>0.0</td>\n",
       "      <td>0.0</td>\n",
       "      <td>0.0</td>\n",
       "      <td>0.0</td>\n",
       "      <td>0.0</td>\n",
       "      <td>0.0</td>\n",
       "    </tr>\n",
       "    <tr>\n",
       "      <th>780</th>\n",
       "      <td>-0.652546</td>\n",
       "      <td>0.764704</td>\n",
       "      <td>0.138461</td>\n",
       "      <td>0.0</td>\n",
       "      <td>0.0</td>\n",
       "      <td>0.0</td>\n",
       "      <td>0.0</td>\n",
       "      <td>0.0</td>\n",
       "      <td>0.0</td>\n",
       "      <td>0.0</td>\n",
       "      <td>0.0</td>\n",
       "      <td>1.0</td>\n",
       "      <td>0.0</td>\n",
       "      <td>1.0</td>\n",
       "      <td>0.0</td>\n",
       "      <td>0.0</td>\n",
       "      <td>0.0</td>\n",
       "      <td>0.0</td>\n",
       "      <td>0.0</td>\n",
       "      <td>0.0</td>\n",
       "      <td>0.0</td>\n",
       "      <td>1.0</td>\n",
       "      <td>0.0</td>\n",
       "      <td>0.0</td>\n",
       "      <td>0.0</td>\n",
       "      <td>0.0</td>\n",
       "      <td>0.0</td>\n",
       "      <td>0.0</td>\n",
       "      <td>1.0</td>\n",
       "      <td>0.0</td>\n",
       "      <td>0.0</td>\n",
       "      <td>1.0</td>\n",
       "      <td>0.0</td>\n",
       "      <td>0.0</td>\n",
       "      <td>0.0</td>\n",
       "      <td>0.0</td>\n",
       "      <td>0.0</td>\n",
       "      <td>0.0</td>\n",
       "      <td>0.0</td>\n",
       "      <td>0.0</td>\n",
       "      <td>0.0</td>\n",
       "      <td>0.0</td>\n",
       "      <td>0.0</td>\n",
       "      <td>0.0</td>\n",
       "      <td>0.0</td>\n",
       "      <td>0.0</td>\n",
       "    </tr>\n",
       "    <tr>\n",
       "      <th>1334</th>\n",
       "      <td>-0.356010</td>\n",
       "      <td>0.525899</td>\n",
       "      <td>-0.259810</td>\n",
       "      <td>0.0</td>\n",
       "      <td>0.0</td>\n",
       "      <td>0.0</td>\n",
       "      <td>0.0</td>\n",
       "      <td>0.0</td>\n",
       "      <td>0.0</td>\n",
       "      <td>0.0</td>\n",
       "      <td>0.0</td>\n",
       "      <td>1.0</td>\n",
       "      <td>0.0</td>\n",
       "      <td>1.0</td>\n",
       "      <td>0.0</td>\n",
       "      <td>0.0</td>\n",
       "      <td>0.0</td>\n",
       "      <td>0.0</td>\n",
       "      <td>0.0</td>\n",
       "      <td>0.0</td>\n",
       "      <td>1.0</td>\n",
       "      <td>0.0</td>\n",
       "      <td>0.0</td>\n",
       "      <td>0.0</td>\n",
       "      <td>0.0</td>\n",
       "      <td>0.0</td>\n",
       "      <td>0.0</td>\n",
       "      <td>0.0</td>\n",
       "      <td>1.0</td>\n",
       "      <td>0.0</td>\n",
       "      <td>0.0</td>\n",
       "      <td>1.0</td>\n",
       "      <td>0.0</td>\n",
       "      <td>0.0</td>\n",
       "      <td>0.0</td>\n",
       "      <td>0.0</td>\n",
       "      <td>0.0</td>\n",
       "      <td>0.0</td>\n",
       "      <td>0.0</td>\n",
       "      <td>0.0</td>\n",
       "      <td>0.0</td>\n",
       "      <td>0.0</td>\n",
       "      <td>0.0</td>\n",
       "      <td>0.0</td>\n",
       "      <td>0.0</td>\n",
       "      <td>0.0</td>\n",
       "    </tr>\n",
       "  </tbody>\n",
       "</table>\n",
       "<p>8086 rows × 46 columns</p>\n",
       "</div>"
      ],
      "text/plain": [
       "       historical_sales_volume  number_of_prior_year_transactions  \\\n",
       "5263                 -0.569459                           0.287093   \n",
       "11766                -0.498402                           0.525899   \n",
       "5319                 -0.066168                          -0.906937   \n",
       "4807                  0.274909                          -1.265145   \n",
       "7311                 -0.093920                           0.406496   \n",
       "...                        ...                                ...   \n",
       "4387                 -0.327943                           0.525899   \n",
       "15942                 1.805663                          -0.906937   \n",
       "1281                  0.718982                           0.406496   \n",
       "780                  -0.652546                           0.764704   \n",
       "1334                 -0.356010                           0.525899   \n",
       "\n",
       "       days_since_first_purchase  desk  executive_chair  standard_chair  \\\n",
       "5263                   -0.389550   0.0              0.0             0.0   \n",
       "11766                  -0.076264   0.0              0.0             0.0   \n",
       "5319                   -1.051072   0.0              0.0             0.0   \n",
       "4807                   -0.725717   0.0              1.0             0.0   \n",
       "7311                    1.875364   0.0              0.0             0.0   \n",
       "...                          ...   ...              ...             ...   \n",
       "4387                    1.861787   0.0              0.0             0.0   \n",
       "15942                  -0.374212   0.0              0.0             0.0   \n",
       "1281                   -0.366167   0.0              0.0             0.0   \n",
       "780                     0.138461   0.0              0.0             0.0   \n",
       "1334                   -0.259810   0.0              0.0             0.0   \n",
       "\n",
       "       monitor  printer  computer  insurance  toner  office_supplies  \\\n",
       "5263       0.0      0.0       0.0        0.0    0.0              1.0   \n",
       "11766      0.0      0.0       0.0        0.0    0.0              1.0   \n",
       "5319       0.0      0.0       0.0        0.0    0.0              0.0   \n",
       "4807       0.0      0.0       0.0        0.0    0.0              0.0   \n",
       "7311       0.0      0.0       0.0        0.0    0.0              1.0   \n",
       "...        ...      ...       ...        ...    ...              ...   \n",
       "4387       0.0      0.0       0.0        0.0    0.0              1.0   \n",
       "15942      0.0      0.0       0.0        0.0    0.0              0.0   \n",
       "1281       0.0      0.0       0.0        1.0    0.0              1.0   \n",
       "780        0.0      0.0       0.0        0.0    0.0              1.0   \n",
       "1334       0.0      0.0       0.0        0.0    0.0              1.0   \n",
       "\n",
       "       repurchase_method_AUTO RENEW  repurchase_method_NOTICE  \\\n",
       "5263                            1.0                       0.0   \n",
       "11766                           0.0                       1.0   \n",
       "5319                            1.0                       0.0   \n",
       "4807                            0.0                       1.0   \n",
       "7311                            0.0                       1.0   \n",
       "...                             ...                       ...   \n",
       "4387                            0.0                       1.0   \n",
       "15942                           1.0                       0.0   \n",
       "1281                            0.0                       1.0   \n",
       "780                             0.0                       1.0   \n",
       "1334                            0.0                       1.0   \n",
       "\n",
       "       repurchase_method_PAYMENT PLAN  last_transaction_channel_AUTO RENEW  \\\n",
       "5263                              0.0                                  0.0   \n",
       "11766                             0.0                                  0.0   \n",
       "5319                              0.0                                  0.0   \n",
       "4807                              0.0                                  0.0   \n",
       "7311                              0.0                                  0.0   \n",
       "...                               ...                                  ...   \n",
       "4387                              0.0                                  0.0   \n",
       "15942                             0.0                                  1.0   \n",
       "1281                              0.0                                  0.0   \n",
       "780                               0.0                                  0.0   \n",
       "1334                              0.0                                  0.0   \n",
       "\n",
       "       last_transaction_channel_BILLING  \\\n",
       "5263                                0.0   \n",
       "11766                               0.0   \n",
       "5319                                0.0   \n",
       "4807                                0.0   \n",
       "7311                                0.0   \n",
       "...                                 ...   \n",
       "4387                                0.0   \n",
       "15942                               0.0   \n",
       "1281                                0.0   \n",
       "780                                 0.0   \n",
       "1334                                0.0   \n",
       "\n",
       "       last_transaction_channel_BRANCH (PHONE)  \\\n",
       "5263                                       0.0   \n",
       "11766                                      0.0   \n",
       "5319                                       0.0   \n",
       "4807                                       0.0   \n",
       "7311                                       0.0   \n",
       "...                                        ...   \n",
       "4387                                       0.0   \n",
       "15942                                      0.0   \n",
       "1281                                       0.0   \n",
       "780                                        0.0   \n",
       "1334                                       0.0   \n",
       "\n",
       "       last_transaction_channel_BRANCH (POS)  last_transaction_channel_IT  \\\n",
       "5263                                     0.0                          0.0   \n",
       "11766                                    0.0                          0.0   \n",
       "5319                                     0.0                          0.0   \n",
       "4807                                     0.0                          0.0   \n",
       "7311                                     0.0                          0.0   \n",
       "...                                      ...                          ...   \n",
       "4387                                     0.0                          0.0   \n",
       "15942                                    0.0                          0.0   \n",
       "1281                                     0.0                          0.0   \n",
       "780                                      0.0                          0.0   \n",
       "1334                                     0.0                          0.0   \n",
       "\n",
       "       last_transaction_channel_MAIL  last_transaction_channel_PHONE  \\\n",
       "5263                             0.0                             1.0   \n",
       "11766                            1.0                             0.0   \n",
       "5319                             0.0                             1.0   \n",
       "4807                             0.0                             1.0   \n",
       "7311                             1.0                             0.0   \n",
       "...                              ...                             ...   \n",
       "4387                             1.0                             0.0   \n",
       "15942                            0.0                             0.0   \n",
       "1281                             1.0                             0.0   \n",
       "780                              0.0                             1.0   \n",
       "1334                             1.0                             0.0   \n",
       "\n",
       "       last_transaction_channel_WEB  number_of_employees_1-5  \\\n",
       "5263                            0.0                      0.0   \n",
       "11766                           0.0                      1.0   \n",
       "5319                            0.0                      0.0   \n",
       "4807                            0.0                      0.0   \n",
       "7311                            0.0                      0.0   \n",
       "...                             ...                      ...   \n",
       "4387                            0.0                      0.0   \n",
       "15942                           0.0                      0.0   \n",
       "1281                            0.0                      0.0   \n",
       "780                             0.0                      0.0   \n",
       "1334                            0.0                      0.0   \n",
       "\n",
       "       number_of_employees_101-500  number_of_employees_11-50  \\\n",
       "5263                           0.0                        0.0   \n",
       "11766                          0.0                        0.0   \n",
       "5319                           0.0                        0.0   \n",
       "4807                           0.0                        0.0   \n",
       "7311                           0.0                        0.0   \n",
       "...                            ...                        ...   \n",
       "4387                           0.0                        0.0   \n",
       "15942                          0.0                        0.0   \n",
       "1281                           0.0                        0.0   \n",
       "780                            0.0                        0.0   \n",
       "1334                           0.0                        0.0   \n",
       "\n",
       "       number_of_employees_500+  number_of_employees_51-100  \\\n",
       "5263                        0.0                         0.0   \n",
       "11766                       0.0                         0.0   \n",
       "5319                        0.0                         0.0   \n",
       "4807                        0.0                         0.0   \n",
       "7311                        0.0                         1.0   \n",
       "...                         ...                         ...   \n",
       "4387                        0.0                         0.0   \n",
       "15942                       0.0                         0.0   \n",
       "1281                        0.0                         1.0   \n",
       "780                         0.0                         0.0   \n",
       "1334                        0.0                         0.0   \n",
       "\n",
       "       number_of_employees_6-10  language_Arabic  language_Chinese  \\\n",
       "5263                        1.0              0.0               0.0   \n",
       "11766                       0.0              0.0               0.0   \n",
       "5319                        1.0              0.0               0.0   \n",
       "4807                        1.0              0.0               0.0   \n",
       "7311                        0.0              0.0               0.0   \n",
       "...                         ...              ...               ...   \n",
       "4387                        1.0              0.0               0.0   \n",
       "15942                       1.0              0.0               0.0   \n",
       "1281                        0.0              0.0               0.0   \n",
       "780                         1.0              0.0               0.0   \n",
       "1334                        1.0              0.0               0.0   \n",
       "\n",
       "       language_English  language_French  language_German  language_Greek  \\\n",
       "5263                1.0              0.0              0.0             0.0   \n",
       "11766               1.0              0.0              0.0             0.0   \n",
       "5319                1.0              0.0              0.0             0.0   \n",
       "4807                1.0              0.0              0.0             0.0   \n",
       "7311                1.0              0.0              0.0             0.0   \n",
       "...                 ...              ...              ...             ...   \n",
       "4387                1.0              0.0              0.0             0.0   \n",
       "15942               1.0              0.0              0.0             0.0   \n",
       "1281                1.0              0.0              0.0             0.0   \n",
       "780                 1.0              0.0              0.0             0.0   \n",
       "1334                1.0              0.0              0.0             0.0   \n",
       "\n",
       "       language_Hebrew  language_Hindi  language_Italian  language_Japanese  \\\n",
       "5263               0.0             0.0               0.0                0.0   \n",
       "11766              0.0             0.0               0.0                0.0   \n",
       "5319               0.0             0.0               0.0                0.0   \n",
       "4807               0.0             0.0               0.0                0.0   \n",
       "7311               0.0             0.0               0.0                0.0   \n",
       "...                ...             ...               ...                ...   \n",
       "4387               0.0             0.0               0.0                0.0   \n",
       "15942              0.0             0.0               0.0                0.0   \n",
       "1281               0.0             0.0               0.0                0.0   \n",
       "780                0.0             0.0               0.0                0.0   \n",
       "1334               0.0             0.0               0.0                0.0   \n",
       "\n",
       "       language_Korean  language_Pashto  language_Polish  language_Portuguese  \\\n",
       "5263               0.0              0.0              0.0                  0.0   \n",
       "11766              0.0              0.0              0.0                  0.0   \n",
       "5319               0.0              0.0              0.0                  0.0   \n",
       "4807               0.0              0.0              0.0                  0.0   \n",
       "7311               0.0              0.0              0.0                  0.0   \n",
       "...                ...              ...              ...                  ...   \n",
       "4387               0.0              0.0              0.0                  0.0   \n",
       "15942              0.0              0.0              0.0                  0.0   \n",
       "1281               0.0              0.0              0.0                  0.0   \n",
       "780                0.0              0.0              0.0                  0.0   \n",
       "1334               0.0              0.0              0.0                  0.0   \n",
       "\n",
       "       language_Russian  language_Spanish  language_Vietnamese  \n",
       "5263                0.0               0.0                  0.0  \n",
       "11766               0.0               0.0                  0.0  \n",
       "5319                0.0               0.0                  0.0  \n",
       "4807                0.0               0.0                  0.0  \n",
       "7311                0.0               0.0                  0.0  \n",
       "...                 ...               ...                  ...  \n",
       "4387                0.0               0.0                  0.0  \n",
       "15942               0.0               0.0                  0.0  \n",
       "1281                0.0               0.0                  0.0  \n",
       "780                 0.0               0.0                  0.0  \n",
       "1334                0.0               0.0                  0.0  \n",
       "\n",
       "[8086 rows x 46 columns]"
      ]
     },
     "execution_count": 73,
     "metadata": {},
     "output_type": "execute_result"
    }
   ],
   "source": [
    "X_test_prepared"
   ]
  },
  {
   "cell_type": "code",
   "execution_count": null,
   "metadata": {},
   "outputs": [],
   "source": []
  },
  {
   "cell_type": "markdown",
   "metadata": {},
   "source": [
    "## Create first model (classifier)"
   ]
  },
  {
   "cell_type": "code",
   "execution_count": 74,
   "metadata": {},
   "outputs": [],
   "source": [
    "from sklearn.tree import DecisionTreeClassifier"
   ]
  },
  {
   "cell_type": "code",
   "execution_count": 75,
   "metadata": {},
   "outputs": [
    {
     "data": {
      "text/plain": [
       "DecisionTreeClassifier(ccp_alpha=0.0, class_weight=None, criterion='gini',\n",
       "                       max_depth=50, max_features=None, max_leaf_nodes=None,\n",
       "                       min_impurity_decrease=0.0, min_impurity_split=None,\n",
       "                       min_samples_leaf=1, min_samples_split=2,\n",
       "                       min_weight_fraction_leaf=0.0, presort='deprecated',\n",
       "                       random_state=24, splitter='best')"
      ]
     },
     "execution_count": 75,
     "metadata": {},
     "output_type": "execute_result"
    }
   ],
   "source": [
    "model1_dt = DecisionTreeClassifier(max_depth=50, random_state=24)\n",
    "model1_dt.fit(X_train_prepared, y_train_class)"
   ]
  },
  {
   "cell_type": "code",
   "execution_count": 76,
   "metadata": {},
   "outputs": [
    {
     "data": {
      "text/plain": [
       "array([0, 0, 1, ..., 1, 1, 0])"
      ]
     },
     "execution_count": 76,
     "metadata": {},
     "output_type": "execute_result"
    }
   ],
   "source": [
    "model1_dt_preds = model1_dt.predict(X_train_prepared)\n",
    "model1_dt_preds"
   ]
  },
  {
   "cell_type": "markdown",
   "metadata": {},
   "source": [
    "### Evaluate performance"
   ]
  },
  {
   "cell_type": "code",
   "execution_count": 77,
   "metadata": {},
   "outputs": [],
   "source": [
    "from sklearn.metrics import classification_report\n",
    "from sklearn.model_selection import cross_val_score, cross_val_predict"
   ]
  },
  {
   "cell_type": "code",
   "execution_count": 78,
   "metadata": {},
   "outputs": [],
   "source": [
    "def evaluate_performance_classifier(model, preds):\n",
    "    print(f\"Score train set:\\t { model.score(X_train_prepared, y_train_class) }\")\n",
    "    print(f\"Score test set:\\t\\t { model.score(X_test_prepared, y_test_class) }\\n\")\n",
    "    print(f\"Cross val score:\\t { cross_val_score(model, X_train_prepared, y_train_class, cv=5)}\")\n",
    "    print(f\"Cross val precision:\\t { cross_val_score(model, X_train_prepared, y_train_class, cv=5, scoring='precision') }\\n\")\n",
    "    print(f\"Class Report:\\n {classification_report(y_train_class, preds)}\")"
   ]
  },
  {
   "cell_type": "code",
   "execution_count": 79,
   "metadata": {},
   "outputs": [
    {
     "name": "stdout",
     "output_type": "stream",
     "text": [
      "Score train set:\t 1.0\n",
      "Score test set:\t\t 0.779124412564927\n",
      "\n",
      "Cross val score:\t [0.78986403 0.78231293 0.79468151 0.79591837 0.79282622]\n",
      "Cross val precision:\t [0.60652174 0.59770115 0.61904762 0.61706783 0.61731207]\n",
      "\n",
      "Class Report:\n",
      "               precision    recall  f1-score   support\n",
      "\n",
      "           0       1.00      1.00      1.00      5899\n",
      "           1       1.00      1.00      1.00      2187\n",
      "\n",
      "    accuracy                           1.00      8086\n",
      "   macro avg       1.00      1.00      1.00      8086\n",
      "weighted avg       1.00      1.00      1.00      8086\n",
      "\n"
     ]
    }
   ],
   "source": [
    "evaluate_performance_classifier(model1_dt, model1_dt_preds)"
   ]
  },
  {
   "cell_type": "code",
   "execution_count": 80,
   "metadata": {
    "scrolled": false
   },
   "outputs": [],
   "source": [
    "def get_feat_imp(X, model):\n",
    "    feat = []\n",
    "    for col,imp in zip(X.columns, model.feature_importances_):\n",
    "        feat.append((col, round(imp, 4)))\n",
    "    df = pd.DataFrame(feat, columns=['Feature', 'Coef. Importance'])\n",
    "    return df.sort_values(by='Coef. Importance', ascending=False)"
   ]
  },
  {
   "cell_type": "code",
   "execution_count": 81,
   "metadata": {},
   "outputs": [
    {
     "data": {
      "text/html": [
       "<div>\n",
       "<style scoped>\n",
       "    .dataframe tbody tr th:only-of-type {\n",
       "        vertical-align: middle;\n",
       "    }\n",
       "\n",
       "    .dataframe tbody tr th {\n",
       "        vertical-align: top;\n",
       "    }\n",
       "\n",
       "    .dataframe thead th {\n",
       "        text-align: right;\n",
       "    }\n",
       "</style>\n",
       "<table border=\"1\" class=\"dataframe\">\n",
       "  <thead>\n",
       "    <tr style=\"text-align: right;\">\n",
       "      <th></th>\n",
       "      <th>Feature</th>\n",
       "      <th>Coef. Importance</th>\n",
       "    </tr>\n",
       "  </thead>\n",
       "  <tbody>\n",
       "    <tr>\n",
       "      <th>2</th>\n",
       "      <td>days_since_first_purchase</td>\n",
       "      <td>0.5442</td>\n",
       "    </tr>\n",
       "    <tr>\n",
       "      <th>0</th>\n",
       "      <td>historical_sales_volume</td>\n",
       "      <td>0.1696</td>\n",
       "    </tr>\n",
       "    <tr>\n",
       "      <th>1</th>\n",
       "      <td>number_of_prior_year_transactions</td>\n",
       "      <td>0.0887</td>\n",
       "    </tr>\n",
       "    <tr>\n",
       "      <th>6</th>\n",
       "      <td>monitor</td>\n",
       "      <td>0.0307</td>\n",
       "    </tr>\n",
       "    <tr>\n",
       "      <th>11</th>\n",
       "      <td>office_supplies</td>\n",
       "      <td>0.0192</td>\n",
       "    </tr>\n",
       "    <tr>\n",
       "      <th>20</th>\n",
       "      <td>last_transaction_channel_MAIL</td>\n",
       "      <td>0.0149</td>\n",
       "    </tr>\n",
       "    <tr>\n",
       "      <th>28</th>\n",
       "      <td>number_of_employees_6-10</td>\n",
       "      <td>0.0134</td>\n",
       "    </tr>\n",
       "    <tr>\n",
       "      <th>9</th>\n",
       "      <td>insurance</td>\n",
       "      <td>0.0116</td>\n",
       "    </tr>\n",
       "    <tr>\n",
       "      <th>25</th>\n",
       "      <td>number_of_employees_11-50</td>\n",
       "      <td>0.0105</td>\n",
       "    </tr>\n",
       "    <tr>\n",
       "      <th>22</th>\n",
       "      <td>last_transaction_channel_WEB</td>\n",
       "      <td>0.0105</td>\n",
       "    </tr>\n",
       "    <tr>\n",
       "      <th>4</th>\n",
       "      <td>executive_chair</td>\n",
       "      <td>0.0092</td>\n",
       "    </tr>\n",
       "    <tr>\n",
       "      <th>27</th>\n",
       "      <td>number_of_employees_51-100</td>\n",
       "      <td>0.0086</td>\n",
       "    </tr>\n",
       "    <tr>\n",
       "      <th>23</th>\n",
       "      <td>number_of_employees_1-5</td>\n",
       "      <td>0.0085</td>\n",
       "    </tr>\n",
       "    <tr>\n",
       "      <th>15</th>\n",
       "      <td>last_transaction_channel_AUTO RENEW</td>\n",
       "      <td>0.0070</td>\n",
       "    </tr>\n",
       "    <tr>\n",
       "      <th>10</th>\n",
       "      <td>toner</td>\n",
       "      <td>0.0058</td>\n",
       "    </tr>\n",
       "    <tr>\n",
       "      <th>12</th>\n",
       "      <td>repurchase_method_AUTO RENEW</td>\n",
       "      <td>0.0052</td>\n",
       "    </tr>\n",
       "    <tr>\n",
       "      <th>13</th>\n",
       "      <td>repurchase_method_NOTICE</td>\n",
       "      <td>0.0050</td>\n",
       "    </tr>\n",
       "    <tr>\n",
       "      <th>18</th>\n",
       "      <td>last_transaction_channel_BRANCH (POS)</td>\n",
       "      <td>0.0048</td>\n",
       "    </tr>\n",
       "    <tr>\n",
       "      <th>3</th>\n",
       "      <td>desk</td>\n",
       "      <td>0.0047</td>\n",
       "    </tr>\n",
       "    <tr>\n",
       "      <th>17</th>\n",
       "      <td>last_transaction_channel_BRANCH (PHONE)</td>\n",
       "      <td>0.0043</td>\n",
       "    </tr>\n",
       "    <tr>\n",
       "      <th>26</th>\n",
       "      <td>number_of_employees_500+</td>\n",
       "      <td>0.0040</td>\n",
       "    </tr>\n",
       "    <tr>\n",
       "      <th>24</th>\n",
       "      <td>number_of_employees_101-500</td>\n",
       "      <td>0.0033</td>\n",
       "    </tr>\n",
       "    <tr>\n",
       "      <th>21</th>\n",
       "      <td>last_transaction_channel_PHONE</td>\n",
       "      <td>0.0027</td>\n",
       "    </tr>\n",
       "    <tr>\n",
       "      <th>7</th>\n",
       "      <td>printer</td>\n",
       "      <td>0.0022</td>\n",
       "    </tr>\n",
       "    <tr>\n",
       "      <th>5</th>\n",
       "      <td>standard_chair</td>\n",
       "      <td>0.0021</td>\n",
       "    </tr>\n",
       "    <tr>\n",
       "      <th>31</th>\n",
       "      <td>language_English</td>\n",
       "      <td>0.0015</td>\n",
       "    </tr>\n",
       "    <tr>\n",
       "      <th>36</th>\n",
       "      <td>language_Hindi</td>\n",
       "      <td>0.0013</td>\n",
       "    </tr>\n",
       "    <tr>\n",
       "      <th>19</th>\n",
       "      <td>last_transaction_channel_IT</td>\n",
       "      <td>0.0011</td>\n",
       "    </tr>\n",
       "    <tr>\n",
       "      <th>34</th>\n",
       "      <td>language_Greek</td>\n",
       "      <td>0.0010</td>\n",
       "    </tr>\n",
       "    <tr>\n",
       "      <th>8</th>\n",
       "      <td>computer</td>\n",
       "      <td>0.0009</td>\n",
       "    </tr>\n",
       "    <tr>\n",
       "      <th>44</th>\n",
       "      <td>language_Spanish</td>\n",
       "      <td>0.0008</td>\n",
       "    </tr>\n",
       "    <tr>\n",
       "      <th>33</th>\n",
       "      <td>language_German</td>\n",
       "      <td>0.0005</td>\n",
       "    </tr>\n",
       "    <tr>\n",
       "      <th>37</th>\n",
       "      <td>language_Italian</td>\n",
       "      <td>0.0005</td>\n",
       "    </tr>\n",
       "    <tr>\n",
       "      <th>30</th>\n",
       "      <td>language_Chinese</td>\n",
       "      <td>0.0005</td>\n",
       "    </tr>\n",
       "    <tr>\n",
       "      <th>35</th>\n",
       "      <td>language_Hebrew</td>\n",
       "      <td>0.0004</td>\n",
       "    </tr>\n",
       "    <tr>\n",
       "      <th>16</th>\n",
       "      <td>last_transaction_channel_BILLING</td>\n",
       "      <td>0.0004</td>\n",
       "    </tr>\n",
       "    <tr>\n",
       "      <th>42</th>\n",
       "      <td>language_Portuguese</td>\n",
       "      <td>0.0004</td>\n",
       "    </tr>\n",
       "    <tr>\n",
       "      <th>43</th>\n",
       "      <td>language_Russian</td>\n",
       "      <td>0.0000</td>\n",
       "    </tr>\n",
       "    <tr>\n",
       "      <th>40</th>\n",
       "      <td>language_Pashto</td>\n",
       "      <td>0.0000</td>\n",
       "    </tr>\n",
       "    <tr>\n",
       "      <th>41</th>\n",
       "      <td>language_Polish</td>\n",
       "      <td>0.0000</td>\n",
       "    </tr>\n",
       "    <tr>\n",
       "      <th>29</th>\n",
       "      <td>language_Arabic</td>\n",
       "      <td>0.0000</td>\n",
       "    </tr>\n",
       "    <tr>\n",
       "      <th>39</th>\n",
       "      <td>language_Korean</td>\n",
       "      <td>0.0000</td>\n",
       "    </tr>\n",
       "    <tr>\n",
       "      <th>38</th>\n",
       "      <td>language_Japanese</td>\n",
       "      <td>0.0000</td>\n",
       "    </tr>\n",
       "    <tr>\n",
       "      <th>32</th>\n",
       "      <td>language_French</td>\n",
       "      <td>0.0000</td>\n",
       "    </tr>\n",
       "    <tr>\n",
       "      <th>14</th>\n",
       "      <td>repurchase_method_PAYMENT PLAN</td>\n",
       "      <td>0.0000</td>\n",
       "    </tr>\n",
       "    <tr>\n",
       "      <th>45</th>\n",
       "      <td>language_Vietnamese</td>\n",
       "      <td>0.0000</td>\n",
       "    </tr>\n",
       "  </tbody>\n",
       "</table>\n",
       "</div>"
      ],
      "text/plain": [
       "                                    Feature  Coef. Importance\n",
       "2                 days_since_first_purchase            0.5442\n",
       "0                   historical_sales_volume            0.1696\n",
       "1         number_of_prior_year_transactions            0.0887\n",
       "6                                   monitor            0.0307\n",
       "11                          office_supplies            0.0192\n",
       "20            last_transaction_channel_MAIL            0.0149\n",
       "28                 number_of_employees_6-10            0.0134\n",
       "9                                 insurance            0.0116\n",
       "25                number_of_employees_11-50            0.0105\n",
       "22             last_transaction_channel_WEB            0.0105\n",
       "4                           executive_chair            0.0092\n",
       "27               number_of_employees_51-100            0.0086\n",
       "23                  number_of_employees_1-5            0.0085\n",
       "15      last_transaction_channel_AUTO RENEW            0.0070\n",
       "10                                    toner            0.0058\n",
       "12             repurchase_method_AUTO RENEW            0.0052\n",
       "13                 repurchase_method_NOTICE            0.0050\n",
       "18    last_transaction_channel_BRANCH (POS)            0.0048\n",
       "3                                      desk            0.0047\n",
       "17  last_transaction_channel_BRANCH (PHONE)            0.0043\n",
       "26                 number_of_employees_500+            0.0040\n",
       "24              number_of_employees_101-500            0.0033\n",
       "21           last_transaction_channel_PHONE            0.0027\n",
       "7                                   printer            0.0022\n",
       "5                            standard_chair            0.0021\n",
       "31                         language_English            0.0015\n",
       "36                           language_Hindi            0.0013\n",
       "19              last_transaction_channel_IT            0.0011\n",
       "34                           language_Greek            0.0010\n",
       "8                                  computer            0.0009\n",
       "44                         language_Spanish            0.0008\n",
       "33                          language_German            0.0005\n",
       "37                         language_Italian            0.0005\n",
       "30                         language_Chinese            0.0005\n",
       "35                          language_Hebrew            0.0004\n",
       "16         last_transaction_channel_BILLING            0.0004\n",
       "42                      language_Portuguese            0.0004\n",
       "43                         language_Russian            0.0000\n",
       "40                          language_Pashto            0.0000\n",
       "41                          language_Polish            0.0000\n",
       "29                          language_Arabic            0.0000\n",
       "39                          language_Korean            0.0000\n",
       "38                        language_Japanese            0.0000\n",
       "32                          language_French            0.0000\n",
       "14           repurchase_method_PAYMENT PLAN            0.0000\n",
       "45                      language_Vietnamese            0.0000"
      ]
     },
     "execution_count": 81,
     "metadata": {},
     "output_type": "execute_result"
    }
   ],
   "source": [
    "get_feat_imp(X_train_prepared, model1_dt)"
   ]
  },
  {
   "cell_type": "markdown",
   "metadata": {},
   "source": [
    "#### Hypertuning parameters"
   ]
  },
  {
   "cell_type": "code",
   "execution_count": 82,
   "metadata": {},
   "outputs": [],
   "source": [
    "from sklearn.model_selection import RandomizedSearchCV"
   ]
  },
  {
   "cell_type": "code",
   "execution_count": 83,
   "metadata": {},
   "outputs": [],
   "source": [
    "param_grid = {\n",
    "    'criterion': ['gini', 'entropy'],\n",
    "    'max_depth': [6, 8, 10, 12],\n",
    "    'min_samples_split': [2, 3, 4, 5]\n",
    "}\n",
    "model1_rs = DecisionTreeClassifier()"
   ]
  },
  {
   "cell_type": "code",
   "execution_count": 84,
   "metadata": {},
   "outputs": [
    {
     "data": {
      "text/plain": [
       "RandomizedSearchCV(cv=5, error_score=nan,\n",
       "                   estimator=DecisionTreeClassifier(ccp_alpha=0.0,\n",
       "                                                    class_weight=None,\n",
       "                                                    criterion='gini',\n",
       "                                                    max_depth=None,\n",
       "                                                    max_features=None,\n",
       "                                                    max_leaf_nodes=None,\n",
       "                                                    min_impurity_decrease=0.0,\n",
       "                                                    min_impurity_split=None,\n",
       "                                                    min_samples_leaf=1,\n",
       "                                                    min_samples_split=2,\n",
       "                                                    min_weight_fraction_leaf=0.0,\n",
       "                                                    presort='deprecated',\n",
       "                                                    random_state=None,\n",
       "                                                    splitter='best'),\n",
       "                   iid='deprecated', n_iter=10, n_jobs=-1,\n",
       "                   param_distributions={'criterion': ['gini', 'entropy'],\n",
       "                                        'max_depth': [6, 8, 10, 12],\n",
       "                                        'min_samples_split': [2, 3, 4, 5]},\n",
       "                   pre_dispatch='2*n_jobs', random_state=None, refit=True,\n",
       "                   return_train_score=False, scoring=None, verbose=0)"
      ]
     },
     "execution_count": 84,
     "metadata": {},
     "output_type": "execute_result"
    }
   ],
   "source": [
    "rs = RandomizedSearchCV(model1_rs, param_grid, n_jobs=-1, cv=5)\n",
    "rs.fit(X_train_prepared, y_train_class)"
   ]
  },
  {
   "cell_type": "code",
   "execution_count": 85,
   "metadata": {},
   "outputs": [
    {
     "data": {
      "text/plain": [
       "{'min_samples_split': 2, 'max_depth': 6, 'criterion': 'entropy'}"
      ]
     },
     "execution_count": 85,
     "metadata": {},
     "output_type": "execute_result"
    }
   ],
   "source": [
    "rs.best_params_"
   ]
  },
  {
   "cell_type": "code",
   "execution_count": 86,
   "metadata": {},
   "outputs": [
    {
     "data": {
      "text/plain": [
       "DecisionTreeClassifier(ccp_alpha=0.0, class_weight=None, criterion='entropy',\n",
       "                       max_depth=6, max_features=None, max_leaf_nodes=None,\n",
       "                       min_impurity_decrease=0.0, min_impurity_split=None,\n",
       "                       min_samples_leaf=1, min_samples_split=2,\n",
       "                       min_weight_fraction_leaf=0.0, presort='deprecated',\n",
       "                       random_state=None, splitter='best')"
      ]
     },
     "execution_count": 86,
     "metadata": {},
     "output_type": "execute_result"
    }
   ],
   "source": [
    "rs.best_estimator_"
   ]
  },
  {
   "cell_type": "code",
   "execution_count": 87,
   "metadata": {},
   "outputs": [
    {
     "data": {
      "text/plain": [
       "0.8616126638634677"
      ]
     },
     "execution_count": 87,
     "metadata": {},
     "output_type": "execute_result"
    }
   ],
   "source": [
    "rs.best_estimator_.score(X_test_prepared, y_test_class)"
   ]
  },
  {
   "cell_type": "markdown",
   "metadata": {},
   "source": [
    "#### Second model with best parameters"
   ]
  },
  {
   "cell_type": "code",
   "execution_count": 88,
   "metadata": {},
   "outputs": [
    {
     "data": {
      "text/plain": [
       "DecisionTreeClassifier(ccp_alpha=0.0, class_weight=None, criterion='entropy',\n",
       "                       max_depth=6, max_features=None, max_leaf_nodes=None,\n",
       "                       min_impurity_decrease=0.0, min_impurity_split=None,\n",
       "                       min_samples_leaf=1, min_samples_split=5,\n",
       "                       min_weight_fraction_leaf=0.0, presort='deprecated',\n",
       "                       random_state=24, splitter='best')"
      ]
     },
     "execution_count": 88,
     "metadata": {},
     "output_type": "execute_result"
    }
   ],
   "source": [
    "model2_dt = DecisionTreeClassifier(max_depth=6, min_samples_split=5, criterion='entropy', random_state=24)\n",
    "model2_dt.fit(X_train_prepared, y_train_class)"
   ]
  },
  {
   "cell_type": "code",
   "execution_count": 89,
   "metadata": {},
   "outputs": [
    {
     "data": {
      "text/plain": [
       "array([0, 0, 1, ..., 1, 1, 0])"
      ]
     },
     "execution_count": 89,
     "metadata": {},
     "output_type": "execute_result"
    }
   ],
   "source": [
    "model2_dt_preds = model2_dt.predict(X_train_prepared)\n",
    "model2_dt_preds"
   ]
  },
  {
   "cell_type": "code",
   "execution_count": 90,
   "metadata": {},
   "outputs": [
    {
     "name": "stdout",
     "output_type": "stream",
     "text": [
      "Score train set:\t 0.8671778382389315\n",
      "Score test set:\t\t 0.8617363344051447\n",
      "\n",
      "Cross val score:\t [0.86279357 0.85776129 0.85652443 0.85034014 0.85776129]\n",
      "Cross val precision:\t [0.76341463 0.7804878  0.75689223 0.73838631 0.78729282]\n",
      "\n",
      "Class Report:\n",
      "               precision    recall  f1-score   support\n",
      "\n",
      "           0       0.89      0.93      0.91      5899\n",
      "           1       0.78      0.70      0.74      2187\n",
      "\n",
      "    accuracy                           0.87      8086\n",
      "   macro avg       0.84      0.82      0.83      8086\n",
      "weighted avg       0.86      0.87      0.86      8086\n",
      "\n"
     ]
    }
   ],
   "source": [
    "evaluate_performance_classifier(model2_dt, model2_dt_preds)"
   ]
  },
  {
   "cell_type": "code",
   "execution_count": 91,
   "metadata": {
    "scrolled": true
   },
   "outputs": [
    {
     "data": {
      "text/html": [
       "<div>\n",
       "<style scoped>\n",
       "    .dataframe tbody tr th:only-of-type {\n",
       "        vertical-align: middle;\n",
       "    }\n",
       "\n",
       "    .dataframe tbody tr th {\n",
       "        vertical-align: top;\n",
       "    }\n",
       "\n",
       "    .dataframe thead th {\n",
       "        text-align: right;\n",
       "    }\n",
       "</style>\n",
       "<table border=\"1\" class=\"dataframe\">\n",
       "  <thead>\n",
       "    <tr style=\"text-align: right;\">\n",
       "      <th></th>\n",
       "      <th>Feature</th>\n",
       "      <th>Coef. Importance</th>\n",
       "    </tr>\n",
       "  </thead>\n",
       "  <tbody>\n",
       "    <tr>\n",
       "      <th>2</th>\n",
       "      <td>days_since_first_purchase</td>\n",
       "      <td>0.8919</td>\n",
       "    </tr>\n",
       "    <tr>\n",
       "      <th>1</th>\n",
       "      <td>number_of_prior_year_transactions</td>\n",
       "      <td>0.0376</td>\n",
       "    </tr>\n",
       "    <tr>\n",
       "      <th>6</th>\n",
       "      <td>monitor</td>\n",
       "      <td>0.0339</td>\n",
       "    </tr>\n",
       "    <tr>\n",
       "      <th>0</th>\n",
       "      <td>historical_sales_volume</td>\n",
       "      <td>0.0152</td>\n",
       "    </tr>\n",
       "    <tr>\n",
       "      <th>5</th>\n",
       "      <td>standard_chair</td>\n",
       "      <td>0.0048</td>\n",
       "    </tr>\n",
       "    <tr>\n",
       "      <th>26</th>\n",
       "      <td>number_of_employees_500+</td>\n",
       "      <td>0.0038</td>\n",
       "    </tr>\n",
       "    <tr>\n",
       "      <th>3</th>\n",
       "      <td>desk</td>\n",
       "      <td>0.0031</td>\n",
       "    </tr>\n",
       "    <tr>\n",
       "      <th>36</th>\n",
       "      <td>language_Hindi</td>\n",
       "      <td>0.0027</td>\n",
       "    </tr>\n",
       "    <tr>\n",
       "      <th>4</th>\n",
       "      <td>executive_chair</td>\n",
       "      <td>0.0022</td>\n",
       "    </tr>\n",
       "    <tr>\n",
       "      <th>8</th>\n",
       "      <td>computer</td>\n",
       "      <td>0.0016</td>\n",
       "    </tr>\n",
       "    <tr>\n",
       "      <th>28</th>\n",
       "      <td>number_of_employees_6-10</td>\n",
       "      <td>0.0014</td>\n",
       "    </tr>\n",
       "    <tr>\n",
       "      <th>17</th>\n",
       "      <td>last_transaction_channel_BRANCH (PHONE)</td>\n",
       "      <td>0.0009</td>\n",
       "    </tr>\n",
       "    <tr>\n",
       "      <th>7</th>\n",
       "      <td>printer</td>\n",
       "      <td>0.0008</td>\n",
       "    </tr>\n",
       "    <tr>\n",
       "      <th>35</th>\n",
       "      <td>language_Hebrew</td>\n",
       "      <td>0.0000</td>\n",
       "    </tr>\n",
       "    <tr>\n",
       "      <th>30</th>\n",
       "      <td>language_Chinese</td>\n",
       "      <td>0.0000</td>\n",
       "    </tr>\n",
       "    <tr>\n",
       "      <th>31</th>\n",
       "      <td>language_English</td>\n",
       "      <td>0.0000</td>\n",
       "    </tr>\n",
       "    <tr>\n",
       "      <th>32</th>\n",
       "      <td>language_French</td>\n",
       "      <td>0.0000</td>\n",
       "    </tr>\n",
       "    <tr>\n",
       "      <th>33</th>\n",
       "      <td>language_German</td>\n",
       "      <td>0.0000</td>\n",
       "    </tr>\n",
       "    <tr>\n",
       "      <th>34</th>\n",
       "      <td>language_Greek</td>\n",
       "      <td>0.0000</td>\n",
       "    </tr>\n",
       "    <tr>\n",
       "      <th>39</th>\n",
       "      <td>language_Korean</td>\n",
       "      <td>0.0000</td>\n",
       "    </tr>\n",
       "    <tr>\n",
       "      <th>37</th>\n",
       "      <td>language_Italian</td>\n",
       "      <td>0.0000</td>\n",
       "    </tr>\n",
       "    <tr>\n",
       "      <th>38</th>\n",
       "      <td>language_Japanese</td>\n",
       "      <td>0.0000</td>\n",
       "    </tr>\n",
       "    <tr>\n",
       "      <th>40</th>\n",
       "      <td>language_Pashto</td>\n",
       "      <td>0.0000</td>\n",
       "    </tr>\n",
       "    <tr>\n",
       "      <th>41</th>\n",
       "      <td>language_Polish</td>\n",
       "      <td>0.0000</td>\n",
       "    </tr>\n",
       "    <tr>\n",
       "      <th>42</th>\n",
       "      <td>language_Portuguese</td>\n",
       "      <td>0.0000</td>\n",
       "    </tr>\n",
       "    <tr>\n",
       "      <th>43</th>\n",
       "      <td>language_Russian</td>\n",
       "      <td>0.0000</td>\n",
       "    </tr>\n",
       "    <tr>\n",
       "      <th>44</th>\n",
       "      <td>language_Spanish</td>\n",
       "      <td>0.0000</td>\n",
       "    </tr>\n",
       "    <tr>\n",
       "      <th>29</th>\n",
       "      <td>language_Arabic</td>\n",
       "      <td>0.0000</td>\n",
       "    </tr>\n",
       "    <tr>\n",
       "      <th>23</th>\n",
       "      <td>number_of_employees_1-5</td>\n",
       "      <td>0.0000</td>\n",
       "    </tr>\n",
       "    <tr>\n",
       "      <th>27</th>\n",
       "      <td>number_of_employees_51-100</td>\n",
       "      <td>0.0000</td>\n",
       "    </tr>\n",
       "    <tr>\n",
       "      <th>15</th>\n",
       "      <td>last_transaction_channel_AUTO RENEW</td>\n",
       "      <td>0.0000</td>\n",
       "    </tr>\n",
       "    <tr>\n",
       "      <th>9</th>\n",
       "      <td>insurance</td>\n",
       "      <td>0.0000</td>\n",
       "    </tr>\n",
       "    <tr>\n",
       "      <th>10</th>\n",
       "      <td>toner</td>\n",
       "      <td>0.0000</td>\n",
       "    </tr>\n",
       "    <tr>\n",
       "      <th>11</th>\n",
       "      <td>office_supplies</td>\n",
       "      <td>0.0000</td>\n",
       "    </tr>\n",
       "    <tr>\n",
       "      <th>12</th>\n",
       "      <td>repurchase_method_AUTO RENEW</td>\n",
       "      <td>0.0000</td>\n",
       "    </tr>\n",
       "    <tr>\n",
       "      <th>13</th>\n",
       "      <td>repurchase_method_NOTICE</td>\n",
       "      <td>0.0000</td>\n",
       "    </tr>\n",
       "    <tr>\n",
       "      <th>14</th>\n",
       "      <td>repurchase_method_PAYMENT PLAN</td>\n",
       "      <td>0.0000</td>\n",
       "    </tr>\n",
       "    <tr>\n",
       "      <th>16</th>\n",
       "      <td>last_transaction_channel_BILLING</td>\n",
       "      <td>0.0000</td>\n",
       "    </tr>\n",
       "    <tr>\n",
       "      <th>25</th>\n",
       "      <td>number_of_employees_11-50</td>\n",
       "      <td>0.0000</td>\n",
       "    </tr>\n",
       "    <tr>\n",
       "      <th>18</th>\n",
       "      <td>last_transaction_channel_BRANCH (POS)</td>\n",
       "      <td>0.0000</td>\n",
       "    </tr>\n",
       "    <tr>\n",
       "      <th>19</th>\n",
       "      <td>last_transaction_channel_IT</td>\n",
       "      <td>0.0000</td>\n",
       "    </tr>\n",
       "    <tr>\n",
       "      <th>20</th>\n",
       "      <td>last_transaction_channel_MAIL</td>\n",
       "      <td>0.0000</td>\n",
       "    </tr>\n",
       "    <tr>\n",
       "      <th>21</th>\n",
       "      <td>last_transaction_channel_PHONE</td>\n",
       "      <td>0.0000</td>\n",
       "    </tr>\n",
       "    <tr>\n",
       "      <th>22</th>\n",
       "      <td>last_transaction_channel_WEB</td>\n",
       "      <td>0.0000</td>\n",
       "    </tr>\n",
       "    <tr>\n",
       "      <th>24</th>\n",
       "      <td>number_of_employees_101-500</td>\n",
       "      <td>0.0000</td>\n",
       "    </tr>\n",
       "    <tr>\n",
       "      <th>45</th>\n",
       "      <td>language_Vietnamese</td>\n",
       "      <td>0.0000</td>\n",
       "    </tr>\n",
       "  </tbody>\n",
       "</table>\n",
       "</div>"
      ],
      "text/plain": [
       "                                    Feature  Coef. Importance\n",
       "2                 days_since_first_purchase            0.8919\n",
       "1         number_of_prior_year_transactions            0.0376\n",
       "6                                   monitor            0.0339\n",
       "0                   historical_sales_volume            0.0152\n",
       "5                            standard_chair            0.0048\n",
       "26                 number_of_employees_500+            0.0038\n",
       "3                                      desk            0.0031\n",
       "36                           language_Hindi            0.0027\n",
       "4                           executive_chair            0.0022\n",
       "8                                  computer            0.0016\n",
       "28                 number_of_employees_6-10            0.0014\n",
       "17  last_transaction_channel_BRANCH (PHONE)            0.0009\n",
       "7                                   printer            0.0008\n",
       "35                          language_Hebrew            0.0000\n",
       "30                         language_Chinese            0.0000\n",
       "31                         language_English            0.0000\n",
       "32                          language_French            0.0000\n",
       "33                          language_German            0.0000\n",
       "34                           language_Greek            0.0000\n",
       "39                          language_Korean            0.0000\n",
       "37                         language_Italian            0.0000\n",
       "38                        language_Japanese            0.0000\n",
       "40                          language_Pashto            0.0000\n",
       "41                          language_Polish            0.0000\n",
       "42                      language_Portuguese            0.0000\n",
       "43                         language_Russian            0.0000\n",
       "44                         language_Spanish            0.0000\n",
       "29                          language_Arabic            0.0000\n",
       "23                  number_of_employees_1-5            0.0000\n",
       "27               number_of_employees_51-100            0.0000\n",
       "15      last_transaction_channel_AUTO RENEW            0.0000\n",
       "9                                 insurance            0.0000\n",
       "10                                    toner            0.0000\n",
       "11                          office_supplies            0.0000\n",
       "12             repurchase_method_AUTO RENEW            0.0000\n",
       "13                 repurchase_method_NOTICE            0.0000\n",
       "14           repurchase_method_PAYMENT PLAN            0.0000\n",
       "16         last_transaction_channel_BILLING            0.0000\n",
       "25                number_of_employees_11-50            0.0000\n",
       "18    last_transaction_channel_BRANCH (POS)            0.0000\n",
       "19              last_transaction_channel_IT            0.0000\n",
       "20            last_transaction_channel_MAIL            0.0000\n",
       "21           last_transaction_channel_PHONE            0.0000\n",
       "22             last_transaction_channel_WEB            0.0000\n",
       "24              number_of_employees_101-500            0.0000\n",
       "45                      language_Vietnamese            0.0000"
      ]
     },
     "execution_count": 91,
     "metadata": {},
     "output_type": "execute_result"
    }
   ],
   "source": [
    "get_feat_imp(X_train_prepared, model2_dt)"
   ]
  },
  {
   "cell_type": "markdown",
   "metadata": {},
   "source": [
    "#### Select important features and run new model"
   ]
  },
  {
   "cell_type": "code",
   "execution_count": 92,
   "metadata": {},
   "outputs": [],
   "source": [
    "# features with importance score\n",
    "imp_feat = ['days_since_first_purchase', 'number_of_prior_year_transactions', 'historical_sales_volume', 'monitor',\n",
    "            'standard_chair', 'number_of_employees_500+', 'desk']"
   ]
  },
  {
   "cell_type": "code",
   "execution_count": 93,
   "metadata": {},
   "outputs": [
    {
     "data": {
      "text/html": [
       "<div>\n",
       "<style scoped>\n",
       "    .dataframe tbody tr th:only-of-type {\n",
       "        vertical-align: middle;\n",
       "    }\n",
       "\n",
       "    .dataframe tbody tr th {\n",
       "        vertical-align: top;\n",
       "    }\n",
       "\n",
       "    .dataframe thead th {\n",
       "        text-align: right;\n",
       "    }\n",
       "</style>\n",
       "<table border=\"1\" class=\"dataframe\">\n",
       "  <thead>\n",
       "    <tr style=\"text-align: right;\">\n",
       "      <th></th>\n",
       "      <th>days_since_first_purchase</th>\n",
       "      <th>number_of_prior_year_transactions</th>\n",
       "      <th>historical_sales_volume</th>\n",
       "      <th>monitor</th>\n",
       "      <th>standard_chair</th>\n",
       "      <th>number_of_employees_500+</th>\n",
       "      <th>desk</th>\n",
       "    </tr>\n",
       "  </thead>\n",
       "  <tbody>\n",
       "    <tr>\n",
       "      <th>2632</th>\n",
       "      <td>0.146004</td>\n",
       "      <td>0.764704</td>\n",
       "      <td>0.406579</td>\n",
       "      <td>0.0</td>\n",
       "      <td>0.0</td>\n",
       "      <td>0.0</td>\n",
       "      <td>0.0</td>\n",
       "    </tr>\n",
       "    <tr>\n",
       "      <th>1571</th>\n",
       "      <td>0.548298</td>\n",
       "      <td>0.048287</td>\n",
       "      <td>-0.388558</td>\n",
       "      <td>0.0</td>\n",
       "      <td>0.0</td>\n",
       "      <td>0.0</td>\n",
       "      <td>0.0</td>\n",
       "    </tr>\n",
       "  </tbody>\n",
       "</table>\n",
       "</div>"
      ],
      "text/plain": [
       "      days_since_first_purchase  number_of_prior_year_transactions  \\\n",
       "2632                   0.146004                           0.764704   \n",
       "1571                   0.548298                           0.048287   \n",
       "\n",
       "      historical_sales_volume  monitor  standard_chair  \\\n",
       "2632                 0.406579      0.0             0.0   \n",
       "1571                -0.388558      0.0             0.0   \n",
       "\n",
       "      number_of_employees_500+  desk  \n",
       "2632                       0.0   0.0  \n",
       "1571                       0.0   0.0  "
      ]
     },
     "execution_count": 93,
     "metadata": {},
     "output_type": "execute_result"
    }
   ],
   "source": [
    "X_train_prepared_f = X_train_prepared[imp_feat]\n",
    "X_train_prepared_f.head(2)"
   ]
  },
  {
   "cell_type": "code",
   "execution_count": 94,
   "metadata": {},
   "outputs": [
    {
     "data": {
      "text/plain": [
       "DecisionTreeClassifier(ccp_alpha=0.0, class_weight=None, criterion='entropy',\n",
       "                       max_depth=6, max_features=None, max_leaf_nodes=None,\n",
       "                       min_impurity_decrease=0.0, min_impurity_split=None,\n",
       "                       min_samples_leaf=1, min_samples_split=5,\n",
       "                       min_weight_fraction_leaf=0.0, presort='deprecated',\n",
       "                       random_state=24, splitter='best')"
      ]
     },
     "execution_count": 94,
     "metadata": {},
     "output_type": "execute_result"
    }
   ],
   "source": [
    "model3_dt = DecisionTreeClassifier(max_depth=6,  min_samples_split=5, criterion='entropy', random_state=24)\n",
    "model3_dt.fit(X_train_prepared_f, y_train_class)"
   ]
  },
  {
   "cell_type": "code",
   "execution_count": 95,
   "metadata": {},
   "outputs": [
    {
     "data": {
      "text/plain": [
       "0.8673015087806084"
      ]
     },
     "metadata": {},
     "output_type": "display_data"
    },
    {
     "data": {
      "text/plain": [
       "0.8602522879050211"
      ]
     },
     "execution_count": 95,
     "metadata": {},
     "output_type": "execute_result"
    }
   ],
   "source": [
    "display(model3_dt.score(X_train_prepared_f, y_train_class))\n",
    "model3_dt.score(X_test_prepared[imp_feat], y_test_class)"
   ]
  },
  {
   "cell_type": "code",
   "execution_count": 96,
   "metadata": {},
   "outputs": [
    {
     "data": {
      "text/plain": [
       "array([0.85846724, 0.86085343, 0.85837972, 0.84972171, 0.85714286])"
      ]
     },
     "execution_count": 96,
     "metadata": {},
     "output_type": "execute_result"
    }
   ],
   "source": [
    "cross_val_score(model3_dt, X_train_prepared_f, y_train_class, cv=5)"
   ]
  },
  {
   "cell_type": "code",
   "execution_count": 97,
   "metadata": {},
   "outputs": [
    {
     "data": {
      "text/plain": [
       "array([0.76322418, 0.78648649, 0.76262626, 0.7425    , 0.78512397])"
      ]
     },
     "execution_count": 97,
     "metadata": {},
     "output_type": "execute_result"
    }
   ],
   "source": [
    "cross_val_score(model3_dt, X_train_prepared_f, y_train_class, cv=5, scoring = 'precision')"
   ]
  },
  {
   "cell_type": "code",
   "execution_count": 98,
   "metadata": {},
   "outputs": [
    {
     "name": "stdout",
     "output_type": "stream",
     "text": [
      "              precision    recall  f1-score   support\n",
      "\n",
      "           0       0.89      0.93      0.91      5899\n",
      "           1       0.79      0.70      0.74      2187\n",
      "\n",
      "    accuracy                           0.87      8086\n",
      "   macro avg       0.84      0.81      0.83      8086\n",
      "weighted avg       0.86      0.87      0.86      8086\n",
      "\n"
     ]
    }
   ],
   "source": [
    "model3_dt_preds = model3_dt.predict(X_train_prepared_f)\n",
    "print(classification_report(y_train_class, model3_dt_preds))"
   ]
  },
  {
   "cell_type": "code",
   "execution_count": 99,
   "metadata": {},
   "outputs": [
    {
     "data": {
      "text/html": [
       "<div>\n",
       "<style scoped>\n",
       "    .dataframe tbody tr th:only-of-type {\n",
       "        vertical-align: middle;\n",
       "    }\n",
       "\n",
       "    .dataframe tbody tr th {\n",
       "        vertical-align: top;\n",
       "    }\n",
       "\n",
       "    .dataframe thead th {\n",
       "        text-align: right;\n",
       "    }\n",
       "</style>\n",
       "<table border=\"1\" class=\"dataframe\">\n",
       "  <thead>\n",
       "    <tr style=\"text-align: right;\">\n",
       "      <th></th>\n",
       "      <th>Feature</th>\n",
       "      <th>Coef. Importance</th>\n",
       "    </tr>\n",
       "  </thead>\n",
       "  <tbody>\n",
       "    <tr>\n",
       "      <th>0</th>\n",
       "      <td>days_since_first_purchase</td>\n",
       "      <td>0.8943</td>\n",
       "    </tr>\n",
       "    <tr>\n",
       "      <th>1</th>\n",
       "      <td>number_of_prior_year_transactions</td>\n",
       "      <td>0.0410</td>\n",
       "    </tr>\n",
       "    <tr>\n",
       "      <th>3</th>\n",
       "      <td>monitor</td>\n",
       "      <td>0.0339</td>\n",
       "    </tr>\n",
       "    <tr>\n",
       "      <th>2</th>\n",
       "      <td>historical_sales_volume</td>\n",
       "      <td>0.0191</td>\n",
       "    </tr>\n",
       "    <tr>\n",
       "      <th>4</th>\n",
       "      <td>standard_chair</td>\n",
       "      <td>0.0048</td>\n",
       "    </tr>\n",
       "    <tr>\n",
       "      <th>5</th>\n",
       "      <td>number_of_employees_500+</td>\n",
       "      <td>0.0038</td>\n",
       "    </tr>\n",
       "    <tr>\n",
       "      <th>6</th>\n",
       "      <td>desk</td>\n",
       "      <td>0.0031</td>\n",
       "    </tr>\n",
       "  </tbody>\n",
       "</table>\n",
       "</div>"
      ],
      "text/plain": [
       "                             Feature  Coef. Importance\n",
       "0          days_since_first_purchase            0.8943\n",
       "1  number_of_prior_year_transactions            0.0410\n",
       "3                            monitor            0.0339\n",
       "2            historical_sales_volume            0.0191\n",
       "4                     standard_chair            0.0048\n",
       "5           number_of_employees_500+            0.0038\n",
       "6                               desk            0.0031"
      ]
     },
     "execution_count": 99,
     "metadata": {},
     "output_type": "execute_result"
    }
   ],
   "source": [
    "get_feat_imp(X_train_prepared_f, model3_dt)"
   ]
  },
  {
   "cell_type": "code",
   "execution_count": 100,
   "metadata": {},
   "outputs": [
    {
     "data": {
      "text/plain": [
       "array([[0.94619347, 0.05380653],\n",
       "       [0.94619347, 0.05380653],\n",
       "       [0.16808149, 0.83191851],\n",
       "       ...,\n",
       "       [0.2179878 , 0.7820122 ],\n",
       "       [0.        , 1.        ],\n",
       "       [0.94619347, 0.05380653]])"
      ]
     },
     "execution_count": 100,
     "metadata": {},
     "output_type": "execute_result"
    }
   ],
   "source": [
    "predict_proba_3 = model3_dt.predict_proba(X_train_prepared_f)\n",
    "predict_proba_3"
   ]
  },
  {
   "cell_type": "code",
   "execution_count": 101,
   "metadata": {},
   "outputs": [
    {
     "data": {
      "text/plain": [
       "array([[   0, 6136],\n",
       "       [   1, 1950]], dtype=int64)"
      ]
     },
     "execution_count": 101,
     "metadata": {},
     "output_type": "execute_result"
    }
   ],
   "source": [
    "(unique, counts) = np.unique(model3_dt_preds, return_counts=True)\n",
    "frequencies = np.asarray((unique, counts)).T\n",
    "frequencies"
   ]
  },
  {
   "cell_type": "code",
   "execution_count": 102,
   "metadata": {},
   "outputs": [
    {
     "data": {
      "text/plain": [
       "(8086, 7)"
      ]
     },
     "execution_count": 102,
     "metadata": {},
     "output_type": "execute_result"
    }
   ],
   "source": [
    "X_train_prepared_f.shape"
   ]
  },
  {
   "cell_type": "markdown",
   "metadata": {},
   "source": [
    "#### Compare with Logistic Regression"
   ]
  },
  {
   "cell_type": "code",
   "execution_count": 103,
   "metadata": {},
   "outputs": [],
   "source": [
    "from sklearn.linear_model import LogisticRegression"
   ]
  },
  {
   "cell_type": "code",
   "execution_count": 104,
   "metadata": {},
   "outputs": [
    {
     "data": {
      "text/plain": [
       "LogisticRegression(C=1.0, class_weight=None, dual=False, fit_intercept=True,\n",
       "                   intercept_scaling=1, l1_ratio=None, max_iter=100,\n",
       "                   multi_class='auto', n_jobs=None, penalty='l2',\n",
       "                   random_state=24, solver='liblinear', tol=0.0001, verbose=0,\n",
       "                   warm_start=False)"
      ]
     },
     "execution_count": 104,
     "metadata": {},
     "output_type": "execute_result"
    }
   ],
   "source": [
    "model1_lr = LogisticRegression(solver='liblinear', random_state=24)\n",
    "model1_lr.fit(X_train_prepared, y_train_class)"
   ]
  },
  {
   "cell_type": "code",
   "execution_count": 105,
   "metadata": {},
   "outputs": [
    {
     "data": {
      "text/plain": [
       "array([0, 0, 0, ..., 0, 1, 0])"
      ]
     },
     "execution_count": 105,
     "metadata": {},
     "output_type": "execute_result"
    }
   ],
   "source": [
    "model1_lr_preds = model1_lr.predict(X_train_prepared)\n",
    "model1_lr_preds"
   ]
  },
  {
   "cell_type": "code",
   "execution_count": 106,
   "metadata": {},
   "outputs": [
    {
     "name": "stdout",
     "output_type": "stream",
     "text": [
      "Score train set:\t 0.7849369280237447\n",
      "Score test set:\t\t 0.7858026218154835\n",
      "\n",
      "Cross val score:\t [0.7855377  0.78107607 0.76932591 0.7860235  0.79468151]\n",
      "Cross val precision:\t [0.8013245  0.79020979 0.70253165 0.8013245  0.83544304]\n",
      "\n",
      "Class Report:\n",
      "               precision    recall  f1-score   support\n",
      "\n",
      "           0       0.78      0.97      0.87      5899\n",
      "           1       0.80      0.28      0.41      2187\n",
      "\n",
      "    accuracy                           0.78      8086\n",
      "   macro avg       0.79      0.62      0.64      8086\n",
      "weighted avg       0.79      0.78      0.74      8086\n",
      "\n"
     ]
    }
   ],
   "source": [
    "evaluate_performance_classifier(model1_lr, model1_lr_preds)"
   ]
  },
  {
   "cell_type": "markdown",
   "metadata": {},
   "source": [
    "Best model for classification so far:  Model3 (DecisionTreeClassifier)"
   ]
  },
  {
   "cell_type": "markdown",
   "metadata": {},
   "source": [
    "### Implement Ensemble Methods to try to improve performance in models (Classiffiers)"
   ]
  },
  {
   "cell_type": "code",
   "execution_count": 107,
   "metadata": {},
   "outputs": [
    {
     "data": {
      "text/plain": [
       "array([0, 0, 1, ..., 1, 1, 0])"
      ]
     },
     "execution_count": 107,
     "metadata": {},
     "output_type": "execute_result"
    }
   ],
   "source": [
    "# Bagging classifier\n",
    "from sklearn.ensemble import BaggingClassifier\n",
    "from sklearn.metrics import accuracy_score, recall_score, precision_score\n",
    "\n",
    "model1_bagg = BaggingClassifier()\n",
    "model1_bagg.fit(X_train_prepared, y_train_class)\n",
    "model1_bagg_preds = model1_bagg.predict(X_train_prepared)\n",
    "model1_bagg_preds"
   ]
  },
  {
   "cell_type": "code",
   "execution_count": 108,
   "metadata": {},
   "outputs": [
    {
     "name": "stdout",
     "output_type": "stream",
     "text": [
      "Score train set:\t 0.9859015582488251\n",
      "Score test set:\t\t 0.8402176601533514\n",
      "\n",
      "Cross val score:\t [0.84487021 0.83549784 0.8410637  0.83302412 0.83240569]\n",
      "Cross val precision:\t [0.70951157 0.74438202 0.74929577 0.73657289 0.73262032]\n",
      "\n",
      "Class Report:\n",
      "               precision    recall  f1-score   support\n",
      "\n",
      "           0       0.98      1.00      0.99      5899\n",
      "           1       0.99      0.96      0.97      2187\n",
      "\n",
      "    accuracy                           0.99      8086\n",
      "   macro avg       0.99      0.98      0.98      8086\n",
      "weighted avg       0.99      0.99      0.99      8086\n",
      "\n"
     ]
    }
   ],
   "source": [
    "evaluate_performance_classifier(model1_bagg, model1_bagg_preds)"
   ]
  },
  {
   "cell_type": "code",
   "execution_count": 109,
   "metadata": {},
   "outputs": [],
   "source": [
    "# RandomForestClassifier\n",
    "from sklearn.ensemble import RandomForestClassifier\n",
    "model1_rfc = RandomForestClassifier(n_estimators=100, max_features=7)\n",
    "model1_rfc.fit(X_train_prepared, y_train_class)\n",
    "model1_rfc_preds = model1_rfc.predict(X_train_prepared)"
   ]
  },
  {
   "cell_type": "code",
   "execution_count": 110,
   "metadata": {},
   "outputs": [
    {
     "name": "stdout",
     "output_type": "stream",
     "text": [
      "Score train set:\t 1.0\n",
      "Score test set:\t\t 0.8476378926539698\n",
      "\n",
      "Cross val score:\t [0.8566131  0.84601113 0.83364255 0.84353741 0.84415584]\n",
      "Cross val precision:\t [0.7849162  0.79113924 0.77377049 0.76023392 0.790625  ]\n",
      "\n",
      "Class Report:\n",
      "               precision    recall  f1-score   support\n",
      "\n",
      "           0       1.00      1.00      1.00      5899\n",
      "           1       1.00      1.00      1.00      2187\n",
      "\n",
      "    accuracy                           1.00      8086\n",
      "   macro avg       1.00      1.00      1.00      8086\n",
      "weighted avg       1.00      1.00      1.00      8086\n",
      "\n"
     ]
    }
   ],
   "source": [
    "evaluate_performance_classifier(model1_rfc, model1_rfc_preds)"
   ]
  },
  {
   "cell_type": "code",
   "execution_count": 111,
   "metadata": {},
   "outputs": [],
   "source": [
    "param_grid_rf = {\n",
    "    'criterion': ['gini', 'entropy'],\n",
    "    'max_depth': [14, 16, 18],\n",
    "    'min_samples_split': [3, 4, 5, 6],\n",
    "    'n_estimators': [200, 300, 400],\n",
    "    'max_features': [12, 14, 16, 18]\n",
    "}\n",
    "model1_rfc_rs = RandomForestClassifier()"
   ]
  },
  {
   "cell_type": "code",
   "execution_count": 112,
   "metadata": {},
   "outputs": [
    {
     "data": {
      "text/plain": [
       "RandomizedSearchCV(cv=5, error_score=nan,\n",
       "                   estimator=RandomForestClassifier(bootstrap=True,\n",
       "                                                    ccp_alpha=0.0,\n",
       "                                                    class_weight=None,\n",
       "                                                    criterion='gini',\n",
       "                                                    max_depth=None,\n",
       "                                                    max_features='auto',\n",
       "                                                    max_leaf_nodes=None,\n",
       "                                                    max_samples=None,\n",
       "                                                    min_impurity_decrease=0.0,\n",
       "                                                    min_impurity_split=None,\n",
       "                                                    min_samples_leaf=1,\n",
       "                                                    min_samples_split=2,\n",
       "                                                    min_weight_fraction_leaf=0.0,\n",
       "                                                    n_estimators=100,\n",
       "                                                    n_jobs...\n",
       "                                                    oob_score=False,\n",
       "                                                    random_state=None,\n",
       "                                                    verbose=0,\n",
       "                                                    warm_start=False),\n",
       "                   iid='deprecated', n_iter=10, n_jobs=-1,\n",
       "                   param_distributions={'criterion': ['gini', 'entropy'],\n",
       "                                        'max_depth': [14, 16, 18],\n",
       "                                        'max_features': [12, 14, 16, 18],\n",
       "                                        'min_samples_split': [3, 4, 5, 6],\n",
       "                                        'n_estimators': [200, 300, 400]},\n",
       "                   pre_dispatch='2*n_jobs', random_state=42, refit=True,\n",
       "                   return_train_score=False, scoring=None, verbose=0)"
      ]
     },
     "execution_count": 112,
     "metadata": {},
     "output_type": "execute_result"
    }
   ],
   "source": [
    "rfc_rs = RandomizedSearchCV(model1_rfc_rs, param_grid_rf, n_jobs=-1, cv=5, random_state=42)\n",
    "rfc_rs.fit(X_train_prepared, y_train_class)"
   ]
  },
  {
   "cell_type": "code",
   "execution_count": 113,
   "metadata": {},
   "outputs": [
    {
     "data": {
      "text/plain": [
       "{'n_estimators': 200,\n",
       " 'min_samples_split': 6,\n",
       " 'max_features': 18,\n",
       " 'max_depth': 14,\n",
       " 'criterion': 'gini'}"
      ]
     },
     "execution_count": 113,
     "metadata": {},
     "output_type": "execute_result"
    }
   ],
   "source": [
    "rfc_rs.best_params_"
   ]
  },
  {
   "cell_type": "code",
   "execution_count": 114,
   "metadata": {},
   "outputs": [
    {
     "data": {
      "text/plain": [
       "0.864704427405392"
      ]
     },
     "execution_count": 114,
     "metadata": {},
     "output_type": "execute_result"
    }
   ],
   "source": [
    "rfc_rs.best_estimator_.score(X_test_prepared, y_test_class)"
   ]
  },
  {
   "cell_type": "code",
   "execution_count": 115,
   "metadata": {},
   "outputs": [
    {
     "data": {
      "text/plain": [
       "array([0, 0, 1, ..., 1, 1, 0])"
      ]
     },
     "execution_count": 115,
     "metadata": {},
     "output_type": "execute_result"
    }
   ],
   "source": [
    "model2_rfc = RandomForestClassifier(**rfc_rs.best_params_, random_state=42)\n",
    "model2_rfc.fit(X_train_prepared, y_train_class)\n",
    "model2_rfc_preds = model2_rfc.predict(X_train_prepared)\n",
    "model2_rfc_preds"
   ]
  },
  {
   "cell_type": "code",
   "execution_count": 240,
   "metadata": {},
   "outputs": [
    {
     "data": {
      "text/plain": [
       "RandomForestClassifier(bootstrap=True, ccp_alpha=0.0, class_weight=None,\n",
       "                       criterion='gini', max_depth=14, max_features=18,\n",
       "                       max_leaf_nodes=None, max_samples=None,\n",
       "                       min_impurity_decrease=0.0, min_impurity_split=None,\n",
       "                       min_samples_leaf=1, min_samples_split=6,\n",
       "                       min_weight_fraction_leaf=0.0, n_estimators=200,\n",
       "                       n_jobs=None, oob_score=False, random_state=42, verbose=0,\n",
       "                       warm_start=False)"
      ]
     },
     "execution_count": 240,
     "metadata": {},
     "output_type": "execute_result"
    }
   ],
   "source": [
    "model2_rfc"
   ]
  },
  {
   "cell_type": "code",
   "execution_count": 116,
   "metadata": {},
   "outputs": [
    {
     "name": "stdout",
     "output_type": "stream",
     "text": [
      "Score train set:\t 0.9063813999505318\n",
      "Score test set:\t\t 0.8660648033638387\n",
      "\n",
      "Cross val score:\t [0.868356   0.86641929 0.85776129 0.85899814 0.86641929]\n",
      "Cross val precision:\t [0.77506112 0.80108992 0.78201635 0.75802469 0.80662983]\n",
      "\n",
      "Class Report:\n",
      "               precision    recall  f1-score   support\n",
      "\n",
      "           0       0.92      0.96      0.94      5899\n",
      "           1       0.87      0.77      0.82      2187\n",
      "\n",
      "    accuracy                           0.91      8086\n",
      "   macro avg       0.89      0.86      0.88      8086\n",
      "weighted avg       0.90      0.91      0.90      8086\n",
      "\n"
     ]
    }
   ],
   "source": [
    "evaluate_performance_classifier(model2_rfc, model2_rfc_preds)"
   ]
  },
  {
   "cell_type": "code",
   "execution_count": 117,
   "metadata": {
    "scrolled": true
   },
   "outputs": [
    {
     "data": {
      "text/html": [
       "<div>\n",
       "<style scoped>\n",
       "    .dataframe tbody tr th:only-of-type {\n",
       "        vertical-align: middle;\n",
       "    }\n",
       "\n",
       "    .dataframe tbody tr th {\n",
       "        vertical-align: top;\n",
       "    }\n",
       "\n",
       "    .dataframe thead th {\n",
       "        text-align: right;\n",
       "    }\n",
       "</style>\n",
       "<table border=\"1\" class=\"dataframe\">\n",
       "  <thead>\n",
       "    <tr style=\"text-align: right;\">\n",
       "      <th></th>\n",
       "      <th>Feature</th>\n",
       "      <th>Coef. Importance</th>\n",
       "    </tr>\n",
       "  </thead>\n",
       "  <tbody>\n",
       "    <tr>\n",
       "      <th>2</th>\n",
       "      <td>days_since_first_purchase</td>\n",
       "      <td>0.6542</td>\n",
       "    </tr>\n",
       "    <tr>\n",
       "      <th>0</th>\n",
       "      <td>historical_sales_volume</td>\n",
       "      <td>0.0902</td>\n",
       "    </tr>\n",
       "    <tr>\n",
       "      <th>1</th>\n",
       "      <td>number_of_prior_year_transactions</td>\n",
       "      <td>0.0753</td>\n",
       "    </tr>\n",
       "    <tr>\n",
       "      <th>6</th>\n",
       "      <td>monitor</td>\n",
       "      <td>0.0264</td>\n",
       "    </tr>\n",
       "    <tr>\n",
       "      <th>11</th>\n",
       "      <td>office_supplies</td>\n",
       "      <td>0.0167</td>\n",
       "    </tr>\n",
       "    <tr>\n",
       "      <th>5</th>\n",
       "      <td>standard_chair</td>\n",
       "      <td>0.0135</td>\n",
       "    </tr>\n",
       "    <tr>\n",
       "      <th>8</th>\n",
       "      <td>computer</td>\n",
       "      <td>0.0094</td>\n",
       "    </tr>\n",
       "    <tr>\n",
       "      <th>20</th>\n",
       "      <td>last_transaction_channel_MAIL</td>\n",
       "      <td>0.0090</td>\n",
       "    </tr>\n",
       "    <tr>\n",
       "      <th>28</th>\n",
       "      <td>number_of_employees_6-10</td>\n",
       "      <td>0.0083</td>\n",
       "    </tr>\n",
       "    <tr>\n",
       "      <th>22</th>\n",
       "      <td>last_transaction_channel_WEB</td>\n",
       "      <td>0.0076</td>\n",
       "    </tr>\n",
       "    <tr>\n",
       "      <th>7</th>\n",
       "      <td>printer</td>\n",
       "      <td>0.0070</td>\n",
       "    </tr>\n",
       "    <tr>\n",
       "      <th>4</th>\n",
       "      <td>executive_chair</td>\n",
       "      <td>0.0068</td>\n",
       "    </tr>\n",
       "    <tr>\n",
       "      <th>9</th>\n",
       "      <td>insurance</td>\n",
       "      <td>0.0062</td>\n",
       "    </tr>\n",
       "    <tr>\n",
       "      <th>23</th>\n",
       "      <td>number_of_employees_1-5</td>\n",
       "      <td>0.0061</td>\n",
       "    </tr>\n",
       "    <tr>\n",
       "      <th>10</th>\n",
       "      <td>toner</td>\n",
       "      <td>0.0059</td>\n",
       "    </tr>\n",
       "    <tr>\n",
       "      <th>25</th>\n",
       "      <td>number_of_employees_11-50</td>\n",
       "      <td>0.0056</td>\n",
       "    </tr>\n",
       "    <tr>\n",
       "      <th>27</th>\n",
       "      <td>number_of_employees_51-100</td>\n",
       "      <td>0.0054</td>\n",
       "    </tr>\n",
       "    <tr>\n",
       "      <th>13</th>\n",
       "      <td>repurchase_method_NOTICE</td>\n",
       "      <td>0.0053</td>\n",
       "    </tr>\n",
       "    <tr>\n",
       "      <th>15</th>\n",
       "      <td>last_transaction_channel_AUTO RENEW</td>\n",
       "      <td>0.0048</td>\n",
       "    </tr>\n",
       "    <tr>\n",
       "      <th>12</th>\n",
       "      <td>repurchase_method_AUTO RENEW</td>\n",
       "      <td>0.0046</td>\n",
       "    </tr>\n",
       "    <tr>\n",
       "      <th>3</th>\n",
       "      <td>desk</td>\n",
       "      <td>0.0045</td>\n",
       "    </tr>\n",
       "    <tr>\n",
       "      <th>21</th>\n",
       "      <td>last_transaction_channel_PHONE</td>\n",
       "      <td>0.0039</td>\n",
       "    </tr>\n",
       "    <tr>\n",
       "      <th>24</th>\n",
       "      <td>number_of_employees_101-500</td>\n",
       "      <td>0.0035</td>\n",
       "    </tr>\n",
       "    <tr>\n",
       "      <th>17</th>\n",
       "      <td>last_transaction_channel_BRANCH (PHONE)</td>\n",
       "      <td>0.0035</td>\n",
       "    </tr>\n",
       "    <tr>\n",
       "      <th>18</th>\n",
       "      <td>last_transaction_channel_BRANCH (POS)</td>\n",
       "      <td>0.0034</td>\n",
       "    </tr>\n",
       "    <tr>\n",
       "      <th>26</th>\n",
       "      <td>number_of_employees_500+</td>\n",
       "      <td>0.0023</td>\n",
       "    </tr>\n",
       "    <tr>\n",
       "      <th>31</th>\n",
       "      <td>language_English</td>\n",
       "      <td>0.0018</td>\n",
       "    </tr>\n",
       "    <tr>\n",
       "      <th>36</th>\n",
       "      <td>language_Hindi</td>\n",
       "      <td>0.0014</td>\n",
       "    </tr>\n",
       "    <tr>\n",
       "      <th>34</th>\n",
       "      <td>language_Greek</td>\n",
       "      <td>0.0010</td>\n",
       "    </tr>\n",
       "    <tr>\n",
       "      <th>19</th>\n",
       "      <td>last_transaction_channel_IT</td>\n",
       "      <td>0.0009</td>\n",
       "    </tr>\n",
       "    <tr>\n",
       "      <th>38</th>\n",
       "      <td>language_Japanese</td>\n",
       "      <td>0.0009</td>\n",
       "    </tr>\n",
       "    <tr>\n",
       "      <th>37</th>\n",
       "      <td>language_Italian</td>\n",
       "      <td>0.0008</td>\n",
       "    </tr>\n",
       "    <tr>\n",
       "      <th>16</th>\n",
       "      <td>last_transaction_channel_BILLING</td>\n",
       "      <td>0.0008</td>\n",
       "    </tr>\n",
       "    <tr>\n",
       "      <th>42</th>\n",
       "      <td>language_Portuguese</td>\n",
       "      <td>0.0007</td>\n",
       "    </tr>\n",
       "    <tr>\n",
       "      <th>44</th>\n",
       "      <td>language_Spanish</td>\n",
       "      <td>0.0007</td>\n",
       "    </tr>\n",
       "    <tr>\n",
       "      <th>30</th>\n",
       "      <td>language_Chinese</td>\n",
       "      <td>0.0006</td>\n",
       "    </tr>\n",
       "    <tr>\n",
       "      <th>40</th>\n",
       "      <td>language_Pashto</td>\n",
       "      <td>0.0004</td>\n",
       "    </tr>\n",
       "    <tr>\n",
       "      <th>35</th>\n",
       "      <td>language_Hebrew</td>\n",
       "      <td>0.0003</td>\n",
       "    </tr>\n",
       "    <tr>\n",
       "      <th>14</th>\n",
       "      <td>repurchase_method_PAYMENT PLAN</td>\n",
       "      <td>0.0001</td>\n",
       "    </tr>\n",
       "    <tr>\n",
       "      <th>33</th>\n",
       "      <td>language_German</td>\n",
       "      <td>0.0001</td>\n",
       "    </tr>\n",
       "    <tr>\n",
       "      <th>29</th>\n",
       "      <td>language_Arabic</td>\n",
       "      <td>0.0001</td>\n",
       "    </tr>\n",
       "    <tr>\n",
       "      <th>39</th>\n",
       "      <td>language_Korean</td>\n",
       "      <td>0.0000</td>\n",
       "    </tr>\n",
       "    <tr>\n",
       "      <th>41</th>\n",
       "      <td>language_Polish</td>\n",
       "      <td>0.0000</td>\n",
       "    </tr>\n",
       "    <tr>\n",
       "      <th>32</th>\n",
       "      <td>language_French</td>\n",
       "      <td>0.0000</td>\n",
       "    </tr>\n",
       "    <tr>\n",
       "      <th>43</th>\n",
       "      <td>language_Russian</td>\n",
       "      <td>0.0000</td>\n",
       "    </tr>\n",
       "    <tr>\n",
       "      <th>45</th>\n",
       "      <td>language_Vietnamese</td>\n",
       "      <td>0.0000</td>\n",
       "    </tr>\n",
       "  </tbody>\n",
       "</table>\n",
       "</div>"
      ],
      "text/plain": [
       "                                    Feature  Coef. Importance\n",
       "2                 days_since_first_purchase            0.6542\n",
       "0                   historical_sales_volume            0.0902\n",
       "1         number_of_prior_year_transactions            0.0753\n",
       "6                                   monitor            0.0264\n",
       "11                          office_supplies            0.0167\n",
       "5                            standard_chair            0.0135\n",
       "8                                  computer            0.0094\n",
       "20            last_transaction_channel_MAIL            0.0090\n",
       "28                 number_of_employees_6-10            0.0083\n",
       "22             last_transaction_channel_WEB            0.0076\n",
       "7                                   printer            0.0070\n",
       "4                           executive_chair            0.0068\n",
       "9                                 insurance            0.0062\n",
       "23                  number_of_employees_1-5            0.0061\n",
       "10                                    toner            0.0059\n",
       "25                number_of_employees_11-50            0.0056\n",
       "27               number_of_employees_51-100            0.0054\n",
       "13                 repurchase_method_NOTICE            0.0053\n",
       "15      last_transaction_channel_AUTO RENEW            0.0048\n",
       "12             repurchase_method_AUTO RENEW            0.0046\n",
       "3                                      desk            0.0045\n",
       "21           last_transaction_channel_PHONE            0.0039\n",
       "24              number_of_employees_101-500            0.0035\n",
       "17  last_transaction_channel_BRANCH (PHONE)            0.0035\n",
       "18    last_transaction_channel_BRANCH (POS)            0.0034\n",
       "26                 number_of_employees_500+            0.0023\n",
       "31                         language_English            0.0018\n",
       "36                           language_Hindi            0.0014\n",
       "34                           language_Greek            0.0010\n",
       "19              last_transaction_channel_IT            0.0009\n",
       "38                        language_Japanese            0.0009\n",
       "37                         language_Italian            0.0008\n",
       "16         last_transaction_channel_BILLING            0.0008\n",
       "42                      language_Portuguese            0.0007\n",
       "44                         language_Spanish            0.0007\n",
       "30                         language_Chinese            0.0006\n",
       "40                          language_Pashto            0.0004\n",
       "35                          language_Hebrew            0.0003\n",
       "14           repurchase_method_PAYMENT PLAN            0.0001\n",
       "33                          language_German            0.0001\n",
       "29                          language_Arabic            0.0001\n",
       "39                          language_Korean            0.0000\n",
       "41                          language_Polish            0.0000\n",
       "32                          language_French            0.0000\n",
       "43                         language_Russian            0.0000\n",
       "45                      language_Vietnamese            0.0000"
      ]
     },
     "execution_count": 117,
     "metadata": {},
     "output_type": "execute_result"
    }
   ],
   "source": [
    "get_feat_imp(X_train_prepared, model2_rfc)"
   ]
  },
  {
   "cell_type": "code",
   "execution_count": 201,
   "metadata": {},
   "outputs": [],
   "source": [
    "feat_imp_class = get_feat_imp(X_train_prepared, model2_rfc)\n",
    "feat_imp_class.to_excel(\"fi_class.xlsx\")"
   ]
  },
  {
   "cell_type": "code",
   "execution_count": 247,
   "metadata": {},
   "outputs": [],
   "source": [
    "yyyy = feat_imp_class.T"
   ]
  },
  {
   "cell_type": "code",
   "execution_count": 250,
   "metadata": {},
   "outputs": [
    {
     "ename": "KeyError",
     "evalue": "'Feature'",
     "output_type": "error",
     "traceback": [
      "\u001b[1;31m---------------------------------------------------------------------------\u001b[0m",
      "\u001b[1;31mKeyError\u001b[0m                                  Traceback (most recent call last)",
      "\u001b[1;32m~\\Anaconda3\\envs\\pgdads\\lib\\site-packages\\pandas\\core\\indexes\\base.py\u001b[0m in \u001b[0;36mget_loc\u001b[1;34m(self, key, method, tolerance)\u001b[0m\n\u001b[0;32m   2896\u001b[0m             \u001b[1;32mtry\u001b[0m\u001b[1;33m:\u001b[0m\u001b[1;33m\u001b[0m\u001b[1;33m\u001b[0m\u001b[0m\n\u001b[1;32m-> 2897\u001b[1;33m                 \u001b[1;32mreturn\u001b[0m \u001b[0mself\u001b[0m\u001b[1;33m.\u001b[0m\u001b[0m_engine\u001b[0m\u001b[1;33m.\u001b[0m\u001b[0mget_loc\u001b[0m\u001b[1;33m(\u001b[0m\u001b[0mkey\u001b[0m\u001b[1;33m)\u001b[0m\u001b[1;33m\u001b[0m\u001b[1;33m\u001b[0m\u001b[0m\n\u001b[0m\u001b[0;32m   2898\u001b[0m             \u001b[1;32mexcept\u001b[0m \u001b[0mKeyError\u001b[0m\u001b[1;33m:\u001b[0m\u001b[1;33m\u001b[0m\u001b[1;33m\u001b[0m\u001b[0m\n",
      "\u001b[1;32mpandas/_libs/index.pyx\u001b[0m in \u001b[0;36mpandas._libs.index.IndexEngine.get_loc\u001b[1;34m()\u001b[0m\n",
      "\u001b[1;32mpandas/_libs/index.pyx\u001b[0m in \u001b[0;36mpandas._libs.index.IndexEngine.get_loc\u001b[1;34m()\u001b[0m\n",
      "\u001b[1;32mpandas/_libs/index_class_helper.pxi\u001b[0m in \u001b[0;36mpandas._libs.index.Int64Engine._check_type\u001b[1;34m()\u001b[0m\n",
      "\u001b[1;31mKeyError\u001b[0m: 'Feature'",
      "\nDuring handling of the above exception, another exception occurred:\n",
      "\u001b[1;31mKeyError\u001b[0m                                  Traceback (most recent call last)",
      "\u001b[1;32m<ipython-input-250-d40a02bc8363>\u001b[0m in \u001b[0;36m<module>\u001b[1;34m\u001b[0m\n\u001b[1;32m----> 1\u001b[1;33m \u001b[0myyyy\u001b[0m\u001b[1;33m.\u001b[0m\u001b[0mplot\u001b[0m\u001b[1;33m(\u001b[0m\u001b[0mkind\u001b[0m\u001b[1;33m=\u001b[0m\u001b[1;34m'bar'\u001b[0m\u001b[1;33m,\u001b[0m \u001b[0my\u001b[0m\u001b[1;33m=\u001b[0m\u001b[1;34m'Feature'\u001b[0m\u001b[1;33m)\u001b[0m\u001b[1;33m;\u001b[0m\u001b[1;33m\u001b[0m\u001b[1;33m\u001b[0m\u001b[0m\n\u001b[0m",
      "\u001b[1;32m~\\Anaconda3\\envs\\pgdads\\lib\\site-packages\\pandas\\plotting\\_core.py\u001b[0m in \u001b[0;36m__call__\u001b[1;34m(self, *args, **kwargs)\u001b[0m\n\u001b[0;32m    778\u001b[0m \u001b[1;33m\u001b[0m\u001b[0m\n\u001b[0;32m    779\u001b[0m                 \u001b[1;31m# don't overwrite\u001b[0m\u001b[1;33m\u001b[0m\u001b[1;33m\u001b[0m\u001b[1;33m\u001b[0m\u001b[0m\n\u001b[1;32m--> 780\u001b[1;33m                 \u001b[0mdata\u001b[0m \u001b[1;33m=\u001b[0m \u001b[0mdata\u001b[0m\u001b[1;33m[\u001b[0m\u001b[0my\u001b[0m\u001b[1;33m]\u001b[0m\u001b[1;33m.\u001b[0m\u001b[0mcopy\u001b[0m\u001b[1;33m(\u001b[0m\u001b[1;33m)\u001b[0m\u001b[1;33m\u001b[0m\u001b[1;33m\u001b[0m\u001b[0m\n\u001b[0m\u001b[0;32m    781\u001b[0m \u001b[1;33m\u001b[0m\u001b[0m\n\u001b[0;32m    782\u001b[0m                 \u001b[1;32mif\u001b[0m \u001b[0misinstance\u001b[0m\u001b[1;33m(\u001b[0m\u001b[0mdata\u001b[0m\u001b[1;33m,\u001b[0m \u001b[0mABCSeries\u001b[0m\u001b[1;33m)\u001b[0m\u001b[1;33m:\u001b[0m\u001b[1;33m\u001b[0m\u001b[1;33m\u001b[0m\u001b[0m\n",
      "\u001b[1;32m~\\Anaconda3\\envs\\pgdads\\lib\\site-packages\\pandas\\core\\frame.py\u001b[0m in \u001b[0;36m__getitem__\u001b[1;34m(self, key)\u001b[0m\n\u001b[0;32m   2993\u001b[0m             \u001b[1;32mif\u001b[0m \u001b[0mself\u001b[0m\u001b[1;33m.\u001b[0m\u001b[0mcolumns\u001b[0m\u001b[1;33m.\u001b[0m\u001b[0mnlevels\u001b[0m \u001b[1;33m>\u001b[0m \u001b[1;36m1\u001b[0m\u001b[1;33m:\u001b[0m\u001b[1;33m\u001b[0m\u001b[1;33m\u001b[0m\u001b[0m\n\u001b[0;32m   2994\u001b[0m                 \u001b[1;32mreturn\u001b[0m \u001b[0mself\u001b[0m\u001b[1;33m.\u001b[0m\u001b[0m_getitem_multilevel\u001b[0m\u001b[1;33m(\u001b[0m\u001b[0mkey\u001b[0m\u001b[1;33m)\u001b[0m\u001b[1;33m\u001b[0m\u001b[1;33m\u001b[0m\u001b[0m\n\u001b[1;32m-> 2995\u001b[1;33m             \u001b[0mindexer\u001b[0m \u001b[1;33m=\u001b[0m \u001b[0mself\u001b[0m\u001b[1;33m.\u001b[0m\u001b[0mcolumns\u001b[0m\u001b[1;33m.\u001b[0m\u001b[0mget_loc\u001b[0m\u001b[1;33m(\u001b[0m\u001b[0mkey\u001b[0m\u001b[1;33m)\u001b[0m\u001b[1;33m\u001b[0m\u001b[1;33m\u001b[0m\u001b[0m\n\u001b[0m\u001b[0;32m   2996\u001b[0m             \u001b[1;32mif\u001b[0m \u001b[0mis_integer\u001b[0m\u001b[1;33m(\u001b[0m\u001b[0mindexer\u001b[0m\u001b[1;33m)\u001b[0m\u001b[1;33m:\u001b[0m\u001b[1;33m\u001b[0m\u001b[1;33m\u001b[0m\u001b[0m\n\u001b[0;32m   2997\u001b[0m                 \u001b[0mindexer\u001b[0m \u001b[1;33m=\u001b[0m \u001b[1;33m[\u001b[0m\u001b[0mindexer\u001b[0m\u001b[1;33m]\u001b[0m\u001b[1;33m\u001b[0m\u001b[1;33m\u001b[0m\u001b[0m\n",
      "\u001b[1;32m~\\Anaconda3\\envs\\pgdads\\lib\\site-packages\\pandas\\core\\indexes\\base.py\u001b[0m in \u001b[0;36mget_loc\u001b[1;34m(self, key, method, tolerance)\u001b[0m\n\u001b[0;32m   2897\u001b[0m                 \u001b[1;32mreturn\u001b[0m \u001b[0mself\u001b[0m\u001b[1;33m.\u001b[0m\u001b[0m_engine\u001b[0m\u001b[1;33m.\u001b[0m\u001b[0mget_loc\u001b[0m\u001b[1;33m(\u001b[0m\u001b[0mkey\u001b[0m\u001b[1;33m)\u001b[0m\u001b[1;33m\u001b[0m\u001b[1;33m\u001b[0m\u001b[0m\n\u001b[0;32m   2898\u001b[0m             \u001b[1;32mexcept\u001b[0m \u001b[0mKeyError\u001b[0m\u001b[1;33m:\u001b[0m\u001b[1;33m\u001b[0m\u001b[1;33m\u001b[0m\u001b[0m\n\u001b[1;32m-> 2899\u001b[1;33m                 \u001b[1;32mreturn\u001b[0m \u001b[0mself\u001b[0m\u001b[1;33m.\u001b[0m\u001b[0m_engine\u001b[0m\u001b[1;33m.\u001b[0m\u001b[0mget_loc\u001b[0m\u001b[1;33m(\u001b[0m\u001b[0mself\u001b[0m\u001b[1;33m.\u001b[0m\u001b[0m_maybe_cast_indexer\u001b[0m\u001b[1;33m(\u001b[0m\u001b[0mkey\u001b[0m\u001b[1;33m)\u001b[0m\u001b[1;33m)\u001b[0m\u001b[1;33m\u001b[0m\u001b[1;33m\u001b[0m\u001b[0m\n\u001b[0m\u001b[0;32m   2900\u001b[0m         \u001b[0mindexer\u001b[0m \u001b[1;33m=\u001b[0m \u001b[0mself\u001b[0m\u001b[1;33m.\u001b[0m\u001b[0mget_indexer\u001b[0m\u001b[1;33m(\u001b[0m\u001b[1;33m[\u001b[0m\u001b[0mkey\u001b[0m\u001b[1;33m]\u001b[0m\u001b[1;33m,\u001b[0m \u001b[0mmethod\u001b[0m\u001b[1;33m=\u001b[0m\u001b[0mmethod\u001b[0m\u001b[1;33m,\u001b[0m \u001b[0mtolerance\u001b[0m\u001b[1;33m=\u001b[0m\u001b[0mtolerance\u001b[0m\u001b[1;33m)\u001b[0m\u001b[1;33m\u001b[0m\u001b[1;33m\u001b[0m\u001b[0m\n\u001b[0;32m   2901\u001b[0m         \u001b[1;32mif\u001b[0m \u001b[0mindexer\u001b[0m\u001b[1;33m.\u001b[0m\u001b[0mndim\u001b[0m \u001b[1;33m>\u001b[0m \u001b[1;36m1\u001b[0m \u001b[1;32mor\u001b[0m \u001b[0mindexer\u001b[0m\u001b[1;33m.\u001b[0m\u001b[0msize\u001b[0m \u001b[1;33m>\u001b[0m \u001b[1;36m1\u001b[0m\u001b[1;33m:\u001b[0m\u001b[1;33m\u001b[0m\u001b[1;33m\u001b[0m\u001b[0m\n",
      "\u001b[1;32mpandas/_libs/index.pyx\u001b[0m in \u001b[0;36mpandas._libs.index.IndexEngine.get_loc\u001b[1;34m()\u001b[0m\n",
      "\u001b[1;32mpandas/_libs/index.pyx\u001b[0m in \u001b[0;36mpandas._libs.index.IndexEngine.get_loc\u001b[1;34m()\u001b[0m\n",
      "\u001b[1;32mpandas/_libs/index_class_helper.pxi\u001b[0m in \u001b[0;36mpandas._libs.index.Int64Engine._check_type\u001b[1;34m()\u001b[0m\n",
      "\u001b[1;31mKeyError\u001b[0m: 'Feature'"
     ]
    }
   ],
   "source": [
    "yyyy.plot(kind='bar', y='Feature');"
   ]
  },
  {
   "cell_type": "code",
   "execution_count": 118,
   "metadata": {},
   "outputs": [
    {
     "data": {
      "text/html": [
       "<div>\n",
       "<style scoped>\n",
       "    .dataframe tbody tr th:only-of-type {\n",
       "        vertical-align: middle;\n",
       "    }\n",
       "\n",
       "    .dataframe tbody tr th {\n",
       "        vertical-align: top;\n",
       "    }\n",
       "\n",
       "    .dataframe thead th {\n",
       "        text-align: right;\n",
       "    }\n",
       "</style>\n",
       "<table border=\"1\" class=\"dataframe\">\n",
       "  <thead>\n",
       "    <tr style=\"text-align: right;\">\n",
       "      <th></th>\n",
       "      <th>days_since_first_purchase</th>\n",
       "      <th>number_of_prior_year_transactions</th>\n",
       "      <th>historical_sales_volume</th>\n",
       "      <th>monitor</th>\n",
       "      <th>standard_chair</th>\n",
       "      <th>office_supplies</th>\n",
       "    </tr>\n",
       "  </thead>\n",
       "  <tbody>\n",
       "    <tr>\n",
       "      <th>2632</th>\n",
       "      <td>0.146004</td>\n",
       "      <td>0.764704</td>\n",
       "      <td>0.406579</td>\n",
       "      <td>0.0</td>\n",
       "      <td>0.0</td>\n",
       "      <td>1.0</td>\n",
       "    </tr>\n",
       "    <tr>\n",
       "      <th>1571</th>\n",
       "      <td>0.548298</td>\n",
       "      <td>0.048287</td>\n",
       "      <td>-0.388558</td>\n",
       "      <td>0.0</td>\n",
       "      <td>0.0</td>\n",
       "      <td>1.0</td>\n",
       "    </tr>\n",
       "  </tbody>\n",
       "</table>\n",
       "</div>"
      ],
      "text/plain": [
       "      days_since_first_purchase  number_of_prior_year_transactions  \\\n",
       "2632                   0.146004                           0.764704   \n",
       "1571                   0.548298                           0.048287   \n",
       "\n",
       "      historical_sales_volume  monitor  standard_chair  office_supplies  \n",
       "2632                 0.406579      0.0             0.0              1.0  \n",
       "1571                -0.388558      0.0             0.0              1.0  "
      ]
     },
     "execution_count": 118,
     "metadata": {},
     "output_type": "execute_result"
    }
   ],
   "source": [
    "# features with importance score\n",
    "imp_feat = ['days_since_first_purchase', 'number_of_prior_year_transactions', 'historical_sales_volume', 'monitor',\n",
    "            'standard_chair', 'office_supplies',]\n",
    "X_train_prepared_f = X_train_prepared[imp_feat]\n",
    "X_test_prepared_f = X_test_prepared[imp_feat]\n",
    "X_train_prepared_f.head(2)"
   ]
  },
  {
   "cell_type": "code",
   "execution_count": 119,
   "metadata": {},
   "outputs": [
    {
     "data": {
      "text/plain": [
       "array([0, 0, 1, ..., 1, 1, 0])"
      ]
     },
     "execution_count": 119,
     "metadata": {},
     "output_type": "execute_result"
    }
   ],
   "source": [
    "model3_rfc = RandomForestClassifier(criterion='entropy', max_depth= 14, min_samples_split= 16, n_estimators= 400)\n",
    "model3_rfc.fit(X_train_prepared_f, y_train_class)\n",
    "model3_rfc_preds = model3_rfc.predict(X_train_prepared_f)\n",
    "model3_rfc_preds"
   ]
  },
  {
   "cell_type": "code",
   "execution_count": 120,
   "metadata": {},
   "outputs": [
    {
     "name": "stdout",
     "output_type": "stream",
     "text": [
      "Score train set:\t 0.8849863962404155\n",
      "Score test set:\t\t 0.8650754390304229\n",
      "\n",
      "Cross val score:\t [0.86959209 0.86580087 0.85776129 0.85405071 0.86209029]\n",
      "Cross val precision:\t [0.77912621 0.79002625 0.77777778 0.74876847 0.79132791]\n",
      "\n"
     ]
    }
   ],
   "source": [
    "print(f\"Score train set:\\t { model3_rfc.score(X_train_prepared_f, y_train_class) }\")\n",
    "print(f\"Score test set:\\t\\t { model3_rfc.score(X_test_prepared_f, y_test_class) }\\n\")\n",
    "print(f\"Cross val score:\\t { cross_val_score(model3_rfc, X_train_prepared_f, y_train_class, cv=5)}\")\n",
    "print(f\"Cross val precision:\\t { cross_val_score(model3_rfc, X_train_prepared_f, y_train_class, cv=5, scoring='precision') }\\n\")"
   ]
  },
  {
   "cell_type": "code",
   "execution_count": 121,
   "metadata": {},
   "outputs": [
    {
     "name": "stdout",
     "output_type": "stream",
     "text": [
      "Class Report:\n",
      "               precision    recall  f1-score   support\n",
      "\n",
      "           0       0.90      0.94      0.92      5899\n",
      "           1       0.82      0.73      0.77      2187\n",
      "\n",
      "    accuracy                           0.88      8086\n",
      "   macro avg       0.86      0.84      0.85      8086\n",
      "weighted avg       0.88      0.88      0.88      8086\n",
      "\n"
     ]
    }
   ],
   "source": [
    "print(f\"Class Report:\\n {classification_report(y_train_class, model3_rfc_preds)}\")"
   ]
  },
  {
   "cell_type": "markdown",
   "metadata": {},
   "source": [
    "### Best model: RandomForestClassifier (model2_rfc) [Score = 0.86, Precision = 0.9]"
   ]
  },
  {
   "cell_type": "code",
   "execution_count": 122,
   "metadata": {},
   "outputs": [
    {
     "data": {
      "text/html": [
       "<div>\n",
       "<style scoped>\n",
       "    .dataframe tbody tr th:only-of-type {\n",
       "        vertical-align: middle;\n",
       "    }\n",
       "\n",
       "    .dataframe tbody tr th {\n",
       "        vertical-align: top;\n",
       "    }\n",
       "\n",
       "    .dataframe thead th {\n",
       "        text-align: right;\n",
       "    }\n",
       "</style>\n",
       "<table border=\"1\" class=\"dataframe\">\n",
       "  <thead>\n",
       "    <tr style=\"text-align: right;\">\n",
       "      <th></th>\n",
       "      <th>Actual</th>\n",
       "      <th>Predicted</th>\n",
       "    </tr>\n",
       "  </thead>\n",
       "  <tbody>\n",
       "    <tr>\n",
       "      <th>5263</th>\n",
       "      <td>0</td>\n",
       "      <td>0</td>\n",
       "    </tr>\n",
       "    <tr>\n",
       "      <th>11766</th>\n",
       "      <td>1</td>\n",
       "      <td>1</td>\n",
       "    </tr>\n",
       "    <tr>\n",
       "      <th>5319</th>\n",
       "      <td>0</td>\n",
       "      <td>0</td>\n",
       "    </tr>\n",
       "    <tr>\n",
       "      <th>4807</th>\n",
       "      <td>0</td>\n",
       "      <td>0</td>\n",
       "    </tr>\n",
       "    <tr>\n",
       "      <th>7311</th>\n",
       "      <td>1</td>\n",
       "      <td>1</td>\n",
       "    </tr>\n",
       "    <tr>\n",
       "      <th>...</th>\n",
       "      <td>...</td>\n",
       "      <td>...</td>\n",
       "    </tr>\n",
       "    <tr>\n",
       "      <th>4387</th>\n",
       "      <td>1</td>\n",
       "      <td>1</td>\n",
       "    </tr>\n",
       "    <tr>\n",
       "      <th>15942</th>\n",
       "      <td>0</td>\n",
       "      <td>0</td>\n",
       "    </tr>\n",
       "    <tr>\n",
       "      <th>1281</th>\n",
       "      <td>0</td>\n",
       "      <td>0</td>\n",
       "    </tr>\n",
       "    <tr>\n",
       "      <th>780</th>\n",
       "      <td>0</td>\n",
       "      <td>0</td>\n",
       "    </tr>\n",
       "    <tr>\n",
       "      <th>1334</th>\n",
       "      <td>0</td>\n",
       "      <td>0</td>\n",
       "    </tr>\n",
       "  </tbody>\n",
       "</table>\n",
       "<p>8086 rows × 2 columns</p>\n",
       "</div>"
      ],
      "text/plain": [
       "       Actual  Predicted\n",
       "5263        0          0\n",
       "11766       1          1\n",
       "5319        0          0\n",
       "4807        0          0\n",
       "7311        1          1\n",
       "...       ...        ...\n",
       "4387        1          1\n",
       "15942       0          0\n",
       "1281        0          0\n",
       "780         0          0\n",
       "1334        0          0\n",
       "\n",
       "[8086 rows x 2 columns]"
      ]
     },
     "execution_count": 122,
     "metadata": {},
     "output_type": "execute_result"
    }
   ],
   "source": [
    "model2_rfc_preds_test = model2_rfc.predict(X_test_prepared)\n",
    "compare_classification_result = pd.DataFrame({'Actual': y_test_class, 'Predicted': model2_rfc_preds_test})\n",
    "compare_classification_result"
   ]
  },
  {
   "cell_type": "code",
   "execution_count": 123,
   "metadata": {},
   "outputs": [
    {
     "data": {
      "text/plain": [
       "<matplotlib.axes._subplots.AxesSubplot at 0x297039b85c8>"
      ]
     },
     "execution_count": 123,
     "metadata": {},
     "output_type": "execute_result"
    },
    {
     "data": {
      "image/png": "[encoded data removed]",
      "text/plain": [
       "<Figure size 432x288 with 1 Axes>"
      ]
     },
     "metadata": {
      "needs_background": "light"
     },
     "output_type": "display_data"
    }
   ],
   "source": [
    "compare_classification_result.head(30).plot(kind='bar')"
   ]
  },
  {
   "cell_type": "markdown",
   "metadata": {},
   "source": [
    "## Create first model (regressor)"
   ]
  },
  {
   "cell_type": "code",
   "execution_count": 124,
   "metadata": {},
   "outputs": [],
   "source": [
    "from sklearn.tree import DecisionTreeRegressor\n",
    "from sklearn.metrics import mean_squared_error, r2_score"
   ]
  },
  {
   "cell_type": "code",
   "execution_count": 125,
   "metadata": {},
   "outputs": [
    {
     "data": {
      "text/plain": [
       "DecisionTreeRegressor(ccp_alpha=0.0, criterion='mse', max_depth=20,\n",
       "                      max_features=None, max_leaf_nodes=None,\n",
       "                      min_impurity_decrease=0.0, min_impurity_split=None,\n",
       "                      min_samples_leaf=1, min_samples_split=2,\n",
       "                      min_weight_fraction_leaf=0.0, presort='deprecated',\n",
       "                      random_state=None, splitter='best')"
      ]
     },
     "execution_count": 125,
     "metadata": {},
     "output_type": "execute_result"
    }
   ],
   "source": [
    "model1_dtreg = DecisionTreeRegressor(max_depth=20)\n",
    "model1_dtreg.fit(X_train_prepared, y_train)"
   ]
  },
  {
   "cell_type": "code",
   "execution_count": 126,
   "metadata": {},
   "outputs": [],
   "source": [
    "model1_dtreg_preds = model1_dtreg.predict(X_train_prepared)\n",
    "model1_dtreg_preds_test = model1_dtreg.predict(X_test_prepared)"
   ]
  },
  {
   "cell_type": "code",
   "execution_count": 127,
   "metadata": {},
   "outputs": [],
   "source": [
    "def evaluate_performance_regression(model, preds, preds_test):\n",
    "    print(f\"RMSE train:\\t {mean_squared_error(y_train, preds, squared=False)}\")\n",
    "    print(f\"R2 train:\\t {r2_score(y_train, preds)}\\n\")\n",
    "    print(f\"Cross val RMSE(mean) train:\\t {np.sqrt(abs(cross_val_score(model, X_train_prepared, y_train, cv=5, scoring='neg_mean_squared_error').mean()))}\\n\")\n",
    "    print(f\"RMSE test:\\t {mean_squared_error(y_test, preds_test, squared=False)}\")\n",
    "    print(f\"R2 test:\\t {r2_score(y_test, preds_test)}\\n\")"
   ]
  },
  {
   "cell_type": "code",
   "execution_count": 128,
   "metadata": {},
   "outputs": [
    {
     "name": "stdout",
     "output_type": "stream",
     "text": [
      "RMSE train:\t 90.98228854754913\n",
      "R2 train:\t 0.9848069799193967\n",
      "\n",
      "Cross val RMSE(mean) train:\t 737.8163516674722\n",
      "\n",
      "RMSE test:\t 644.5603692898833\n",
      "R2 test:\t 0.15652135470437933\n",
      "\n"
     ]
    }
   ],
   "source": [
    "evaluate_performance_regression(model1_dtreg, model1_dtreg_preds, model1_dtreg_preds_test)"
   ]
  },
  {
   "cell_type": "markdown",
   "metadata": {},
   "source": [
    "#### Hypertuning parameters"
   ]
  },
  {
   "cell_type": "code",
   "execution_count": 129,
   "metadata": {},
   "outputs": [],
   "source": [
    "param_grid_reg = {\n",
    "    'max_depth': list(range(2,20)),\n",
    "    'min_samples_split': list(range(2,20))\n",
    "}\n",
    "model1_reg_rs = DecisionTreeRegressor()"
   ]
  },
  {
   "cell_type": "code",
   "execution_count": 130,
   "metadata": {},
   "outputs": [
    {
     "data": {
      "text/plain": [
       "RandomizedSearchCV(cv=5, error_score=nan,\n",
       "                   estimator=DecisionTreeRegressor(ccp_alpha=0.0,\n",
       "                                                   criterion='mse',\n",
       "                                                   max_depth=None,\n",
       "                                                   max_features=None,\n",
       "                                                   max_leaf_nodes=None,\n",
       "                                                   min_impurity_decrease=0.0,\n",
       "                                                   min_impurity_split=None,\n",
       "                                                   min_samples_leaf=1,\n",
       "                                                   min_samples_split=2,\n",
       "                                                   min_weight_fraction_leaf=0.0,\n",
       "                                                   presort='deprecated',\n",
       "                                                   random_state=None,\n",
       "                                                   splitter='best'),\n",
       "                   iid='deprecated', n_iter=10, n_jobs=-1,\n",
       "                   param_distributions={'max_depth': [2, 3, 4, 5, 6, 7, 8, 9,\n",
       "                                                      10, 11, 12, 13, 14, 15,\n",
       "                                                      16, 17, 18, 19],\n",
       "                                        'min_samples_split': [2, 3, 4, 5, 6, 7,\n",
       "                                                              8, 9, 10, 11, 12,\n",
       "                                                              13, 14, 15, 16,\n",
       "                                                              17, 18, 19]},\n",
       "                   pre_dispatch='2*n_jobs', random_state=24, refit=True,\n",
       "                   return_train_score=False, scoring=None, verbose=0)"
      ]
     },
     "execution_count": 130,
     "metadata": {},
     "output_type": "execute_result"
    }
   ],
   "source": [
    "rs_reg = RandomizedSearchCV(model1_reg_rs, param_grid_reg, n_jobs=-1, cv=5, random_state=24)\n",
    "rs_reg.fit(X_train_prepared, y_train)"
   ]
  },
  {
   "cell_type": "code",
   "execution_count": 131,
   "metadata": {},
   "outputs": [
    {
     "data": {
      "text/plain": [
       "{'min_samples_split': 17, 'max_depth': 7}"
      ]
     },
     "execution_count": 131,
     "metadata": {},
     "output_type": "execute_result"
    }
   ],
   "source": [
    "rs_reg.best_params_"
   ]
  },
  {
   "cell_type": "code",
   "execution_count": 132,
   "metadata": {},
   "outputs": [
    {
     "data": {
      "text/plain": [
       "DecisionTreeRegressor(ccp_alpha=0.0, criterion='mse', max_depth=7,\n",
       "                      max_features=None, max_leaf_nodes=None,\n",
       "                      min_impurity_decrease=0.0, min_impurity_split=None,\n",
       "                      min_samples_leaf=1, min_samples_split=17,\n",
       "                      min_weight_fraction_leaf=0.0, presort='deprecated',\n",
       "                      random_state=24, splitter='best')"
      ]
     },
     "execution_count": 132,
     "metadata": {},
     "output_type": "execute_result"
    }
   ],
   "source": [
    "model2_dtreg = DecisionTreeRegressor(max_depth=7, min_samples_split=17, random_state=24)\n",
    "model2_dtreg.fit(X_train_prepared, y_train)"
   ]
  },
  {
   "cell_type": "code",
   "execution_count": 133,
   "metadata": {},
   "outputs": [],
   "source": [
    "model2_dtreg_preds = model2_dtreg.predict(X_train_prepared)\n",
    "model2_dtreg_preds_test = model2_dtreg.predict(X_test_prepared)"
   ]
  },
  {
   "cell_type": "code",
   "execution_count": 134,
   "metadata": {},
   "outputs": [
    {
     "name": "stdout",
     "output_type": "stream",
     "text": [
      "RMSE train:\t 497.1649127521564\n",
      "R2 train:\t 0.5463391104497765\n",
      "\n",
      "Cross val RMSE(mean) train:\t 614.5852287067268\n",
      "\n",
      "RMSE test:\t 538.3891639959193\n",
      "R2 test:\t 0.41150942238568\n",
      "\n"
     ]
    }
   ],
   "source": [
    "evaluate_performance_regression(model2_dtreg, model2_dtreg_preds, model2_dtreg_preds_test)"
   ]
  },
  {
   "cell_type": "code",
   "execution_count": 135,
   "metadata": {},
   "outputs": [
    {
     "name": "stdout",
     "output_type": "stream",
     "text": [
      "RMSE train:\t 614.4394533855077\n",
      "R2 train:\t 0.3070712408623071\n",
      "\n",
      "Cross val RMSE(mean) train:\t 338755853037.6401\n",
      "\n",
      "RMSE test:\t 587.638562410776\n",
      "R2 test:\t 0.2989201772894108\n",
      "\n"
     ]
    }
   ],
   "source": [
    "# comparing to LinearRegression\n",
    "from sklearn.linear_model import LinearRegression\n",
    "model3_linreg = LinearRegression()\n",
    "model3_linreg.fit(X_train_prepared, y_train)\n",
    "\n",
    "model3_linreg_preds = model3_linreg.predict(X_train_prepared)\n",
    "model3_linreg_preds_test = model3_linreg.predict(X_test_prepared)\n",
    "\n",
    "evaluate_performance_regression(model3_linreg, model3_linreg_preds, model3_linreg_preds_test)"
   ]
  },
  {
   "cell_type": "markdown",
   "metadata": {},
   "source": [
    "Best model for regression so far: DecisionTreeRegressor but not enough score"
   ]
  },
  {
   "cell_type": "markdown",
   "metadata": {},
   "source": [
    "#### Selecting important features"
   ]
  },
  {
   "cell_type": "code",
   "execution_count": 136,
   "metadata": {},
   "outputs": [
    {
     "data": {
      "text/html": [
       "<div>\n",
       "<style scoped>\n",
       "    .dataframe tbody tr th:only-of-type {\n",
       "        vertical-align: middle;\n",
       "    }\n",
       "\n",
       "    .dataframe tbody tr th {\n",
       "        vertical-align: top;\n",
       "    }\n",
       "\n",
       "    .dataframe thead th {\n",
       "        text-align: right;\n",
       "    }\n",
       "</style>\n",
       "<table border=\"1\" class=\"dataframe\">\n",
       "  <thead>\n",
       "    <tr style=\"text-align: right;\">\n",
       "      <th></th>\n",
       "      <th>Feature</th>\n",
       "      <th>Coef. Importance</th>\n",
       "    </tr>\n",
       "  </thead>\n",
       "  <tbody>\n",
       "    <tr>\n",
       "      <th>6</th>\n",
       "      <td>monitor</td>\n",
       "      <td>0.2686</td>\n",
       "    </tr>\n",
       "    <tr>\n",
       "      <th>2</th>\n",
       "      <td>days_since_first_purchase</td>\n",
       "      <td>0.1911</td>\n",
       "    </tr>\n",
       "    <tr>\n",
       "      <th>1</th>\n",
       "      <td>number_of_prior_year_transactions</td>\n",
       "      <td>0.1901</td>\n",
       "    </tr>\n",
       "    <tr>\n",
       "      <th>11</th>\n",
       "      <td>office_supplies</td>\n",
       "      <td>0.1104</td>\n",
       "    </tr>\n",
       "    <tr>\n",
       "      <th>28</th>\n",
       "      <td>number_of_employees_6-10</td>\n",
       "      <td>0.0657</td>\n",
       "    </tr>\n",
       "    <tr>\n",
       "      <th>0</th>\n",
       "      <td>historical_sales_volume</td>\n",
       "      <td>0.0513</td>\n",
       "    </tr>\n",
       "    <tr>\n",
       "      <th>12</th>\n",
       "      <td>repurchase_method_AUTO RENEW</td>\n",
       "      <td>0.0444</td>\n",
       "    </tr>\n",
       "    <tr>\n",
       "      <th>13</th>\n",
       "      <td>repurchase_method_NOTICE</td>\n",
       "      <td>0.0294</td>\n",
       "    </tr>\n",
       "    <tr>\n",
       "      <th>5</th>\n",
       "      <td>standard_chair</td>\n",
       "      <td>0.0265</td>\n",
       "    </tr>\n",
       "    <tr>\n",
       "      <th>8</th>\n",
       "      <td>computer</td>\n",
       "      <td>0.0110</td>\n",
       "    </tr>\n",
       "    <tr>\n",
       "      <th>26</th>\n",
       "      <td>number_of_employees_500+</td>\n",
       "      <td>0.0075</td>\n",
       "    </tr>\n",
       "    <tr>\n",
       "      <th>7</th>\n",
       "      <td>printer</td>\n",
       "      <td>0.0023</td>\n",
       "    </tr>\n",
       "    <tr>\n",
       "      <th>24</th>\n",
       "      <td>number_of_employees_101-500</td>\n",
       "      <td>0.0014</td>\n",
       "    </tr>\n",
       "    <tr>\n",
       "      <th>4</th>\n",
       "      <td>executive_chair</td>\n",
       "      <td>0.0004</td>\n",
       "    </tr>\n",
       "    <tr>\n",
       "      <th>35</th>\n",
       "      <td>language_Hebrew</td>\n",
       "      <td>0.0000</td>\n",
       "    </tr>\n",
       "    <tr>\n",
       "      <th>31</th>\n",
       "      <td>language_English</td>\n",
       "      <td>0.0000</td>\n",
       "    </tr>\n",
       "    <tr>\n",
       "      <th>32</th>\n",
       "      <td>language_French</td>\n",
       "      <td>0.0000</td>\n",
       "    </tr>\n",
       "    <tr>\n",
       "      <th>44</th>\n",
       "      <td>language_Spanish</td>\n",
       "      <td>0.0000</td>\n",
       "    </tr>\n",
       "    <tr>\n",
       "      <th>33</th>\n",
       "      <td>language_German</td>\n",
       "      <td>0.0000</td>\n",
       "    </tr>\n",
       "    <tr>\n",
       "      <th>34</th>\n",
       "      <td>language_Greek</td>\n",
       "      <td>0.0000</td>\n",
       "    </tr>\n",
       "    <tr>\n",
       "      <th>38</th>\n",
       "      <td>language_Japanese</td>\n",
       "      <td>0.0000</td>\n",
       "    </tr>\n",
       "    <tr>\n",
       "      <th>36</th>\n",
       "      <td>language_Hindi</td>\n",
       "      <td>0.0000</td>\n",
       "    </tr>\n",
       "    <tr>\n",
       "      <th>37</th>\n",
       "      <td>language_Italian</td>\n",
       "      <td>0.0000</td>\n",
       "    </tr>\n",
       "    <tr>\n",
       "      <th>39</th>\n",
       "      <td>language_Korean</td>\n",
       "      <td>0.0000</td>\n",
       "    </tr>\n",
       "    <tr>\n",
       "      <th>40</th>\n",
       "      <td>language_Pashto</td>\n",
       "      <td>0.0000</td>\n",
       "    </tr>\n",
       "    <tr>\n",
       "      <th>30</th>\n",
       "      <td>language_Chinese</td>\n",
       "      <td>0.0000</td>\n",
       "    </tr>\n",
       "    <tr>\n",
       "      <th>42</th>\n",
       "      <td>language_Portuguese</td>\n",
       "      <td>0.0000</td>\n",
       "    </tr>\n",
       "    <tr>\n",
       "      <th>43</th>\n",
       "      <td>language_Russian</td>\n",
       "      <td>0.0000</td>\n",
       "    </tr>\n",
       "    <tr>\n",
       "      <th>41</th>\n",
       "      <td>language_Polish</td>\n",
       "      <td>0.0000</td>\n",
       "    </tr>\n",
       "    <tr>\n",
       "      <th>23</th>\n",
       "      <td>number_of_employees_1-5</td>\n",
       "      <td>0.0000</td>\n",
       "    </tr>\n",
       "    <tr>\n",
       "      <th>29</th>\n",
       "      <td>language_Arabic</td>\n",
       "      <td>0.0000</td>\n",
       "    </tr>\n",
       "    <tr>\n",
       "      <th>27</th>\n",
       "      <td>number_of_employees_51-100</td>\n",
       "      <td>0.0000</td>\n",
       "    </tr>\n",
       "    <tr>\n",
       "      <th>25</th>\n",
       "      <td>number_of_employees_11-50</td>\n",
       "      <td>0.0000</td>\n",
       "    </tr>\n",
       "    <tr>\n",
       "      <th>22</th>\n",
       "      <td>last_transaction_channel_WEB</td>\n",
       "      <td>0.0000</td>\n",
       "    </tr>\n",
       "    <tr>\n",
       "      <th>21</th>\n",
       "      <td>last_transaction_channel_PHONE</td>\n",
       "      <td>0.0000</td>\n",
       "    </tr>\n",
       "    <tr>\n",
       "      <th>20</th>\n",
       "      <td>last_transaction_channel_MAIL</td>\n",
       "      <td>0.0000</td>\n",
       "    </tr>\n",
       "    <tr>\n",
       "      <th>19</th>\n",
       "      <td>last_transaction_channel_IT</td>\n",
       "      <td>0.0000</td>\n",
       "    </tr>\n",
       "    <tr>\n",
       "      <th>18</th>\n",
       "      <td>last_transaction_channel_BRANCH (POS)</td>\n",
       "      <td>0.0000</td>\n",
       "    </tr>\n",
       "    <tr>\n",
       "      <th>17</th>\n",
       "      <td>last_transaction_channel_BRANCH (PHONE)</td>\n",
       "      <td>0.0000</td>\n",
       "    </tr>\n",
       "    <tr>\n",
       "      <th>16</th>\n",
       "      <td>last_transaction_channel_BILLING</td>\n",
       "      <td>0.0000</td>\n",
       "    </tr>\n",
       "    <tr>\n",
       "      <th>15</th>\n",
       "      <td>last_transaction_channel_AUTO RENEW</td>\n",
       "      <td>0.0000</td>\n",
       "    </tr>\n",
       "    <tr>\n",
       "      <th>14</th>\n",
       "      <td>repurchase_method_PAYMENT PLAN</td>\n",
       "      <td>0.0000</td>\n",
       "    </tr>\n",
       "    <tr>\n",
       "      <th>10</th>\n",
       "      <td>toner</td>\n",
       "      <td>0.0000</td>\n",
       "    </tr>\n",
       "    <tr>\n",
       "      <th>9</th>\n",
       "      <td>insurance</td>\n",
       "      <td>0.0000</td>\n",
       "    </tr>\n",
       "    <tr>\n",
       "      <th>3</th>\n",
       "      <td>desk</td>\n",
       "      <td>0.0000</td>\n",
       "    </tr>\n",
       "    <tr>\n",
       "      <th>45</th>\n",
       "      <td>language_Vietnamese</td>\n",
       "      <td>0.0000</td>\n",
       "    </tr>\n",
       "  </tbody>\n",
       "</table>\n",
       "</div>"
      ],
      "text/plain": [
       "                                    Feature  Coef. Importance\n",
       "6                                   monitor            0.2686\n",
       "2                 days_since_first_purchase            0.1911\n",
       "1         number_of_prior_year_transactions            0.1901\n",
       "11                          office_supplies            0.1104\n",
       "28                 number_of_employees_6-10            0.0657\n",
       "0                   historical_sales_volume            0.0513\n",
       "12             repurchase_method_AUTO RENEW            0.0444\n",
       "13                 repurchase_method_NOTICE            0.0294\n",
       "5                            standard_chair            0.0265\n",
       "8                                  computer            0.0110\n",
       "26                 number_of_employees_500+            0.0075\n",
       "7                                   printer            0.0023\n",
       "24              number_of_employees_101-500            0.0014\n",
       "4                           executive_chair            0.0004\n",
       "35                          language_Hebrew            0.0000\n",
       "31                         language_English            0.0000\n",
       "32                          language_French            0.0000\n",
       "44                         language_Spanish            0.0000\n",
       "33                          language_German            0.0000\n",
       "34                           language_Greek            0.0000\n",
       "38                        language_Japanese            0.0000\n",
       "36                           language_Hindi            0.0000\n",
       "37                         language_Italian            0.0000\n",
       "39                          language_Korean            0.0000\n",
       "40                          language_Pashto            0.0000\n",
       "30                         language_Chinese            0.0000\n",
       "42                      language_Portuguese            0.0000\n",
       "43                         language_Russian            0.0000\n",
       "41                          language_Polish            0.0000\n",
       "23                  number_of_employees_1-5            0.0000\n",
       "29                          language_Arabic            0.0000\n",
       "27               number_of_employees_51-100            0.0000\n",
       "25                number_of_employees_11-50            0.0000\n",
       "22             last_transaction_channel_WEB            0.0000\n",
       "21           last_transaction_channel_PHONE            0.0000\n",
       "20            last_transaction_channel_MAIL            0.0000\n",
       "19              last_transaction_channel_IT            0.0000\n",
       "18    last_transaction_channel_BRANCH (POS)            0.0000\n",
       "17  last_transaction_channel_BRANCH (PHONE)            0.0000\n",
       "16         last_transaction_channel_BILLING            0.0000\n",
       "15      last_transaction_channel_AUTO RENEW            0.0000\n",
       "14           repurchase_method_PAYMENT PLAN            0.0000\n",
       "10                                    toner            0.0000\n",
       "9                                 insurance            0.0000\n",
       "3                                      desk            0.0000\n",
       "45                      language_Vietnamese            0.0000"
      ]
     },
     "execution_count": 136,
     "metadata": {},
     "output_type": "execute_result"
    }
   ],
   "source": [
    "get_feat_imp(X_train_prepared, model2_dtreg)"
   ]
  },
  {
   "cell_type": "code",
   "execution_count": 137,
   "metadata": {},
   "outputs": [],
   "source": [
    "imp_feat_reg = ['monitor', 'days_since_first_purchase', 'number_of_prior_year_transactions', 'office_supplies', \n",
    "                'number_of_employees_6-10', 'repurchase_method_NOTICE', 'historical_sales_volume', 'standard_chair', \n",
    "                'computer', 'repurchase_method_AUTO RENEW',]"
   ]
  },
  {
   "cell_type": "code",
   "execution_count": 138,
   "metadata": {},
   "outputs": [
    {
     "data": {
      "text/html": [
       "<div>\n",
       "<style scoped>\n",
       "    .dataframe tbody tr th:only-of-type {\n",
       "        vertical-align: middle;\n",
       "    }\n",
       "\n",
       "    .dataframe tbody tr th {\n",
       "        vertical-align: top;\n",
       "    }\n",
       "\n",
       "    .dataframe thead th {\n",
       "        text-align: right;\n",
       "    }\n",
       "</style>\n",
       "<table border=\"1\" class=\"dataframe\">\n",
       "  <thead>\n",
       "    <tr style=\"text-align: right;\">\n",
       "      <th></th>\n",
       "      <th>monitor</th>\n",
       "      <th>days_since_first_purchase</th>\n",
       "      <th>number_of_prior_year_transactions</th>\n",
       "      <th>office_supplies</th>\n",
       "      <th>number_of_employees_6-10</th>\n",
       "      <th>repurchase_method_NOTICE</th>\n",
       "      <th>historical_sales_volume</th>\n",
       "      <th>standard_chair</th>\n",
       "      <th>computer</th>\n",
       "      <th>repurchase_method_AUTO RENEW</th>\n",
       "    </tr>\n",
       "  </thead>\n",
       "  <tbody>\n",
       "    <tr>\n",
       "      <th>5263</th>\n",
       "      <td>0.0</td>\n",
       "      <td>-0.389550</td>\n",
       "      <td>0.287093</td>\n",
       "      <td>1.0</td>\n",
       "      <td>1.0</td>\n",
       "      <td>0.0</td>\n",
       "      <td>-0.569459</td>\n",
       "      <td>0.0</td>\n",
       "      <td>0.0</td>\n",
       "      <td>1.0</td>\n",
       "    </tr>\n",
       "    <tr>\n",
       "      <th>11766</th>\n",
       "      <td>0.0</td>\n",
       "      <td>-0.076264</td>\n",
       "      <td>0.525899</td>\n",
       "      <td>1.0</td>\n",
       "      <td>0.0</td>\n",
       "      <td>1.0</td>\n",
       "      <td>-0.498402</td>\n",
       "      <td>0.0</td>\n",
       "      <td>0.0</td>\n",
       "      <td>0.0</td>\n",
       "    </tr>\n",
       "  </tbody>\n",
       "</table>\n",
       "</div>"
      ],
      "text/plain": [
       "       monitor  days_since_first_purchase  number_of_prior_year_transactions  \\\n",
       "5263       0.0                  -0.389550                           0.287093   \n",
       "11766      0.0                  -0.076264                           0.525899   \n",
       "\n",
       "       office_supplies  number_of_employees_6-10  repurchase_method_NOTICE  \\\n",
       "5263               1.0                       1.0                       0.0   \n",
       "11766              1.0                       0.0                       1.0   \n",
       "\n",
       "       historical_sales_volume  standard_chair  computer  \\\n",
       "5263                 -0.569459             0.0       0.0   \n",
       "11766                -0.498402             0.0       0.0   \n",
       "\n",
       "       repurchase_method_AUTO RENEW  \n",
       "5263                            1.0  \n",
       "11766                           0.0  "
      ]
     },
     "execution_count": 138,
     "metadata": {},
     "output_type": "execute_result"
    }
   ],
   "source": [
    "X_train_prepared_freg = X_train_prepared[imp_feat_reg]\n",
    "X_test_prepared_freg = X_test_prepared[imp_feat_reg]\n",
    "X_test_prepared_freg.head(2)"
   ]
  },
  {
   "cell_type": "code",
   "execution_count": 139,
   "metadata": {},
   "outputs": [
    {
     "data": {
      "text/plain": [
       "DecisionTreeRegressor(ccp_alpha=0.0, criterion='mse', max_depth=7,\n",
       "                      max_features=None, max_leaf_nodes=None,\n",
       "                      min_impurity_decrease=0.0, min_impurity_split=None,\n",
       "                      min_samples_leaf=1, min_samples_split=17,\n",
       "                      min_weight_fraction_leaf=0.0, presort='deprecated',\n",
       "                      random_state=24, splitter='best')"
      ]
     },
     "execution_count": 139,
     "metadata": {},
     "output_type": "execute_result"
    }
   ],
   "source": [
    "model3_dtreg = DecisionTreeRegressor(max_depth=7, min_samples_split=17, random_state=24)\n",
    "model3_dtreg.fit(X_train_prepared_freg, y_train)"
   ]
  },
  {
   "cell_type": "code",
   "execution_count": 140,
   "metadata": {},
   "outputs": [],
   "source": [
    "model3_dtreg_preds = model3_dtreg.predict(X_train_prepared_freg)\n",
    "model3_dtreg_preds_test = model3_dtreg.predict(X_test_prepared_freg)"
   ]
  },
  {
   "cell_type": "code",
   "execution_count": 141,
   "metadata": {},
   "outputs": [
    {
     "name": "stdout",
     "output_type": "stream",
     "text": [
      "RMSE train:\t 499.12710672270646\n",
      "R2 train:\t 0.5427510563161122\n",
      "\n",
      "Cross val RMSE(mean) train:\t 614.5852287067268\n",
      "\n",
      "RMSE test:\t 539.386859145085\n",
      "R2 test:\t 0.40932632418653814\n",
      "\n"
     ]
    }
   ],
   "source": [
    "evaluate_performance_regression(model3_dtreg, model3_dtreg_preds, model3_dtreg_preds_test)"
   ]
  },
  {
   "cell_type": "markdown",
   "metadata": {},
   "source": [
    "### Implement Ensemble Methods to try to improve performance in models (Regressors)"
   ]
  },
  {
   "cell_type": "code",
   "execution_count": 142,
   "metadata": {},
   "outputs": [
    {
     "data": {
      "text/plain": [
       "RandomForestRegressor(bootstrap=True, ccp_alpha=0.0, criterion='mse',\n",
       "                      max_depth=None, max_features='auto', max_leaf_nodes=None,\n",
       "                      max_samples=None, min_impurity_decrease=0.0,\n",
       "                      min_impurity_split=None, min_samples_leaf=1,\n",
       "                      min_samples_split=2, min_weight_fraction_leaf=0.0,\n",
       "                      n_estimators=100, n_jobs=None, oob_score=False,\n",
       "                      random_state=None, verbose=0, warm_start=False)"
      ]
     },
     "execution_count": 142,
     "metadata": {},
     "output_type": "execute_result"
    }
   ],
   "source": [
    "from sklearn.ensemble import RandomForestRegressor\n",
    "model1_rfr = RandomForestRegressor()\n",
    "model1_rfr.fit(X_train_prepared, y_train)"
   ]
  },
  {
   "cell_type": "code",
   "execution_count": 143,
   "metadata": {},
   "outputs": [],
   "source": [
    "model1_rfr_preds = model1_rfr.predict(X_train_prepared)\n",
    "model1_rfr_preds_test = model1_rfr.predict(X_test_prepared)"
   ]
  },
  {
   "cell_type": "code",
   "execution_count": 144,
   "metadata": {},
   "outputs": [
    {
     "name": "stdout",
     "output_type": "stream",
     "text": [
      "RMSE train:\t 193.45944796603206\n",
      "R2 train:\t 0.9313073474828398\n",
      "\n",
      "Cross val RMSE(mean) train:\t 527.6107042452026\n",
      "\n",
      "RMSE test:\t 484.9838246536221\n",
      "R2 test:\t 0.5224691857094885\n",
      "\n"
     ]
    }
   ],
   "source": [
    "evaluate_performance_regression(model1_rfr, model1_rfr_preds, model1_rfr_preds_test)"
   ]
  },
  {
   "cell_type": "code",
   "execution_count": 145,
   "metadata": {},
   "outputs": [],
   "source": [
    "param_grid_rfr = {\n",
    "    'max_depth': [12, 13, 14],\n",
    "    'min_samples_split': [5, 6, 7],\n",
    "    'n_estimators': [200, 300, 400],\n",
    "    'max_features': [17, 18, 19, 20]\n",
    "}\n",
    "model1_rfr_rs = RandomForestRegressor()"
   ]
  },
  {
   "cell_type": "code",
   "execution_count": 146,
   "metadata": {},
   "outputs": [
    {
     "data": {
      "text/plain": [
       "RandomizedSearchCV(cv=5, error_score=nan,\n",
       "                   estimator=RandomForestRegressor(bootstrap=True,\n",
       "                                                   ccp_alpha=0.0,\n",
       "                                                   criterion='mse',\n",
       "                                                   max_depth=None,\n",
       "                                                   max_features='auto',\n",
       "                                                   max_leaf_nodes=None,\n",
       "                                                   max_samples=None,\n",
       "                                                   min_impurity_decrease=0.0,\n",
       "                                                   min_impurity_split=None,\n",
       "                                                   min_samples_leaf=1,\n",
       "                                                   min_samples_split=2,\n",
       "                                                   min_weight_fraction_leaf=0.0,\n",
       "                                                   n_estimators=100,\n",
       "                                                   n_jobs=None, oob_score=False,\n",
       "                                                   random_state=None, verbose=0,\n",
       "                                                   warm_start=False),\n",
       "                   iid='deprecated', n_iter=10, n_jobs=-1,\n",
       "                   param_distributions={'max_depth': [12, 13, 14],\n",
       "                                        'max_features': [17, 18, 19, 20],\n",
       "                                        'min_samples_split': [5, 6, 7],\n",
       "                                        'n_estimators': [200, 300, 400]},\n",
       "                   pre_dispatch='2*n_jobs', random_state=24, refit=True,\n",
       "                   return_train_score=False, scoring=None, verbose=0)"
      ]
     },
     "execution_count": 146,
     "metadata": {},
     "output_type": "execute_result"
    }
   ],
   "source": [
    "rfr_rs = RandomizedSearchCV(model1_rfr_rs, param_grid_rfr, n_jobs=-1, cv=5, random_state=24)\n",
    "rfr_rs.fit(X_train_prepared, y_train)"
   ]
  },
  {
   "cell_type": "code",
   "execution_count": 147,
   "metadata": {},
   "outputs": [
    {
     "data": {
      "text/plain": [
       "{'n_estimators': 200,\n",
       " 'min_samples_split': 6,\n",
       " 'max_features': 19,\n",
       " 'max_depth': 14}"
      ]
     },
     "execution_count": 147,
     "metadata": {},
     "output_type": "execute_result"
    }
   ],
   "source": [
    "rfr_rs.best_params_"
   ]
  },
  {
   "cell_type": "code",
   "execution_count": 148,
   "metadata": {},
   "outputs": [],
   "source": [
    "model2_rfr = RandomForestRegressor(**rfr_rs.best_params_, random_state=24)\n",
    "model2_rfr.fit(X_train_prepared, y_train)\n",
    "model2_rfr_preds = model2_rfr.predict(X_train_prepared)\n",
    "model2_rfr_preds_test = model2_rfr.predict(X_test_prepared)"
   ]
  },
  {
   "cell_type": "code",
   "execution_count": 149,
   "metadata": {},
   "outputs": [
    {
     "name": "stdout",
     "output_type": "stream",
     "text": [
      "RMSE train:\t 337.44360814345134\n",
      "R2 train:\t 0.7910064848600685\n",
      "\n",
      "Cross val RMSE(mean) train:\t 515.7854109049056\n",
      "\n",
      "RMSE test:\t 474.55482467423855\n",
      "R2 test:\t 0.5427858325738453\n",
      "\n"
     ]
    }
   ],
   "source": [
    "evaluate_performance_regression(model2_rfr, model2_rfr_preds, model2_rfr_preds_test)"
   ]
  },
  {
   "cell_type": "markdown",
   "metadata": {},
   "source": [
    "#### Less MSE and better R2, but could be better"
   ]
  },
  {
   "cell_type": "code",
   "execution_count": 150,
   "metadata": {
    "scrolled": true
   },
   "outputs": [
    {
     "data": {
      "text/html": [
       "<div>\n",
       "<style scoped>\n",
       "    .dataframe tbody tr th:only-of-type {\n",
       "        vertical-align: middle;\n",
       "    }\n",
       "\n",
       "    .dataframe tbody tr th {\n",
       "        vertical-align: top;\n",
       "    }\n",
       "\n",
       "    .dataframe thead th {\n",
       "        text-align: right;\n",
       "    }\n",
       "</style>\n",
       "<table border=\"1\" class=\"dataframe\">\n",
       "  <thead>\n",
       "    <tr style=\"text-align: right;\">\n",
       "      <th></th>\n",
       "      <th>Feature</th>\n",
       "      <th>Coef. Importance</th>\n",
       "    </tr>\n",
       "  </thead>\n",
       "  <tbody>\n",
       "    <tr>\n",
       "      <th>1</th>\n",
       "      <td>number_of_prior_year_transactions</td>\n",
       "      <td>0.2060</td>\n",
       "    </tr>\n",
       "    <tr>\n",
       "      <th>2</th>\n",
       "      <td>days_since_first_purchase</td>\n",
       "      <td>0.2044</td>\n",
       "    </tr>\n",
       "    <tr>\n",
       "      <th>0</th>\n",
       "      <td>historical_sales_volume</td>\n",
       "      <td>0.1139</td>\n",
       "    </tr>\n",
       "    <tr>\n",
       "      <th>11</th>\n",
       "      <td>office_supplies</td>\n",
       "      <td>0.0827</td>\n",
       "    </tr>\n",
       "    <tr>\n",
       "      <th>8</th>\n",
       "      <td>computer</td>\n",
       "      <td>0.0795</td>\n",
       "    </tr>\n",
       "    <tr>\n",
       "      <th>6</th>\n",
       "      <td>monitor</td>\n",
       "      <td>0.0775</td>\n",
       "    </tr>\n",
       "    <tr>\n",
       "      <th>5</th>\n",
       "      <td>standard_chair</td>\n",
       "      <td>0.0515</td>\n",
       "    </tr>\n",
       "    <tr>\n",
       "      <th>28</th>\n",
       "      <td>number_of_employees_6-10</td>\n",
       "      <td>0.0367</td>\n",
       "    </tr>\n",
       "    <tr>\n",
       "      <th>13</th>\n",
       "      <td>repurchase_method_NOTICE</td>\n",
       "      <td>0.0177</td>\n",
       "    </tr>\n",
       "    <tr>\n",
       "      <th>12</th>\n",
       "      <td>repurchase_method_AUTO RENEW</td>\n",
       "      <td>0.0153</td>\n",
       "    </tr>\n",
       "    <tr>\n",
       "      <th>10</th>\n",
       "      <td>toner</td>\n",
       "      <td>0.0125</td>\n",
       "    </tr>\n",
       "    <tr>\n",
       "      <th>7</th>\n",
       "      <td>printer</td>\n",
       "      <td>0.0125</td>\n",
       "    </tr>\n",
       "    <tr>\n",
       "      <th>4</th>\n",
       "      <td>executive_chair</td>\n",
       "      <td>0.0125</td>\n",
       "    </tr>\n",
       "    <tr>\n",
       "      <th>9</th>\n",
       "      <td>insurance</td>\n",
       "      <td>0.0101</td>\n",
       "    </tr>\n",
       "    <tr>\n",
       "      <th>22</th>\n",
       "      <td>last_transaction_channel_WEB</td>\n",
       "      <td>0.0100</td>\n",
       "    </tr>\n",
       "    <tr>\n",
       "      <th>15</th>\n",
       "      <td>last_transaction_channel_AUTO RENEW</td>\n",
       "      <td>0.0096</td>\n",
       "    </tr>\n",
       "    <tr>\n",
       "      <th>20</th>\n",
       "      <td>last_transaction_channel_MAIL</td>\n",
       "      <td>0.0082</td>\n",
       "    </tr>\n",
       "    <tr>\n",
       "      <th>26</th>\n",
       "      <td>number_of_employees_500+</td>\n",
       "      <td>0.0064</td>\n",
       "    </tr>\n",
       "    <tr>\n",
       "      <th>21</th>\n",
       "      <td>last_transaction_channel_PHONE</td>\n",
       "      <td>0.0059</td>\n",
       "    </tr>\n",
       "    <tr>\n",
       "      <th>3</th>\n",
       "      <td>desk</td>\n",
       "      <td>0.0058</td>\n",
       "    </tr>\n",
       "    <tr>\n",
       "      <th>24</th>\n",
       "      <td>number_of_employees_101-500</td>\n",
       "      <td>0.0053</td>\n",
       "    </tr>\n",
       "    <tr>\n",
       "      <th>23</th>\n",
       "      <td>number_of_employees_1-5</td>\n",
       "      <td>0.0036</td>\n",
       "    </tr>\n",
       "    <tr>\n",
       "      <th>19</th>\n",
       "      <td>last_transaction_channel_IT</td>\n",
       "      <td>0.0026</td>\n",
       "    </tr>\n",
       "    <tr>\n",
       "      <th>17</th>\n",
       "      <td>last_transaction_channel_BRANCH (PHONE)</td>\n",
       "      <td>0.0024</td>\n",
       "    </tr>\n",
       "    <tr>\n",
       "      <th>18</th>\n",
       "      <td>last_transaction_channel_BRANCH (POS)</td>\n",
       "      <td>0.0023</td>\n",
       "    </tr>\n",
       "    <tr>\n",
       "      <th>25</th>\n",
       "      <td>number_of_employees_11-50</td>\n",
       "      <td>0.0019</td>\n",
       "    </tr>\n",
       "    <tr>\n",
       "      <th>27</th>\n",
       "      <td>number_of_employees_51-100</td>\n",
       "      <td>0.0011</td>\n",
       "    </tr>\n",
       "    <tr>\n",
       "      <th>31</th>\n",
       "      <td>language_English</td>\n",
       "      <td>0.0005</td>\n",
       "    </tr>\n",
       "    <tr>\n",
       "      <th>34</th>\n",
       "      <td>language_Greek</td>\n",
       "      <td>0.0005</td>\n",
       "    </tr>\n",
       "    <tr>\n",
       "      <th>16</th>\n",
       "      <td>last_transaction_channel_BILLING</td>\n",
       "      <td>0.0005</td>\n",
       "    </tr>\n",
       "    <tr>\n",
       "      <th>37</th>\n",
       "      <td>language_Italian</td>\n",
       "      <td>0.0001</td>\n",
       "    </tr>\n",
       "    <tr>\n",
       "      <th>14</th>\n",
       "      <td>repurchase_method_PAYMENT PLAN</td>\n",
       "      <td>0.0001</td>\n",
       "    </tr>\n",
       "    <tr>\n",
       "      <th>44</th>\n",
       "      <td>language_Spanish</td>\n",
       "      <td>0.0001</td>\n",
       "    </tr>\n",
       "    <tr>\n",
       "      <th>42</th>\n",
       "      <td>language_Portuguese</td>\n",
       "      <td>0.0001</td>\n",
       "    </tr>\n",
       "    <tr>\n",
       "      <th>36</th>\n",
       "      <td>language_Hindi</td>\n",
       "      <td>0.0001</td>\n",
       "    </tr>\n",
       "    <tr>\n",
       "      <th>41</th>\n",
       "      <td>language_Polish</td>\n",
       "      <td>0.0001</td>\n",
       "    </tr>\n",
       "    <tr>\n",
       "      <th>38</th>\n",
       "      <td>language_Japanese</td>\n",
       "      <td>0.0001</td>\n",
       "    </tr>\n",
       "    <tr>\n",
       "      <th>40</th>\n",
       "      <td>language_Pashto</td>\n",
       "      <td>0.0000</td>\n",
       "    </tr>\n",
       "    <tr>\n",
       "      <th>43</th>\n",
       "      <td>language_Russian</td>\n",
       "      <td>0.0000</td>\n",
       "    </tr>\n",
       "    <tr>\n",
       "      <th>29</th>\n",
       "      <td>language_Arabic</td>\n",
       "      <td>0.0000</td>\n",
       "    </tr>\n",
       "    <tr>\n",
       "      <th>39</th>\n",
       "      <td>language_Korean</td>\n",
       "      <td>0.0000</td>\n",
       "    </tr>\n",
       "    <tr>\n",
       "      <th>30</th>\n",
       "      <td>language_Chinese</td>\n",
       "      <td>0.0000</td>\n",
       "    </tr>\n",
       "    <tr>\n",
       "      <th>35</th>\n",
       "      <td>language_Hebrew</td>\n",
       "      <td>0.0000</td>\n",
       "    </tr>\n",
       "    <tr>\n",
       "      <th>33</th>\n",
       "      <td>language_German</td>\n",
       "      <td>0.0000</td>\n",
       "    </tr>\n",
       "    <tr>\n",
       "      <th>32</th>\n",
       "      <td>language_French</td>\n",
       "      <td>0.0000</td>\n",
       "    </tr>\n",
       "    <tr>\n",
       "      <th>45</th>\n",
       "      <td>language_Vietnamese</td>\n",
       "      <td>0.0000</td>\n",
       "    </tr>\n",
       "  </tbody>\n",
       "</table>\n",
       "</div>"
      ],
      "text/plain": [
       "                                    Feature  Coef. Importance\n",
       "1         number_of_prior_year_transactions            0.2060\n",
       "2                 days_since_first_purchase            0.2044\n",
       "0                   historical_sales_volume            0.1139\n",
       "11                          office_supplies            0.0827\n",
       "8                                  computer            0.0795\n",
       "6                                   monitor            0.0775\n",
       "5                            standard_chair            0.0515\n",
       "28                 number_of_employees_6-10            0.0367\n",
       "13                 repurchase_method_NOTICE            0.0177\n",
       "12             repurchase_method_AUTO RENEW            0.0153\n",
       "10                                    toner            0.0125\n",
       "7                                   printer            0.0125\n",
       "4                           executive_chair            0.0125\n",
       "9                                 insurance            0.0101\n",
       "22             last_transaction_channel_WEB            0.0100\n",
       "15      last_transaction_channel_AUTO RENEW            0.0096\n",
       "20            last_transaction_channel_MAIL            0.0082\n",
       "26                 number_of_employees_500+            0.0064\n",
       "21           last_transaction_channel_PHONE            0.0059\n",
       "3                                      desk            0.0058\n",
       "24              number_of_employees_101-500            0.0053\n",
       "23                  number_of_employees_1-5            0.0036\n",
       "19              last_transaction_channel_IT            0.0026\n",
       "17  last_transaction_channel_BRANCH (PHONE)            0.0024\n",
       "18    last_transaction_channel_BRANCH (POS)            0.0023\n",
       "25                number_of_employees_11-50            0.0019\n",
       "27               number_of_employees_51-100            0.0011\n",
       "31                         language_English            0.0005\n",
       "34                           language_Greek            0.0005\n",
       "16         last_transaction_channel_BILLING            0.0005\n",
       "37                         language_Italian            0.0001\n",
       "14           repurchase_method_PAYMENT PLAN            0.0001\n",
       "44                         language_Spanish            0.0001\n",
       "42                      language_Portuguese            0.0001\n",
       "36                           language_Hindi            0.0001\n",
       "41                          language_Polish            0.0001\n",
       "38                        language_Japanese            0.0001\n",
       "40                          language_Pashto            0.0000\n",
       "43                         language_Russian            0.0000\n",
       "29                          language_Arabic            0.0000\n",
       "39                          language_Korean            0.0000\n",
       "30                         language_Chinese            0.0000\n",
       "35                          language_Hebrew            0.0000\n",
       "33                          language_German            0.0000\n",
       "32                          language_French            0.0000\n",
       "45                      language_Vietnamese            0.0000"
      ]
     },
     "execution_count": 150,
     "metadata": {},
     "output_type": "execute_result"
    }
   ],
   "source": [
    "#feature selection\n",
    "get_feat_imp(X_train_prepared, model2_rfr)"
   ]
  },
  {
   "cell_type": "code",
   "execution_count": 151,
   "metadata": {},
   "outputs": [
    {
     "data": {
      "text/html": [
       "<div>\n",
       "<style scoped>\n",
       "    .dataframe tbody tr th:only-of-type {\n",
       "        vertical-align: middle;\n",
       "    }\n",
       "\n",
       "    .dataframe tbody tr th {\n",
       "        vertical-align: top;\n",
       "    }\n",
       "\n",
       "    .dataframe thead th {\n",
       "        text-align: right;\n",
       "    }\n",
       "</style>\n",
       "<table border=\"1\" class=\"dataframe\">\n",
       "  <thead>\n",
       "    <tr style=\"text-align: right;\">\n",
       "      <th></th>\n",
       "      <th>number_of_prior_year_transactions</th>\n",
       "      <th>days_since_first_purchase</th>\n",
       "      <th>historical_sales_volume</th>\n",
       "      <th>office_supplies</th>\n",
       "      <th>monitor</th>\n",
       "      <th>computer</th>\n",
       "      <th>standard_chair</th>\n",
       "      <th>number_of_employees_6-10</th>\n",
       "      <th>repurchase_method_AUTO RENEW</th>\n",
       "      <th>repurchase_method_NOTICE</th>\n",
       "      <th>printer</th>\n",
       "      <th>executive_chair</th>\n",
       "      <th>toner</th>\n",
       "    </tr>\n",
       "  </thead>\n",
       "  <tbody>\n",
       "    <tr>\n",
       "      <th>2632</th>\n",
       "      <td>0.764704</td>\n",
       "      <td>0.146004</td>\n",
       "      <td>0.406579</td>\n",
       "      <td>1.0</td>\n",
       "      <td>0.0</td>\n",
       "      <td>0.0</td>\n",
       "      <td>0.0</td>\n",
       "      <td>0.0</td>\n",
       "      <td>0.0</td>\n",
       "      <td>1.0</td>\n",
       "      <td>0.0</td>\n",
       "      <td>0.0</td>\n",
       "      <td>0.0</td>\n",
       "    </tr>\n",
       "    <tr>\n",
       "      <th>1571</th>\n",
       "      <td>0.048287</td>\n",
       "      <td>0.548298</td>\n",
       "      <td>-0.388558</td>\n",
       "      <td>1.0</td>\n",
       "      <td>0.0</td>\n",
       "      <td>0.0</td>\n",
       "      <td>0.0</td>\n",
       "      <td>0.0</td>\n",
       "      <td>0.0</td>\n",
       "      <td>1.0</td>\n",
       "      <td>0.0</td>\n",
       "      <td>0.0</td>\n",
       "      <td>0.0</td>\n",
       "    </tr>\n",
       "  </tbody>\n",
       "</table>\n",
       "</div>"
      ],
      "text/plain": [
       "      number_of_prior_year_transactions  days_since_first_purchase  \\\n",
       "2632                           0.764704                   0.146004   \n",
       "1571                           0.048287                   0.548298   \n",
       "\n",
       "      historical_sales_volume  office_supplies  monitor  computer  \\\n",
       "2632                 0.406579              1.0      0.0       0.0   \n",
       "1571                -0.388558              1.0      0.0       0.0   \n",
       "\n",
       "      standard_chair  number_of_employees_6-10  repurchase_method_AUTO RENEW  \\\n",
       "2632             0.0                       0.0                           0.0   \n",
       "1571             0.0                       0.0                           0.0   \n",
       "\n",
       "      repurchase_method_NOTICE  printer  executive_chair  toner  \n",
       "2632                       1.0      0.0              0.0    0.0  \n",
       "1571                       1.0      0.0              0.0    0.0  "
      ]
     },
     "execution_count": 151,
     "metadata": {},
     "output_type": "execute_result"
    }
   ],
   "source": [
    "imp_feat = ['number_of_prior_year_transactions', 'days_since_first_purchase', 'historical_sales_volume', \n",
    "            'office_supplies', 'monitor', 'computer', 'standard_chair', 'number_of_employees_6-10', \n",
    "            'repurchase_method_AUTO RENEW', 'repurchase_method_NOTICE', 'printer', 'executive_chair', 'toner',]\n",
    "X_train_prepared_f = X_train_prepared[imp_feat]\n",
    "X_test_prepared_f = X_test_prepared[imp_feat]\n",
    "X_train_prepared_f.head(2)"
   ]
  },
  {
   "cell_type": "code",
   "execution_count": 152,
   "metadata": {},
   "outputs": [],
   "source": [
    "model3_rfr = RandomForestRegressor(max_depth=12, min_samples_split=5, n_estimators=300, random_state=24)\n",
    "model3_rfr.fit(X_train_prepared_f, y_train)\n",
    "model3_rfr_preds = model3_rfr.predict(X_train_prepared_f)\n",
    "model3_rfr_preds_test = model3_rfr.predict(X_test_prepared_f)"
   ]
  },
  {
   "cell_type": "code",
   "execution_count": 153,
   "metadata": {},
   "outputs": [
    {
     "name": "stdout",
     "output_type": "stream",
     "text": [
      "RMSE train:\t 326.7825388430217\n",
      "R2 train:\t 0.8040036049623152\n",
      "\n",
      "Cross val RMSE(mean) train:\t 517.9645566572397\n",
      "\n",
      "RMSE test:\t 480.7754845445931\n",
      "R2 test:\t 0.53072056645541\n",
      "\n"
     ]
    }
   ],
   "source": [
    "evaluate_performance_regression(model3_rfr, model3_rfr_preds, model3_rfr_preds_test)"
   ]
  },
  {
   "cell_type": "code",
   "execution_count": 154,
   "metadata": {},
   "outputs": [],
   "source": [
    "param_grid_rfr1 = {\n",
    "    'max_depth': [12, 14, 16],\n",
    "    'min_samples_split': [5, 6, 7],\n",
    "    'n_estimators': [200, 300, 400],\n",
    "    'max_features': [11, 12, 13]\n",
    "}\n",
    "model2_rfr_rs = RandomForestRegressor()"
   ]
  },
  {
   "cell_type": "code",
   "execution_count": 155,
   "metadata": {},
   "outputs": [
    {
     "data": {
      "text/plain": [
       "RandomizedSearchCV(cv=5, error_score=nan,\n",
       "                   estimator=RandomForestRegressor(bootstrap=True,\n",
       "                                                   ccp_alpha=0.0,\n",
       "                                                   criterion='mse',\n",
       "                                                   max_depth=None,\n",
       "                                                   max_features='auto',\n",
       "                                                   max_leaf_nodes=None,\n",
       "                                                   max_samples=None,\n",
       "                                                   min_impurity_decrease=0.0,\n",
       "                                                   min_impurity_split=None,\n",
       "                                                   min_samples_leaf=1,\n",
       "                                                   min_samples_split=2,\n",
       "                                                   min_weight_fraction_leaf=0.0,\n",
       "                                                   n_estimators=100,\n",
       "                                                   n_jobs=None, oob_score=False,\n",
       "                                                   random_state=None, verbose=0,\n",
       "                                                   warm_start=False),\n",
       "                   iid='deprecated', n_iter=10, n_jobs=-1,\n",
       "                   param_distributions={'max_depth': [12, 14, 16],\n",
       "                                        'max_features': [11, 12, 13],\n",
       "                                        'min_samples_split': [5, 6, 7],\n",
       "                                        'n_estimators': [200, 300, 400]},\n",
       "                   pre_dispatch='2*n_jobs', random_state=24, refit=True,\n",
       "                   return_train_score=False, scoring=None, verbose=0)"
      ]
     },
     "execution_count": 155,
     "metadata": {},
     "output_type": "execute_result"
    }
   ],
   "source": [
    "rfr_rs1 = RandomizedSearchCV(model2_rfr_rs, param_grid_rfr1, n_jobs=-1, cv=5, random_state=24)\n",
    "rfr_rs1.fit(X_train_prepared_f, y_train)"
   ]
  },
  {
   "cell_type": "code",
   "execution_count": 156,
   "metadata": {},
   "outputs": [
    {
     "data": {
      "text/plain": [
       "{'n_estimators': 300,\n",
       " 'min_samples_split': 6,\n",
       " 'max_features': 12,\n",
       " 'max_depth': 12}"
      ]
     },
     "execution_count": 156,
     "metadata": {},
     "output_type": "execute_result"
    }
   ],
   "source": [
    "rfr_rs1.best_params_"
   ]
  },
  {
   "cell_type": "code",
   "execution_count": 157,
   "metadata": {},
   "outputs": [],
   "source": [
    "model3_rfr = RandomForestRegressor(**rfr_rs1.best_params_, random_state=24)\n",
    "model3_rfr.fit(X_train_prepared_f, y_train)\n",
    "model3_rfr_preds = model3_rfr.predict(X_train_prepared_f)\n",
    "model3_rfr_preds_test = model3_rfr.predict(X_test_prepared_f)"
   ]
  },
  {
   "cell_type": "code",
   "execution_count": 158,
   "metadata": {},
   "outputs": [
    {
     "name": "stdout",
     "output_type": "stream",
     "text": [
      "RMSE train:\t 337.6146126242723\n",
      "R2 train:\t 0.7907946101510779\n",
      "\n",
      "Cross val RMSE(mean) train:\t 525.8630144288989\n",
      "\n",
      "RMSE test:\t 479.72829099658793\n",
      "R2 test:\t 0.5327626472788696\n",
      "\n"
     ]
    }
   ],
   "source": [
    "evaluate_performance_regression(model3_rfr, model3_rfr_preds, model3_rfr_preds_test)"
   ]
  },
  {
   "cell_type": "code",
   "execution_count": 159,
   "metadata": {},
   "outputs": [
    {
     "data": {
      "text/plain": [
       "GradientBoostingRegressor(alpha=0.9, ccp_alpha=0.0, criterion='friedman_mse',\n",
       "                          init=None, learning_rate=0.1, loss='ls', max_depth=3,\n",
       "                          max_features=None, max_leaf_nodes=None,\n",
       "                          min_impurity_decrease=0.0, min_impurity_split=None,\n",
       "                          min_samples_leaf=1, min_samples_split=2,\n",
       "                          min_weight_fraction_leaf=0.0, n_estimators=100,\n",
       "                          n_iter_no_change=None, presort='deprecated',\n",
       "                          random_state=None, subsample=1.0, tol=0.0001,\n",
       "                          validation_fraction=0.1, verbose=0, warm_start=False)"
      ]
     },
     "execution_count": 159,
     "metadata": {},
     "output_type": "execute_result"
    }
   ],
   "source": [
    "from sklearn.ensemble import GradientBoostingRegressor\n",
    "model1_gbr = GradientBoostingRegressor()\n",
    "model1_gbr.fit(X_train_prepared, y_train)"
   ]
  },
  {
   "cell_type": "code",
   "execution_count": 160,
   "metadata": {},
   "outputs": [],
   "source": [
    "model1_gbr_preds = model1_gbr.predict(X_train_prepared)\n",
    "model1_gbr_preds_test = model1_gbr.predict(X_test_prepared)"
   ]
  },
  {
   "cell_type": "code",
   "execution_count": 161,
   "metadata": {},
   "outputs": [
    {
     "name": "stdout",
     "output_type": "stream",
     "text": [
      "RMSE train:\t 454.8158539736493\n",
      "R2 train:\t 0.6203341037119671\n",
      "\n",
      "Cross val RMSE(mean) train:\t 518.1036638063744\n",
      "\n",
      "RMSE test:\t 486.74669082064537\n",
      "R2 test:\t 0.5189913258590034\n",
      "\n"
     ]
    }
   ],
   "source": [
    "evaluate_performance_regression(model1_gbr, model1_gbr_preds, model1_gbr_preds_test)"
   ]
  },
  {
   "cell_type": "code",
   "execution_count": 162,
   "metadata": {},
   "outputs": [],
   "source": [
    "param_grid_gbr = {\n",
    "    'n_estimators': [300, 400],\n",
    "    'min_samples_split': [6, 7, 8],\n",
    "    'max_depth': [3, 4, 6],\n",
    "    'max_features': [12, 13],\n",
    "    'learning_rate': [0.025, 0.03, 0.035]\n",
    "}\n",
    "model1_gbr_rs = GradientBoostingRegressor()"
   ]
  },
  {
   "cell_type": "code",
   "execution_count": 163,
   "metadata": {},
   "outputs": [
    {
     "data": {
      "text/plain": [
       "RandomizedSearchCV(cv=5, error_score=nan,\n",
       "                   estimator=GradientBoostingRegressor(alpha=0.9, ccp_alpha=0.0,\n",
       "                                                       criterion='friedman_mse',\n",
       "                                                       init=None,\n",
       "                                                       learning_rate=0.1,\n",
       "                                                       loss='ls', max_depth=3,\n",
       "                                                       max_features=None,\n",
       "                                                       max_leaf_nodes=None,\n",
       "                                                       min_impurity_decrease=0.0,\n",
       "                                                       min_impurity_split=None,\n",
       "                                                       min_samples_leaf=1,\n",
       "                                                       min_samples_split=2,\n",
       "                                                       min_weight_fraction_leaf=0.0,\n",
       "                                                       n_estimators=100,\n",
       "                                                       n_...\n",
       "                                                       tol=0.0001,\n",
       "                                                       validation_fraction=0.1,\n",
       "                                                       verbose=0,\n",
       "                                                       warm_start=False),\n",
       "                   iid='deprecated', n_iter=10, n_jobs=-1,\n",
       "                   param_distributions={'learning_rate': [0.025, 0.03, 0.035],\n",
       "                                        'max_depth': [3, 4, 6],\n",
       "                                        'max_features': [12, 13],\n",
       "                                        'min_samples_split': [6, 7, 8],\n",
       "                                        'n_estimators': [300, 400]},\n",
       "                   pre_dispatch='2*n_jobs', random_state=42, refit=True,\n",
       "                   return_train_score=False, scoring=None, verbose=0)"
      ]
     },
     "execution_count": 163,
     "metadata": {},
     "output_type": "execute_result"
    }
   ],
   "source": [
    "gbr_rs = RandomizedSearchCV(model1_gbr_rs, param_grid_gbr, n_jobs=-1, cv=5, random_state=42)\n",
    "gbr_rs.fit(X_train_prepared, y_train)"
   ]
  },
  {
   "cell_type": "code",
   "execution_count": 164,
   "metadata": {},
   "outputs": [
    {
     "data": {
      "text/plain": [
       "{'n_estimators': 300,\n",
       " 'min_samples_split': 7,\n",
       " 'max_features': 12,\n",
       " 'max_depth': 6,\n",
       " 'learning_rate': 0.03}"
      ]
     },
     "execution_count": 164,
     "metadata": {},
     "output_type": "execute_result"
    }
   ],
   "source": [
    "gbr_rs.best_params_"
   ]
  },
  {
   "cell_type": "code",
   "execution_count": 165,
   "metadata": {},
   "outputs": [
    {
     "data": {
      "text/plain": [
       "0.555022834513637"
      ]
     },
     "execution_count": 165,
     "metadata": {},
     "output_type": "execute_result"
    }
   ],
   "source": [
    "gbr_rs.best_estimator_.score(X_test_prepared, y_test)"
   ]
  },
  {
   "cell_type": "code",
   "execution_count": 166,
   "metadata": {},
   "outputs": [],
   "source": [
    "model2_gbr = GradientBoostingRegressor(**gbr_rs.best_params_, random_state=42)\n",
    "model2_gbr.fit(X_train_prepared, y_train)\n",
    "model2_gbr_preds = model2_gbr.predict(X_train_prepared)\n",
    "model2_gbr_preds_test = model2_gbr.predict(X_test_prepared)"
   ]
  },
  {
   "cell_type": "code",
   "execution_count": 167,
   "metadata": {},
   "outputs": [
    {
     "name": "stdout",
     "output_type": "stream",
     "text": [
      "RMSE train:\t 359.21837507312966\n",
      "R2 train:\t 0.7631641261008051\n",
      "\n",
      "Cross val RMSE(mean) train:\t 504.2603767901928\n",
      "\n",
      "RMSE test:\t 464.9770110886481\n",
      "R2 test:\t 0.5610552531461248\n",
      "\n"
     ]
    }
   ],
   "source": [
    "evaluate_performance_regression(model2_gbr, model2_gbr_preds, model2_gbr_preds_test)"
   ]
  },
  {
   "cell_type": "code",
   "execution_count": 168,
   "metadata": {
    "scrolled": true
   },
   "outputs": [
    {
     "data": {
      "text/plain": [
       "array([ -9.10231688, 202.02777919, 314.39076744, ...,  10.85213149,\n",
       "        -9.90181607,  -7.92392571])"
      ]
     },
     "execution_count": 168,
     "metadata": {},
     "output_type": "execute_result"
    }
   ],
   "source": [
    "model2_gbr_preds_test"
   ]
  },
  {
   "cell_type": "markdown",
   "metadata": {},
   "source": [
    "### Best model: GradientBoostingRegressor (model2_gbr)"
   ]
  },
  {
   "cell_type": "code",
   "execution_count": 169,
   "metadata": {
    "scrolled": true
   },
   "outputs": [
    {
     "data": {
      "text/html": [
       "<div>\n",
       "<style scoped>\n",
       "    .dataframe tbody tr th:only-of-type {\n",
       "        vertical-align: middle;\n",
       "    }\n",
       "\n",
       "    .dataframe tbody tr th {\n",
       "        vertical-align: top;\n",
       "    }\n",
       "\n",
       "    .dataframe thead th {\n",
       "        text-align: right;\n",
       "    }\n",
       "</style>\n",
       "<table border=\"1\" class=\"dataframe\">\n",
       "  <thead>\n",
       "    <tr style=\"text-align: right;\">\n",
       "      <th></th>\n",
       "      <th>Actual</th>\n",
       "      <th>Predicted</th>\n",
       "    </tr>\n",
       "  </thead>\n",
       "  <tbody>\n",
       "    <tr>\n",
       "      <th>5263</th>\n",
       "      <td>0.000000</td>\n",
       "      <td>-9.102317</td>\n",
       "    </tr>\n",
       "    <tr>\n",
       "      <th>11766</th>\n",
       "      <td>216.386667</td>\n",
       "      <td>202.027779</td>\n",
       "    </tr>\n",
       "    <tr>\n",
       "      <th>5319</th>\n",
       "      <td>0.000000</td>\n",
       "      <td>314.390767</td>\n",
       "    </tr>\n",
       "    <tr>\n",
       "      <th>4807</th>\n",
       "      <td>0.000000</td>\n",
       "      <td>350.379805</td>\n",
       "    </tr>\n",
       "    <tr>\n",
       "      <th>7311</th>\n",
       "      <td>414.266667</td>\n",
       "      <td>238.000563</td>\n",
       "    </tr>\n",
       "    <tr>\n",
       "      <th>...</th>\n",
       "      <td>...</td>\n",
       "      <td>...</td>\n",
       "    </tr>\n",
       "    <tr>\n",
       "      <th>4387</th>\n",
       "      <td>142.857143</td>\n",
       "      <td>230.584559</td>\n",
       "    </tr>\n",
       "    <tr>\n",
       "      <th>15942</th>\n",
       "      <td>0.000000</td>\n",
       "      <td>138.904103</td>\n",
       "    </tr>\n",
       "    <tr>\n",
       "      <th>1281</th>\n",
       "      <td>0.000000</td>\n",
       "      <td>10.852131</td>\n",
       "    </tr>\n",
       "    <tr>\n",
       "      <th>780</th>\n",
       "      <td>0.000000</td>\n",
       "      <td>-9.901816</td>\n",
       "    </tr>\n",
       "    <tr>\n",
       "      <th>1334</th>\n",
       "      <td>0.000000</td>\n",
       "      <td>-7.923926</td>\n",
       "    </tr>\n",
       "  </tbody>\n",
       "</table>\n",
       "<p>8086 rows × 2 columns</p>\n",
       "</div>"
      ],
      "text/plain": [
       "           Actual   Predicted\n",
       "5263     0.000000   -9.102317\n",
       "11766  216.386667  202.027779\n",
       "5319     0.000000  314.390767\n",
       "4807     0.000000  350.379805\n",
       "7311   414.266667  238.000563\n",
       "...           ...         ...\n",
       "4387   142.857143  230.584559\n",
       "15942    0.000000  138.904103\n",
       "1281     0.000000   10.852131\n",
       "780      0.000000   -9.901816\n",
       "1334     0.000000   -7.923926\n",
       "\n",
       "[8086 rows x 2 columns]"
      ]
     },
     "execution_count": 169,
     "metadata": {},
     "output_type": "execute_result"
    }
   ],
   "source": [
    "comp_regression_result = pd.DataFrame({'Actual': y_test, 'Predicted': model2_gbr_preds_test})\n",
    "comp_regression_result"
   ]
  },
  {
   "cell_type": "code",
   "execution_count": 251,
   "metadata": {},
   "outputs": [
    {
     "data": {
      "image/png": "[encoded data removed]",
      "text/plain": [
       "<Figure size 720x576 with 1 Axes>"
      ]
     },
     "metadata": {
      "needs_background": "light"
     },
     "output_type": "display_data"
    }
   ],
   "source": [
    "comp_regression_result.sort_values(by='Actual').tail(100).plot(kind='bar');"
   ]
  },
  {
   "cell_type": "code",
   "execution_count": 171,
   "metadata": {},
   "outputs": [
    {
     "data": {
      "image/png": "[encoded data removed]",
      "text/plain": [
       "<Figure size 864x432 with 2 Axes>"
      ]
     },
     "metadata": {
      "needs_background": "light"
     },
     "output_type": "display_data"
    }
   ],
   "source": [
    "from sklearn.inspection import permutation_importance\n",
    "\n",
    "feature_importance = model2_gbr.feature_importances_\n",
    "sorted_idx = np.argsort(feature_importance)\n",
    "pos = np.arange(sorted_idx.shape[0]) + .5\n",
    "fig = plt.figure(figsize=(12, 6))\n",
    "plt.subplot(1, 2, 1)\n",
    "plt.barh(pos, feature_importance[sorted_idx], align='center')\n",
    "plt.yticks(pos, np.array(X_train_prepared.columns)[sorted_idx])\n",
    "plt.title('Feature Importance (MDI)')\n",
    "\n",
    "result = permutation_importance(model2_gbr, X_test_prepared, y_test, n_repeats=10,\n",
    "                                random_state=42, n_jobs=2)\n",
    "sorted_idx = result.importances_mean.argsort()\n",
    "plt.subplot(1, 2, 2)\n",
    "plt.boxplot(result.importances[sorted_idx].T,\n",
    "            vert=False, labels=np.array(X_train_prepared.columns)[sorted_idx])\n",
    "plt.title(\"Permutation Importance (test set)\")\n",
    "fig.tight_layout()\n",
    "plt.show()"
   ]
  },
  {
   "cell_type": "code",
   "execution_count": 172,
   "metadata": {
    "scrolled": true
   },
   "outputs": [
    {
     "data": {
      "text/html": [
       "<div>\n",
       "<style scoped>\n",
       "    .dataframe tbody tr th:only-of-type {\n",
       "        vertical-align: middle;\n",
       "    }\n",
       "\n",
       "    .dataframe tbody tr th {\n",
       "        vertical-align: top;\n",
       "    }\n",
       "\n",
       "    .dataframe thead th {\n",
       "        text-align: right;\n",
       "    }\n",
       "</style>\n",
       "<table border=\"1\" class=\"dataframe\">\n",
       "  <thead>\n",
       "    <tr style=\"text-align: right;\">\n",
       "      <th></th>\n",
       "      <th>Feature</th>\n",
       "      <th>Coef. Importance</th>\n",
       "    </tr>\n",
       "  </thead>\n",
       "  <tbody>\n",
       "    <tr>\n",
       "      <th>1</th>\n",
       "      <td>number_of_prior_year_transactions</td>\n",
       "      <td>0.2047</td>\n",
       "    </tr>\n",
       "    <tr>\n",
       "      <th>2</th>\n",
       "      <td>days_since_first_purchase</td>\n",
       "      <td>0.1898</td>\n",
       "    </tr>\n",
       "    <tr>\n",
       "      <th>11</th>\n",
       "      <td>office_supplies</td>\n",
       "      <td>0.1045</td>\n",
       "    </tr>\n",
       "    <tr>\n",
       "      <th>0</th>\n",
       "      <td>historical_sales_volume</td>\n",
       "      <td>0.1009</td>\n",
       "    </tr>\n",
       "    <tr>\n",
       "      <th>5</th>\n",
       "      <td>standard_chair</td>\n",
       "      <td>0.0683</td>\n",
       "    </tr>\n",
       "    <tr>\n",
       "      <th>8</th>\n",
       "      <td>computer</td>\n",
       "      <td>0.0650</td>\n",
       "    </tr>\n",
       "    <tr>\n",
       "      <th>6</th>\n",
       "      <td>monitor</td>\n",
       "      <td>0.0616</td>\n",
       "    </tr>\n",
       "    <tr>\n",
       "      <th>28</th>\n",
       "      <td>number_of_employees_6-10</td>\n",
       "      <td>0.0403</td>\n",
       "    </tr>\n",
       "    <tr>\n",
       "      <th>7</th>\n",
       "      <td>printer</td>\n",
       "      <td>0.0274</td>\n",
       "    </tr>\n",
       "    <tr>\n",
       "      <th>12</th>\n",
       "      <td>repurchase_method_AUTO RENEW</td>\n",
       "      <td>0.0221</td>\n",
       "    </tr>\n",
       "    <tr>\n",
       "      <th>13</th>\n",
       "      <td>repurchase_method_NOTICE</td>\n",
       "      <td>0.0204</td>\n",
       "    </tr>\n",
       "    <tr>\n",
       "      <th>4</th>\n",
       "      <td>executive_chair</td>\n",
       "      <td>0.0153</td>\n",
       "    </tr>\n",
       "    <tr>\n",
       "      <th>10</th>\n",
       "      <td>toner</td>\n",
       "      <td>0.0128</td>\n",
       "    </tr>\n",
       "    <tr>\n",
       "      <th>23</th>\n",
       "      <td>number_of_employees_1-5</td>\n",
       "      <td>0.0087</td>\n",
       "    </tr>\n",
       "    <tr>\n",
       "      <th>26</th>\n",
       "      <td>number_of_employees_500+</td>\n",
       "      <td>0.0081</td>\n",
       "    </tr>\n",
       "    <tr>\n",
       "      <th>20</th>\n",
       "      <td>last_transaction_channel_MAIL</td>\n",
       "      <td>0.0077</td>\n",
       "    </tr>\n",
       "    <tr>\n",
       "      <th>9</th>\n",
       "      <td>insurance</td>\n",
       "      <td>0.0069</td>\n",
       "    </tr>\n",
       "    <tr>\n",
       "      <th>15</th>\n",
       "      <td>last_transaction_channel_AUTO RENEW</td>\n",
       "      <td>0.0065</td>\n",
       "    </tr>\n",
       "    <tr>\n",
       "      <th>22</th>\n",
       "      <td>last_transaction_channel_WEB</td>\n",
       "      <td>0.0051</td>\n",
       "    </tr>\n",
       "    <tr>\n",
       "      <th>25</th>\n",
       "      <td>number_of_employees_11-50</td>\n",
       "      <td>0.0046</td>\n",
       "    </tr>\n",
       "    <tr>\n",
       "      <th>24</th>\n",
       "      <td>number_of_employees_101-500</td>\n",
       "      <td>0.0041</td>\n",
       "    </tr>\n",
       "    <tr>\n",
       "      <th>19</th>\n",
       "      <td>last_transaction_channel_IT</td>\n",
       "      <td>0.0035</td>\n",
       "    </tr>\n",
       "    <tr>\n",
       "      <th>21</th>\n",
       "      <td>last_transaction_channel_PHONE</td>\n",
       "      <td>0.0032</td>\n",
       "    </tr>\n",
       "    <tr>\n",
       "      <th>3</th>\n",
       "      <td>desk</td>\n",
       "      <td>0.0027</td>\n",
       "    </tr>\n",
       "    <tr>\n",
       "      <th>17</th>\n",
       "      <td>last_transaction_channel_BRANCH (PHONE)</td>\n",
       "      <td>0.0015</td>\n",
       "    </tr>\n",
       "    <tr>\n",
       "      <th>27</th>\n",
       "      <td>number_of_employees_51-100</td>\n",
       "      <td>0.0014</td>\n",
       "    </tr>\n",
       "    <tr>\n",
       "      <th>18</th>\n",
       "      <td>last_transaction_channel_BRANCH (POS)</td>\n",
       "      <td>0.0010</td>\n",
       "    </tr>\n",
       "    <tr>\n",
       "      <th>31</th>\n",
       "      <td>language_English</td>\n",
       "      <td>0.0009</td>\n",
       "    </tr>\n",
       "    <tr>\n",
       "      <th>34</th>\n",
       "      <td>language_Greek</td>\n",
       "      <td>0.0005</td>\n",
       "    </tr>\n",
       "    <tr>\n",
       "      <th>16</th>\n",
       "      <td>last_transaction_channel_BILLING</td>\n",
       "      <td>0.0002</td>\n",
       "    </tr>\n",
       "    <tr>\n",
       "      <th>37</th>\n",
       "      <td>language_Italian</td>\n",
       "      <td>0.0001</td>\n",
       "    </tr>\n",
       "    <tr>\n",
       "      <th>36</th>\n",
       "      <td>language_Hindi</td>\n",
       "      <td>0.0001</td>\n",
       "    </tr>\n",
       "    <tr>\n",
       "      <th>38</th>\n",
       "      <td>language_Japanese</td>\n",
       "      <td>0.0001</td>\n",
       "    </tr>\n",
       "    <tr>\n",
       "      <th>44</th>\n",
       "      <td>language_Spanish</td>\n",
       "      <td>0.0001</td>\n",
       "    </tr>\n",
       "    <tr>\n",
       "      <th>42</th>\n",
       "      <td>language_Portuguese</td>\n",
       "      <td>0.0000</td>\n",
       "    </tr>\n",
       "    <tr>\n",
       "      <th>43</th>\n",
       "      <td>language_Russian</td>\n",
       "      <td>0.0000</td>\n",
       "    </tr>\n",
       "    <tr>\n",
       "      <th>41</th>\n",
       "      <td>language_Polish</td>\n",
       "      <td>0.0000</td>\n",
       "    </tr>\n",
       "    <tr>\n",
       "      <th>40</th>\n",
       "      <td>language_Pashto</td>\n",
       "      <td>0.0000</td>\n",
       "    </tr>\n",
       "    <tr>\n",
       "      <th>14</th>\n",
       "      <td>repurchase_method_PAYMENT PLAN</td>\n",
       "      <td>0.0000</td>\n",
       "    </tr>\n",
       "    <tr>\n",
       "      <th>30</th>\n",
       "      <td>language_Chinese</td>\n",
       "      <td>0.0000</td>\n",
       "    </tr>\n",
       "    <tr>\n",
       "      <th>39</th>\n",
       "      <td>language_Korean</td>\n",
       "      <td>0.0000</td>\n",
       "    </tr>\n",
       "    <tr>\n",
       "      <th>35</th>\n",
       "      <td>language_Hebrew</td>\n",
       "      <td>0.0000</td>\n",
       "    </tr>\n",
       "    <tr>\n",
       "      <th>33</th>\n",
       "      <td>language_German</td>\n",
       "      <td>0.0000</td>\n",
       "    </tr>\n",
       "    <tr>\n",
       "      <th>32</th>\n",
       "      <td>language_French</td>\n",
       "      <td>0.0000</td>\n",
       "    </tr>\n",
       "    <tr>\n",
       "      <th>29</th>\n",
       "      <td>language_Arabic</td>\n",
       "      <td>0.0000</td>\n",
       "    </tr>\n",
       "    <tr>\n",
       "      <th>45</th>\n",
       "      <td>language_Vietnamese</td>\n",
       "      <td>0.0000</td>\n",
       "    </tr>\n",
       "  </tbody>\n",
       "</table>\n",
       "</div>"
      ],
      "text/plain": [
       "                                    Feature  Coef. Importance\n",
       "1         number_of_prior_year_transactions            0.2047\n",
       "2                 days_since_first_purchase            0.1898\n",
       "11                          office_supplies            0.1045\n",
       "0                   historical_sales_volume            0.1009\n",
       "5                            standard_chair            0.0683\n",
       "8                                  computer            0.0650\n",
       "6                                   monitor            0.0616\n",
       "28                 number_of_employees_6-10            0.0403\n",
       "7                                   printer            0.0274\n",
       "12             repurchase_method_AUTO RENEW            0.0221\n",
       "13                 repurchase_method_NOTICE            0.0204\n",
       "4                           executive_chair            0.0153\n",
       "10                                    toner            0.0128\n",
       "23                  number_of_employees_1-5            0.0087\n",
       "26                 number_of_employees_500+            0.0081\n",
       "20            last_transaction_channel_MAIL            0.0077\n",
       "9                                 insurance            0.0069\n",
       "15      last_transaction_channel_AUTO RENEW            0.0065\n",
       "22             last_transaction_channel_WEB            0.0051\n",
       "25                number_of_employees_11-50            0.0046\n",
       "24              number_of_employees_101-500            0.0041\n",
       "19              last_transaction_channel_IT            0.0035\n",
       "21           last_transaction_channel_PHONE            0.0032\n",
       "3                                      desk            0.0027\n",
       "17  last_transaction_channel_BRANCH (PHONE)            0.0015\n",
       "27               number_of_employees_51-100            0.0014\n",
       "18    last_transaction_channel_BRANCH (POS)            0.0010\n",
       "31                         language_English            0.0009\n",
       "34                           language_Greek            0.0005\n",
       "16         last_transaction_channel_BILLING            0.0002\n",
       "37                         language_Italian            0.0001\n",
       "36                           language_Hindi            0.0001\n",
       "38                        language_Japanese            0.0001\n",
       "44                         language_Spanish            0.0001\n",
       "42                      language_Portuguese            0.0000\n",
       "43                         language_Russian            0.0000\n",
       "41                          language_Polish            0.0000\n",
       "40                          language_Pashto            0.0000\n",
       "14           repurchase_method_PAYMENT PLAN            0.0000\n",
       "30                         language_Chinese            0.0000\n",
       "39                          language_Korean            0.0000\n",
       "35                          language_Hebrew            0.0000\n",
       "33                          language_German            0.0000\n",
       "32                          language_French            0.0000\n",
       "29                          language_Arabic            0.0000\n",
       "45                      language_Vietnamese            0.0000"
      ]
     },
     "execution_count": 172,
     "metadata": {},
     "output_type": "execute_result"
    }
   ],
   "source": [
    "get_feat_imp(X_train_prepared, model2_gbr)"
   ]
  },
  {
   "cell_type": "code",
   "execution_count": 202,
   "metadata": {
    "scrolled": true
   },
   "outputs": [],
   "source": [
    "feat_imp_reg = get_feat_imp(X_train_prepared, model2_gbr)\n",
    "feat_imp_reg.to_excel(\"fi_reg.xlsx\")"
   ]
  },
  {
   "cell_type": "code",
   "execution_count": 204,
   "metadata": {},
   "outputs": [
    {
     "data": {
      "text/plain": [
       "<matplotlib.axes._subplots.AxesSubplot at 0x29712121648>"
      ]
     },
     "execution_count": 204,
     "metadata": {},
     "output_type": "execute_result"
    },
    {
     "data": {
      "image/png": "[encoded data removed]",
      "text/plain": [
       "<Figure size 720x576 with 1 Axes>"
      ]
     },
     "metadata": {
      "needs_background": "light"
     },
     "output_type": "display_data"
    }
   ],
   "source": [
    "feat_imp_reg.plot(kind='bar', x='Feature')"
   ]
  },
  {
   "cell_type": "markdown",
   "metadata": {},
   "source": [
    "## Model validation"
   ]
  },
  {
   "cell_type": "code",
   "execution_count": 175,
   "metadata": {},
   "outputs": [],
   "source": [
    "# set some global plotting parameters...\n",
    "plt.rcParams['figure.figsize'] = (10, 8)\n",
    "plt.rcParams['font.size'] = 14"
   ]
  },
  {
   "cell_type": "code",
   "execution_count": 176,
   "metadata": {},
   "outputs": [
    {
     "data": {
      "image/png": "[encoded data removed]",
      "text/plain": [
       "<Figure size 576x432 with 1 Axes>"
      ]
     },
     "metadata": {
      "needs_background": "light"
     },
     "output_type": "display_data"
    }
   ],
   "source": [
    "fig, ax = plt.subplots(1,1, figsize=(8, 6))\n",
    "ax.scatter(x=y_test, y=model2_gbr_preds_test, alpha=0.4);\n",
    "ax.plot([0, 10000],[0, 10000])\n",
    "ax.set_title(\"Actual vs Predicted - Regression\", fontsize=16)\n",
    "# ax.set_xlabel(\"Actual\")\n",
    "# ax.set_ylabel(\"Predicted\");\n",
    "\n",
    "ax.set(title=\"Actual vs Predicted - Regression\", xlabel='Actual', ylabel='Predicted');"
   ]
  },
  {
   "cell_type": "code",
   "execution_count": 177,
   "metadata": {},
   "outputs": [],
   "source": [
    "# get residuals\n",
    "residuals = model2_gbr_preds_test - y_test"
   ]
  },
  {
   "cell_type": "code",
   "execution_count": 178,
   "metadata": {},
   "outputs": [
    {
     "name": "stdout",
     "output_type": "stream",
     "text": [
      "Threshold maximising f1 score - 0.2760710473029988\n"
     ]
    }
   ],
   "source": [
    "from sklearn.metrics import f1_score\n",
    "# training classification preds\n",
    "y_train_pred_proba = model2_rfc.predict_proba(X_train_prepared)[:,1]\n",
    "\n",
    "# possible thresholds\n",
    "thresholds_train = np.linspace(min(y_train_pred_proba), \n",
    "                               max(y_train_pred_proba) - 0.1, 100)\n",
    "\n",
    "# list to hold scores on train and test\n",
    "train_f1_scores = []\n",
    "\n",
    "for t in thresholds_train:\n",
    "    train_f1_scores.append(f1_score(\n",
    "        y_train_class, y_train_pred_proba > t, pos_label=1))\n",
    "\n",
    "#find optimal precision score\n",
    "optimal_t = float(thresholds_train[train_f1_scores==max(train_f1_scores)])\n",
    "print(\"Threshold maximising f1 score - {}\".format(optimal_t))"
   ]
  },
  {
   "cell_type": "code",
   "execution_count": 179,
   "metadata": {},
   "outputs": [
    {
     "name": "stdout",
     "output_type": "stream",
     "text": [
      "0.2760710473029988\n"
     ]
    }
   ],
   "source": [
    "print(optimal_t)"
   ]
  },
  {
   "cell_type": "code",
   "execution_count": 180,
   "metadata": {
    "scrolled": true
   },
   "outputs": [
    {
     "name": "stdout",
     "output_type": "stream",
     "text": [
      "              precision    recall  f1-score   support\n",
      "\n",
      "           0       0.96      0.92      0.94      5899\n",
      "           1       0.80      0.90      0.85      2187\n",
      "\n",
      "    accuracy                           0.91      8086\n",
      "   macro avg       0.88      0.91      0.89      8086\n",
      "weighted avg       0.92      0.91      0.91      8086\n",
      "\n"
     ]
    }
   ],
   "source": [
    "print(classification_report(y_train_class, y_train_pred_proba > optimal_t))"
   ]
  },
  {
   "cell_type": "code",
   "execution_count": 181,
   "metadata": {},
   "outputs": [
    {
     "data": {
      "image/png": "[encoded data removed]",
      "text/plain": [
       "<Figure size 1008x720 with 4 Axes>"
      ]
     },
     "metadata": {
      "needs_background": "light"
     },
     "output_type": "display_data"
    }
   ],
   "source": [
    "# plot predictions vs residuals\n",
    "fig, axes = plt.subplots(2,2,figsize=(14,10))\n",
    "\n",
    "# plot scatter on upper left plot\n",
    "axes[0,0].scatter(x=model2_gbr_preds_test, y=residuals, alpha=0.5)\n",
    "axes[0,0].set(xlabel=\"Residuals\",ylabel=\"Predictions\");\n",
    "\n",
    "# plot hist on upper right plot\n",
    "axes[0,1].hist(residuals, bins=30)\n",
    "axes[0,1].set(xlabel='Residuals', ylabel='Frequency');\n",
    "\n",
    "# plot qq plot on lower left\n",
    "from statsmodels.api import qqplot\n",
    "qqplot(residuals, fit=True, line='r', ax=axes[1,0])\n",
    "\n",
    "# classifier thresholds on lower right\n",
    "axes[1,1].plot(thresholds_train, train_f1_scores)\n",
    "axes[1,1].set(xlabel=\"Threshold value\",ylabel=\"F1 score\");"
   ]
  },
  {
   "cell_type": "code",
   "execution_count": 182,
   "metadata": {},
   "outputs": [
    {
     "data": {
      "text/plain": [
       "46.24760608534835"
      ]
     },
     "execution_count": 182,
     "metadata": {},
     "output_type": "execute_result"
    }
   ],
   "source": [
    "np.std(-cross_val_score(model2_gbr, X_train_prepared, y_train, cv=10, scoring='neg_root_mean_squared_error'))"
   ]
  },
  {
   "cell_type": "markdown",
   "metadata": {},
   "source": [
    "## Profit calculator"
   ]
  },
  {
   "cell_type": "code",
   "execution_count": 183,
   "metadata": {},
   "outputs": [
    {
     "data": {
      "text/plain": [
       "array([0, 1, 0, ..., 0, 0, 0])"
      ]
     },
     "execution_count": 183,
     "metadata": {},
     "output_type": "execute_result"
    }
   ],
   "source": [
    "preds_class = model2_rfc.predict(X_test_prepared)\n",
    "preds_class"
   ]
  },
  {
   "cell_type": "code",
   "execution_count": 184,
   "metadata": {},
   "outputs": [
    {
     "data": {
      "text/plain": [
       "array([0.02834591, 0.78432382, 0.10212476, ..., 0.0181447 , 0.07677544,\n",
       "       0.02926297])"
      ]
     },
     "execution_count": 184,
     "metadata": {},
     "output_type": "execute_result"
    }
   ],
   "source": [
    "preds_class_prob = model2_rfc.predict_proba(X_test_prepared)[:,1]\n",
    "preds_class_prob"
   ]
  },
  {
   "cell_type": "code",
   "execution_count": 185,
   "metadata": {},
   "outputs": [
    {
     "data": {
      "text/plain": [
       "array([ -9.10231688, 202.02777919, 314.39076744, ...,  10.85213149,\n",
       "        -9.90181607,  -7.92392571])"
      ]
     },
     "execution_count": 185,
     "metadata": {},
     "output_type": "execute_result"
    }
   ],
   "source": [
    "preds_reg = model2_gbr.predict(X_test_prepared)\n",
    "preds_reg"
   ]
  },
  {
   "cell_type": "code",
   "execution_count": 186,
   "metadata": {},
   "outputs": [
    {
     "data": {
      "text/plain": [
       "5263    -45.706763\n",
       "11766   -19.189856\n",
       "5319    -38.586442\n",
       "4807    -31.204245\n",
       "7311    -15.074861\n",
       "           ...    \n",
       "4387     -7.896517\n",
       "15942   -45.134851\n",
       "1281    -45.606680\n",
       "780     -45.817248\n",
       "1334    -45.701013\n",
       "Length: 8086, dtype: float64"
      ]
     },
     "execution_count": 186,
     "metadata": {},
     "output_type": "execute_result"
    }
   ],
   "source": [
    "expected_profit = pd.Series(((0.22*preds_class_prob*preds_reg) - (8.40*preds_class) - 45.65), index=X_test_prepared.index)\n",
    "expected_profit"
   ]
  },
  {
   "cell_type": "code",
   "execution_count": 187,
   "metadata": {},
   "outputs": [
    {
     "data": {
      "image/png": "[encoded data removed]",
      "text/plain": [
       "<Figure size 432x288 with 1 Axes>"
      ]
     },
     "metadata": {
      "needs_background": "light"
     },
     "output_type": "display_data"
    }
   ],
   "source": [
    "fig, ax = plt.subplots(1,1, figsize=(6, 4))\n",
    "plt.hist(expected_profit, bins=30)\n",
    "plt.show()"
   ]
  },
  {
   "cell_type": "code",
   "execution_count": 235,
   "metadata": {
    "scrolled": true
   },
   "outputs": [
    {
     "data": {
      "text/plain": [
       "3007     1325.000575\n",
       "3380     1294.793017\n",
       "5803     1168.503262\n",
       "1613     1148.521402\n",
       "10640    1141.341274\n",
       "            ...     \n",
       "13515      13.377186\n",
       "4900       13.321230\n",
       "723        13.192361\n",
       "15289      13.042500\n",
       "4724       12.809680\n",
       "Length: 799, dtype: float64"
      ]
     },
     "execution_count": 235,
     "metadata": {},
     "output_type": "execute_result"
    }
   ],
   "source": [
    "expected_profit_sorted = expected_profit.sort_values(ascending=False)\n",
    "expected_profit_sorted[0:799]"
   ]
  },
  {
   "cell_type": "code",
   "execution_count": 189,
   "metadata": {},
   "outputs": [],
   "source": [
    "def prof_deciles(series):\n",
    "    dec = 800\n",
    "    x = 0\n",
    "    avgs = []\n",
    "    for i in range(0, 10):\n",
    "        avg = round(series[x:x+799].mean(), 2)\n",
    "        avgs.append(avg)\n",
    "        x += 800\n",
    "    return avgs"
   ]
  },
  {
   "cell_type": "code",
   "execution_count": 190,
   "metadata": {},
   "outputs": [
    {
     "data": {
      "text/plain": [
       "[189.14, -5.64, -25.02, -38.67, -42.2, -43.72, -45.04, -45.51, -45.65, -45.78]"
      ]
     },
     "execution_count": 190,
     "metadata": {},
     "output_type": "execute_result"
    }
   ],
   "source": [
    "profit_avgs = prof_deciles(expected_profit_sorted)\n",
    "profit_avgs"
   ]
  },
  {
   "cell_type": "code",
   "execution_count": 191,
   "metadata": {
    "scrolled": true
   },
   "outputs": [
    {
     "data": {
      "text/plain": [
       "Int64Index([ 3007,  3380,  5803,  1613, 10640,   121, 10800, 15577,  2537,\n",
       "            12565,\n",
       "            ...\n",
       "             7099,  8852, 13565, 13197, 11118, 13515,  4900,   723, 15289,\n",
       "             4724],\n",
       "           dtype='int64', length=799)"
      ]
     },
     "execution_count": 191,
     "metadata": {},
     "output_type": "execute_result"
    }
   ],
   "source": [
    "expected_profit_sorted[0:799].index"
   ]
  },
  {
   "cell_type": "code",
   "execution_count": 192,
   "metadata": {},
   "outputs": [],
   "source": [
    "df1 = pd.read_excel('Office Supply Campaign ResultS 7-23-19.xlsx')"
   ]
  },
  {
   "cell_type": "code",
   "execution_count": 193,
   "metadata": {},
   "outputs": [
    {
     "data": {
      "text/html": [
       "<div>\n",
       "<style scoped>\n",
       "    .dataframe tbody tr th:only-of-type {\n",
       "        vertical-align: middle;\n",
       "    }\n",
       "\n",
       "    .dataframe tbody tr th {\n",
       "        vertical-align: top;\n",
       "    }\n",
       "\n",
       "    .dataframe thead th {\n",
       "        text-align: right;\n",
       "    }\n",
       "</style>\n",
       "<table border=\"1\" class=\"dataframe\">\n",
       "  <thead>\n",
       "    <tr style=\"text-align: right;\">\n",
       "      <th></th>\n",
       "      <th>Customer Number</th>\n",
       "      <th>Campaign Period Sales</th>\n",
       "      <th>Historical Sales Volume</th>\n",
       "      <th>Date of First Purchase</th>\n",
       "      <th>Number of Prior Year Transactions</th>\n",
       "      <th>Do Not Direct Mail Solicit</th>\n",
       "      <th>Do Not Email</th>\n",
       "      <th>Do Not Telemarket</th>\n",
       "      <th>Repurchase Method</th>\n",
       "      <th>Last Transaction Channel</th>\n",
       "      <th>Desk</th>\n",
       "      <th>Executive Chair</th>\n",
       "      <th>Standard Chair</th>\n",
       "      <th>Monitor</th>\n",
       "      <th>Printer</th>\n",
       "      <th>Computer</th>\n",
       "      <th>Insurance</th>\n",
       "      <th>Toner</th>\n",
       "      <th>Office Supplies</th>\n",
       "      <th>Number of Employees</th>\n",
       "      <th>Language</th>\n",
       "    </tr>\n",
       "  </thead>\n",
       "  <tbody>\n",
       "    <tr>\n",
       "      <th>3007</th>\n",
       "      <td>6807415.0</td>\n",
       "      <td>6421.000000</td>\n",
       "      <td>1.078728e+06</td>\n",
       "      <td>1964-11-15</td>\n",
       "      <td>44.0</td>\n",
       "      <td>1.0</td>\n",
       "      <td>1.0</td>\n",
       "      <td>1.0</td>\n",
       "      <td>AUTO RENEW</td>\n",
       "      <td>AUTO RENEW</td>\n",
       "      <td>Y</td>\n",
       "      <td>Y</td>\n",
       "      <td>Y</td>\n",
       "      <td>Y</td>\n",
       "      <td>Y</td>\n",
       "      <td>Y</td>\n",
       "      <td>Y</td>\n",
       "      <td>Y</td>\n",
       "      <td>Y</td>\n",
       "      <td></td>\n",
       "      <td>NaN</td>\n",
       "    </tr>\n",
       "    <tr>\n",
       "      <th>3380</th>\n",
       "      <td>7699413.0</td>\n",
       "      <td>4066.666667</td>\n",
       "      <td>3.985333e+06</td>\n",
       "      <td>1977-10-15</td>\n",
       "      <td>43.0</td>\n",
       "      <td>0.0</td>\n",
       "      <td>0.0</td>\n",
       "      <td>0.0</td>\n",
       "      <td>AUTO RENEW</td>\n",
       "      <td>PHONE</td>\n",
       "      <td>Y</td>\n",
       "      <td>Y</td>\n",
       "      <td>Y</td>\n",
       "      <td>Y</td>\n",
       "      <td>Y</td>\n",
       "      <td>Y</td>\n",
       "      <td>Y</td>\n",
       "      <td>Y</td>\n",
       "      <td>Y</td>\n",
       "      <td></td>\n",
       "      <td>NaN</td>\n",
       "    </tr>\n",
       "    <tr>\n",
       "      <th>5803</th>\n",
       "      <td>13021726.0</td>\n",
       "      <td>5445.000000</td>\n",
       "      <td>1.306800e+06</td>\n",
       "      <td>1969-09-01</td>\n",
       "      <td>42.0</td>\n",
       "      <td>0.0</td>\n",
       "      <td>0.0</td>\n",
       "      <td>0.0</td>\n",
       "      <td>AUTO RENEW</td>\n",
       "      <td>AUTO RENEW</td>\n",
       "      <td>N</td>\n",
       "      <td>Y</td>\n",
       "      <td>Y</td>\n",
       "      <td>Y</td>\n",
       "      <td>Y</td>\n",
       "      <td>Y</td>\n",
       "      <td>Y</td>\n",
       "      <td>Y</td>\n",
       "      <td>Y</td>\n",
       "      <td></td>\n",
       "      <td>NaN</td>\n",
       "    </tr>\n",
       "  </tbody>\n",
       "</table>\n",
       "</div>"
      ],
      "text/plain": [
       "      Customer Number  Campaign Period Sales  Historical Sales Volume  \\\n",
       "3007        6807415.0            6421.000000             1.078728e+06   \n",
       "3380        7699413.0            4066.666667             3.985333e+06   \n",
       "5803       13021726.0            5445.000000             1.306800e+06   \n",
       "\n",
       "     Date of First Purchase  Number of Prior Year Transactions  \\\n",
       "3007             1964-11-15                               44.0   \n",
       "3380             1977-10-15                               43.0   \n",
       "5803             1969-09-01                               42.0   \n",
       "\n",
       "      Do Not Direct Mail Solicit  Do Not Email  Do Not Telemarket  \\\n",
       "3007                         1.0           1.0                1.0   \n",
       "3380                         0.0           0.0                0.0   \n",
       "5803                         0.0           0.0                0.0   \n",
       "\n",
       "     Repurchase Method Last Transaction Channel Desk Executive Chair  \\\n",
       "3007        AUTO RENEW               AUTO RENEW    Y               Y   \n",
       "3380        AUTO RENEW                    PHONE    Y               Y   \n",
       "5803        AUTO RENEW               AUTO RENEW    N               Y   \n",
       "\n",
       "     Standard Chair Monitor Printer Computer Insurance Toner Office Supplies  \\\n",
       "3007              Y       Y       Y        Y         Y     Y               Y   \n",
       "3380              Y       Y       Y        Y         Y     Y               Y   \n",
       "5803              Y       Y       Y        Y         Y     Y               Y   \n",
       "\n",
       "     Number of Employees Language  \n",
       "3007                          NaN  \n",
       "3380                          NaN  \n",
       "5803                          NaN  "
      ]
     },
     "execution_count": 193,
     "metadata": {},
     "output_type": "execute_result"
    }
   ],
   "source": [
    "first_decile = df1.loc[expected_profit_sorted[0:799].index]\n",
    "first_decile.head(3)"
   ]
  },
  {
   "cell_type": "code",
   "execution_count": 194,
   "metadata": {},
   "outputs": [],
   "source": [
    "first_decile['Number of Employees'] = first_decile['Number of Employees'].replace(' ', np.nan)"
   ]
  },
  {
   "cell_type": "code",
   "execution_count": 195,
   "metadata": {},
   "outputs": [],
   "source": [
    "first_decile['Days since First Purchase'] = create_number_days(first_decile['Date of First Purchase'])"
   ]
  },
  {
   "cell_type": "code",
   "execution_count": 196,
   "metadata": {},
   "outputs": [],
   "source": [
    "first_decile['Year'] = pd.DatetimeIndex(first_decile['Date of First Purchase']).year"
   ]
  },
  {
   "cell_type": "code",
   "execution_count": 197,
   "metadata": {},
   "outputs": [
    {
     "data": {
      "text/html": [
       "<div>\n",
       "<style scoped>\n",
       "    .dataframe tbody tr th:only-of-type {\n",
       "        vertical-align: middle;\n",
       "    }\n",
       "\n",
       "    .dataframe tbody tr th {\n",
       "        vertical-align: top;\n",
       "    }\n",
       "\n",
       "    .dataframe thead th {\n",
       "        text-align: right;\n",
       "    }\n",
       "</style>\n",
       "<table border=\"1\" class=\"dataframe\">\n",
       "  <thead>\n",
       "    <tr style=\"text-align: right;\">\n",
       "      <th></th>\n",
       "      <th>Customer Number</th>\n",
       "      <th>Campaign Period Sales</th>\n",
       "      <th>Historical Sales Volume</th>\n",
       "      <th>Date of First Purchase</th>\n",
       "      <th>Number of Prior Year Transactions</th>\n",
       "      <th>Do Not Direct Mail Solicit</th>\n",
       "      <th>Do Not Email</th>\n",
       "      <th>Do Not Telemarket</th>\n",
       "      <th>Repurchase Method</th>\n",
       "      <th>Last Transaction Channel</th>\n",
       "      <th>Desk</th>\n",
       "      <th>Executive Chair</th>\n",
       "      <th>Standard Chair</th>\n",
       "      <th>Monitor</th>\n",
       "      <th>Printer</th>\n",
       "      <th>Computer</th>\n",
       "      <th>Insurance</th>\n",
       "      <th>Toner</th>\n",
       "      <th>Office Supplies</th>\n",
       "      <th>Number of Employees</th>\n",
       "      <th>Language</th>\n",
       "      <th>Days since First Purchase</th>\n",
       "      <th>Year</th>\n",
       "    </tr>\n",
       "  </thead>\n",
       "  <tbody>\n",
       "    <tr>\n",
       "      <th>3007</th>\n",
       "      <td>6807415.0</td>\n",
       "      <td>6421.000000</td>\n",
       "      <td>1.078728e+06</td>\n",
       "      <td>1964-11-15</td>\n",
       "      <td>44.0</td>\n",
       "      <td>1.0</td>\n",
       "      <td>1.0</td>\n",
       "      <td>1.0</td>\n",
       "      <td>AUTO RENEW</td>\n",
       "      <td>AUTO RENEW</td>\n",
       "      <td>Y</td>\n",
       "      <td>Y</td>\n",
       "      <td>Y</td>\n",
       "      <td>Y</td>\n",
       "      <td>Y</td>\n",
       "      <td>Y</td>\n",
       "      <td>Y</td>\n",
       "      <td>Y</td>\n",
       "      <td>Y</td>\n",
       "      <td>NaN</td>\n",
       "      <td>NaN</td>\n",
       "      <td>20301</td>\n",
       "      <td>1964</td>\n",
       "    </tr>\n",
       "    <tr>\n",
       "      <th>3380</th>\n",
       "      <td>7699413.0</td>\n",
       "      <td>4066.666667</td>\n",
       "      <td>3.985333e+06</td>\n",
       "      <td>1977-10-15</td>\n",
       "      <td>43.0</td>\n",
       "      <td>0.0</td>\n",
       "      <td>0.0</td>\n",
       "      <td>0.0</td>\n",
       "      <td>AUTO RENEW</td>\n",
       "      <td>PHONE</td>\n",
       "      <td>Y</td>\n",
       "      <td>Y</td>\n",
       "      <td>Y</td>\n",
       "      <td>Y</td>\n",
       "      <td>Y</td>\n",
       "      <td>Y</td>\n",
       "      <td>Y</td>\n",
       "      <td>Y</td>\n",
       "      <td>Y</td>\n",
       "      <td>NaN</td>\n",
       "      <td>NaN</td>\n",
       "      <td>15584</td>\n",
       "      <td>1977</td>\n",
       "    </tr>\n",
       "    <tr>\n",
       "      <th>5803</th>\n",
       "      <td>13021726.0</td>\n",
       "      <td>5445.000000</td>\n",
       "      <td>1.306800e+06</td>\n",
       "      <td>1969-09-01</td>\n",
       "      <td>42.0</td>\n",
       "      <td>0.0</td>\n",
       "      <td>0.0</td>\n",
       "      <td>0.0</td>\n",
       "      <td>AUTO RENEW</td>\n",
       "      <td>AUTO RENEW</td>\n",
       "      <td>N</td>\n",
       "      <td>Y</td>\n",
       "      <td>Y</td>\n",
       "      <td>Y</td>\n",
       "      <td>Y</td>\n",
       "      <td>Y</td>\n",
       "      <td>Y</td>\n",
       "      <td>Y</td>\n",
       "      <td>Y</td>\n",
       "      <td>NaN</td>\n",
       "      <td>NaN</td>\n",
       "      <td>18550</td>\n",
       "      <td>1969</td>\n",
       "    </tr>\n",
       "  </tbody>\n",
       "</table>\n",
       "</div>"
      ],
      "text/plain": [
       "      Customer Number  Campaign Period Sales  Historical Sales Volume  \\\n",
       "3007        6807415.0            6421.000000             1.078728e+06   \n",
       "3380        7699413.0            4066.666667             3.985333e+06   \n",
       "5803       13021726.0            5445.000000             1.306800e+06   \n",
       "\n",
       "     Date of First Purchase  Number of Prior Year Transactions  \\\n",
       "3007             1964-11-15                               44.0   \n",
       "3380             1977-10-15                               43.0   \n",
       "5803             1969-09-01                               42.0   \n",
       "\n",
       "      Do Not Direct Mail Solicit  Do Not Email  Do Not Telemarket  \\\n",
       "3007                         1.0           1.0                1.0   \n",
       "3380                         0.0           0.0                0.0   \n",
       "5803                         0.0           0.0                0.0   \n",
       "\n",
       "     Repurchase Method Last Transaction Channel Desk Executive Chair  \\\n",
       "3007        AUTO RENEW               AUTO RENEW    Y               Y   \n",
       "3380        AUTO RENEW                    PHONE    Y               Y   \n",
       "5803        AUTO RENEW               AUTO RENEW    N               Y   \n",
       "\n",
       "     Standard Chair Monitor Printer Computer Insurance Toner Office Supplies  \\\n",
       "3007              Y       Y       Y        Y         Y     Y               Y   \n",
       "3380              Y       Y       Y        Y         Y     Y               Y   \n",
       "5803              Y       Y       Y        Y         Y     Y               Y   \n",
       "\n",
       "     Number of Employees Language  Days since First Purchase  Year  \n",
       "3007                 NaN      NaN                      20301  1964  \n",
       "3380                 NaN      NaN                      15584  1977  \n",
       "5803                 NaN      NaN                      18550  1969  "
      ]
     },
     "execution_count": 197,
     "metadata": {},
     "output_type": "execute_result"
    }
   ],
   "source": [
    "first_decile.head(3)"
   ]
  },
  {
   "cell_type": "code",
   "execution_count": 198,
   "metadata": {},
   "outputs": [],
   "source": [
    "first_decile['Years since First Purchase'] = first_decile['Days since First Purchase']/365"
   ]
  },
  {
   "cell_type": "code",
   "execution_count": 199,
   "metadata": {},
   "outputs": [
    {
     "name": "stdout",
     "output_type": "stream",
     "text": [
      "Requirement already satisfied: openpyxl in c:\\users\\argon\\anaconda3\\envs\\pgdads\\lib\\site-packages (3.0.3)\n",
      "Requirement already satisfied: jdcal in c:\\users\\argon\\anaconda3\\envs\\pgdads\\lib\\site-packages (from openpyxl) (1.4.1)\n",
      "Requirement already satisfied: et-xmlfile in c:\\users\\argon\\anaconda3\\envs\\pgdads\\lib\\site-packages (from openpyxl) (1.0.1)\n",
      "Note: you may need to restart the kernel to use updated packages.\n"
     ]
    }
   ],
   "source": [
    "pip install openpyxl"
   ]
  },
  {
   "cell_type": "code",
   "execution_count": 200,
   "metadata": {
    "scrolled": true
   },
   "outputs": [],
   "source": [
    "first_decile.to_excel(\"decile.xlsx\")"
   ]
  },
  {
   "cell_type": "code",
   "execution_count": 218,
   "metadata": {},
   "outputs": [],
   "source": [
    "expected_profit_df = pd.DataFrame(expected_profit_sorted[0:799], index=expected_profit_sorted[0:799].index)"
   ]
  },
  {
   "cell_type": "code",
   "execution_count": 220,
   "metadata": {},
   "outputs": [
    {
     "data": {
      "text/plain": [
       "0    151123.35778\n",
       "dtype: float64"
      ]
     },
     "execution_count": 220,
     "metadata": {},
     "output_type": "execute_result"
    }
   ],
   "source": [
    "expected_profit_df.sum()"
   ]
  },
  {
   "cell_type": "code",
   "execution_count": 222,
   "metadata": {},
   "outputs": [
    {
     "data": {
      "text/plain": [
       "6-10       122\n",
       "101-500     49\n",
       "51-100      47\n",
       "11-50       44\n",
       "500+        29\n",
       "1-5         12\n",
       "Name: Number of Employees, dtype: int64"
      ]
     },
     "execution_count": 222,
     "metadata": {},
     "output_type": "execute_result"
    }
   ],
   "source": [
    "first_decile['Number of Employees'].value_counts()"
   ]
  },
  {
   "cell_type": "code",
   "execution_count": 223,
   "metadata": {},
   "outputs": [
    {
     "data": {
      "text/plain": [
       "English       261\n",
       "Spanish         3\n",
       "Portuguese      1\n",
       "Polish          1\n",
       "Name: Language, dtype: int64"
      ]
     },
     "execution_count": 223,
     "metadata": {},
     "output_type": "execute_result"
    }
   ],
   "source": [
    "first_decile['Language'].value_counts()"
   ]
  },
  {
   "cell_type": "code",
   "execution_count": 239,
   "metadata": {},
   "outputs": [
    {
     "data": {
      "text/plain": [
       "1206613.971295238"
      ]
     },
     "execution_count": 239,
     "metadata": {},
     "output_type": "execute_result"
    }
   ],
   "source": [
    "first_decile['Campaign Period Sales'].sum()"
   ]
  },
  {
   "cell_type": "code",
   "execution_count": 238,
   "metadata": {},
   "outputs": [
    {
     "data": {
      "text/html": [
       "<div>\n",
       "<style scoped>\n",
       "    .dataframe tbody tr th:only-of-type {\n",
       "        vertical-align: middle;\n",
       "    }\n",
       "\n",
       "    .dataframe tbody tr th {\n",
       "        vertical-align: top;\n",
       "    }\n",
       "\n",
       "    .dataframe thead th {\n",
       "        text-align: right;\n",
       "    }\n",
       "</style>\n",
       "<table border=\"1\" class=\"dataframe\">\n",
       "  <thead>\n",
       "    <tr style=\"text-align: right;\">\n",
       "      <th></th>\n",
       "      <th>Customer Number</th>\n",
       "      <th>Campaign Period Sales</th>\n",
       "      <th>Historical Sales Volume</th>\n",
       "      <th>Number of Prior Year Transactions</th>\n",
       "      <th>Do Not Direct Mail Solicit</th>\n",
       "      <th>Do Not Email</th>\n",
       "      <th>Do Not Telemarket</th>\n",
       "      <th>Days since First Purchase</th>\n",
       "      <th>Year</th>\n",
       "      <th>Years since First Purchase</th>\n",
       "    </tr>\n",
       "    <tr>\n",
       "      <th>Number of Employees</th>\n",
       "      <th></th>\n",
       "      <th></th>\n",
       "      <th></th>\n",
       "      <th></th>\n",
       "      <th></th>\n",
       "      <th></th>\n",
       "      <th></th>\n",
       "      <th></th>\n",
       "      <th></th>\n",
       "      <th></th>\n",
       "    </tr>\n",
       "  </thead>\n",
       "  <tbody>\n",
       "    <tr>\n",
       "      <th>1-5</th>\n",
       "      <td>1.589876e+07</td>\n",
       "      <td>162.513733</td>\n",
       "      <td>3.132717e+05</td>\n",
       "      <td>17.000000</td>\n",
       "      <td>0.000000</td>\n",
       "      <td>0.083333</td>\n",
       "      <td>0.000000</td>\n",
       "      <td>16656.416667</td>\n",
       "      <td>1974.333333</td>\n",
       "      <td>45.634018</td>\n",
       "    </tr>\n",
       "    <tr>\n",
       "      <th>101-500</th>\n",
       "      <td>1.796078e+07</td>\n",
       "      <td>786.231714</td>\n",
       "      <td>2.001914e+06</td>\n",
       "      <td>17.142857</td>\n",
       "      <td>0.040816</td>\n",
       "      <td>0.122449</td>\n",
       "      <td>0.040816</td>\n",
       "      <td>12613.510204</td>\n",
       "      <td>1985.408163</td>\n",
       "      <td>34.557562</td>\n",
       "    </tr>\n",
       "    <tr>\n",
       "      <th>11-50</th>\n",
       "      <td>1.802135e+07</td>\n",
       "      <td>490.144782</td>\n",
       "      <td>1.044477e+06</td>\n",
       "      <td>18.659091</td>\n",
       "      <td>0.113636</td>\n",
       "      <td>0.159091</td>\n",
       "      <td>0.090909</td>\n",
       "      <td>12055.227273</td>\n",
       "      <td>1986.954545</td>\n",
       "      <td>33.028020</td>\n",
       "    </tr>\n",
       "    <tr>\n",
       "      <th>500+</th>\n",
       "      <td>1.652161e+07</td>\n",
       "      <td>1562.768690</td>\n",
       "      <td>3.272263e+06</td>\n",
       "      <td>17.551724</td>\n",
       "      <td>0.068966</td>\n",
       "      <td>0.068966</td>\n",
       "      <td>0.068966</td>\n",
       "      <td>11909.413793</td>\n",
       "      <td>1987.344828</td>\n",
       "      <td>32.628531</td>\n",
       "    </tr>\n",
       "    <tr>\n",
       "      <th>51-100</th>\n",
       "      <td>1.389708e+07</td>\n",
       "      <td>577.149021</td>\n",
       "      <td>1.293063e+06</td>\n",
       "      <td>18.000000</td>\n",
       "      <td>0.085106</td>\n",
       "      <td>0.191489</td>\n",
       "      <td>0.085106</td>\n",
       "      <td>13359.659574</td>\n",
       "      <td>1983.425532</td>\n",
       "      <td>36.601807</td>\n",
       "    </tr>\n",
       "    <tr>\n",
       "      <th>6-10</th>\n",
       "      <td>1.777296e+07</td>\n",
       "      <td>251.578132</td>\n",
       "      <td>7.097838e+05</td>\n",
       "      <td>19.401639</td>\n",
       "      <td>0.090164</td>\n",
       "      <td>0.229508</td>\n",
       "      <td>0.090164</td>\n",
       "      <td>13300.532787</td>\n",
       "      <td>1983.598361</td>\n",
       "      <td>36.439816</td>\n",
       "    </tr>\n",
       "  </tbody>\n",
       "</table>\n",
       "</div>"
      ],
      "text/plain": [
       "                     Customer Number  Campaign Period Sales  \\\n",
       "Number of Employees                                           \n",
       "1-5                     1.589876e+07             162.513733   \n",
       "101-500                 1.796078e+07             786.231714   \n",
       "11-50                   1.802135e+07             490.144782   \n",
       "500+                    1.652161e+07            1562.768690   \n",
       "51-100                  1.389708e+07             577.149021   \n",
       "6-10                    1.777296e+07             251.578132   \n",
       "\n",
       "                     Historical Sales Volume  \\\n",
       "Number of Employees                            \n",
       "1-5                             3.132717e+05   \n",
       "101-500                         2.001914e+06   \n",
       "11-50                           1.044477e+06   \n",
       "500+                            3.272263e+06   \n",
       "51-100                          1.293063e+06   \n",
       "6-10                            7.097838e+05   \n",
       "\n",
       "                     Number of Prior Year Transactions  \\\n",
       "Number of Employees                                      \n",
       "1-5                                          17.000000   \n",
       "101-500                                      17.142857   \n",
       "11-50                                        18.659091   \n",
       "500+                                         17.551724   \n",
       "51-100                                       18.000000   \n",
       "6-10                                         19.401639   \n",
       "\n",
       "                     Do Not Direct Mail Solicit  Do Not Email  \\\n",
       "Number of Employees                                             \n",
       "1-5                                    0.000000      0.083333   \n",
       "101-500                                0.040816      0.122449   \n",
       "11-50                                  0.113636      0.159091   \n",
       "500+                                   0.068966      0.068966   \n",
       "51-100                                 0.085106      0.191489   \n",
       "6-10                                   0.090164      0.229508   \n",
       "\n",
       "                     Do Not Telemarket  Days since First Purchase  \\\n",
       "Number of Employees                                                 \n",
       "1-5                           0.000000               16656.416667   \n",
       "101-500                       0.040816               12613.510204   \n",
       "11-50                         0.090909               12055.227273   \n",
       "500+                          0.068966               11909.413793   \n",
       "51-100                        0.085106               13359.659574   \n",
       "6-10                          0.090164               13300.532787   \n",
       "\n",
       "                            Year  Years since First Purchase  \n",
       "Number of Employees                                           \n",
       "1-5                  1974.333333                   45.634018  \n",
       "101-500              1985.408163                   34.557562  \n",
       "11-50                1986.954545                   33.028020  \n",
       "500+                 1987.344828                   32.628531  \n",
       "51-100               1983.425532                   36.601807  \n",
       "6-10                 1983.598361                   36.439816  "
      ]
     },
     "execution_count": 238,
     "metadata": {},
     "output_type": "execute_result"
    }
   ],
   "source": [
    "ne_df = first_decile.groupby(['Number of Employees']).mean()\n",
    "ne_df"
   ]
  },
  {
   "cell_type": "code",
   "execution_count": 227,
   "metadata": {},
   "outputs": [],
   "source": [
    "ne_df.to_excel(\"ne_df.xlsx\")"
   ]
  },
  {
   "cell_type": "code",
   "execution_count": 234,
   "metadata": {},
   "outputs": [
    {
     "data": {
      "text/plain": [
       "4825     12.587518\n",
       "12073    12.347160\n",
       "9428     12.180919\n",
       "12705    12.118605\n",
       "7118     12.047305\n",
       "           ...    \n",
       "6683    -15.476086\n",
       "14000   -15.488176\n",
       "6571    -15.510144\n",
       "9019    -15.523819\n",
       "5644    -15.566839\n",
       "Length: 799, dtype: float64"
      ]
     },
     "execution_count": 234,
     "metadata": {},
     "output_type": "execute_result"
    }
   ],
   "source": [
    "second_decile = expected_profit_sorted[800:1599]\n",
    "second_decile"
   ]
  }
 ],
 "metadata": {
  "kernelspec": {
   "display_name": "Python 3",
   "language": "python",
   "name": "python3"
  },
  "language_info": {
   "codemirror_mode": {
    "name": "ipython",
    "version": 3
   },
   "file_extension": ".py",
   "mimetype": "text/x-python",
   "name": "python",
   "nbconvert_exporter": "python",
   "pygments_lexer": "ipython3",
   "version": "3.7.6"
  }
 },
 "nbformat": 4,
 "nbformat_minor": 4
}
